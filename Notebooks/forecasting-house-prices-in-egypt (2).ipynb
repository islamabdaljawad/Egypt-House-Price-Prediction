{
 "cells": [
  {
   "cell_type": "markdown",
   "id": "d0e1b7c2",
   "metadata": {
    "papermill": {
     "duration": 0.010158,
     "end_time": "2025-04-21T01:07:51.338912",
     "exception": false,
     "start_time": "2025-04-21T01:07:51.328754",
     "status": "completed"
    },
    "tags": []
   },
   "source": [
    "# Importing Libraries"
   ]
  },
  {
   "cell_type": "code",
   "execution_count": 1,
   "id": "12998c30",
   "metadata": {
    "execution": {
     "iopub.execute_input": "2025-04-21T01:07:51.358958Z",
     "iopub.status.busy": "2025-04-21T01:07:51.358751Z",
     "iopub.status.idle": "2025-04-21T01:08:02.341289Z",
     "shell.execute_reply": "2025-04-21T01:08:02.340457Z"
    },
    "papermill": {
     "duration": 10.99394,
     "end_time": "2025-04-21T01:08:02.342914",
     "exception": false,
     "start_time": "2025-04-21T01:07:51.348974",
     "status": "completed"
    },
    "tags": []
   },
   "outputs": [
    {
     "name": "stdout",
     "output_type": "stream",
     "text": [
      "Collecting mlflow\r\n",
      "  Downloading mlflow-2.21.3-py3-none-any.whl.metadata (30 kB)\r\n",
      "Collecting mlflow-skinny==2.21.3 (from mlflow)\r\n",
      "  Downloading mlflow_skinny-2.21.3-py3-none-any.whl.metadata (31 kB)\r\n",
      "Requirement already satisfied: Flask<4 in /usr/local/lib/python3.10/dist-packages (from mlflow) (3.1.0)\r\n",
      "Requirement already satisfied: Jinja2<4,>=2.11 in /usr/local/lib/python3.10/dist-packages (from mlflow) (3.1.4)\r\n",
      "Requirement already satisfied: alembic!=1.10.0,<2 in /usr/local/lib/python3.10/dist-packages (from mlflow) (1.14.0)\r\n",
      "Requirement already satisfied: docker<8,>=4.0.0 in /usr/local/lib/python3.10/dist-packages (from mlflow) (7.1.0)\r\n",
      "\u001b[33mWARNING: Retrying (Retry(total=4, connect=None, read=None, redirect=None, status=None)) after connection broken by 'ProtocolError('Connection aborted.', RemoteDisconnected('Remote end closed connection without response'))': /simple/graphene/\u001b[0m\u001b[33m\r\n",
      "\u001b[0mCollecting graphene<4 (from mlflow)\r\n",
      "  Downloading graphene-3.4.3-py2.py3-none-any.whl.metadata (6.9 kB)\r\n",
      "Collecting gunicorn<24 (from mlflow)\r\n",
      "  Downloading gunicorn-23.0.0-py3-none-any.whl.metadata (4.4 kB)\r\n",
      "Requirement already satisfied: markdown<4,>=3.3 in /usr/local/lib/python3.10/dist-packages (from mlflow) (3.7)\r\n",
      "Requirement already satisfied: matplotlib<4 in /usr/local/lib/python3.10/dist-packages (from mlflow) (3.7.5)\r\n",
      "Requirement already satisfied: numpy<3 in /usr/local/lib/python3.10/dist-packages (from mlflow) (1.26.4)\r\n",
      "Requirement already satisfied: pandas<3 in /usr/local/lib/python3.10/dist-packages (from mlflow) (2.2.2)\r\n",
      "Requirement already satisfied: pyarrow<20,>=4.0.0 in /usr/local/lib/python3.10/dist-packages (from mlflow) (17.0.0)\r\n",
      "Requirement already satisfied: scikit-learn<2 in /usr/local/lib/python3.10/dist-packages (from mlflow) (1.2.2)\r\n",
      "Requirement already satisfied: scipy<2 in /usr/local/lib/python3.10/dist-packages (from mlflow) (1.13.1)\r\n",
      "Requirement already satisfied: sqlalchemy<3,>=1.4.0 in /usr/local/lib/python3.10/dist-packages (from mlflow) (2.0.36)\r\n",
      "Requirement already satisfied: cachetools<6,>=5.0.0 in /usr/local/lib/python3.10/dist-packages (from mlflow-skinny==2.21.3->mlflow) (5.5.0)\r\n",
      "Requirement already satisfied: click<9,>=7.0 in /usr/local/lib/python3.10/dist-packages (from mlflow-skinny==2.21.3->mlflow) (8.1.7)\r\n",
      "Requirement already satisfied: cloudpickle<4 in /usr/local/lib/python3.10/dist-packages (from mlflow-skinny==2.21.3->mlflow) (3.1.0)\r\n",
      "Collecting databricks-sdk<1,>=0.20.0 (from mlflow-skinny==2.21.3->mlflow)\r\n",
      "  Downloading databricks_sdk-0.50.0-py3-none-any.whl.metadata (38 kB)\r\n",
      "Collecting fastapi<1 (from mlflow-skinny==2.21.3->mlflow)\r\n",
      "  Downloading fastapi-0.115.12-py3-none-any.whl.metadata (27 kB)\r\n",
      "Requirement already satisfied: gitpython<4,>=3.1.9 in /usr/local/lib/python3.10/dist-packages (from mlflow-skinny==2.21.3->mlflow) (3.1.43)\r\n",
      "Requirement already satisfied: importlib_metadata!=4.7.0,<9,>=3.7.0 in /usr/local/lib/python3.10/dist-packages (from mlflow-skinny==2.21.3->mlflow) (8.5.0)\r\n",
      "Requirement already satisfied: opentelemetry-api<3,>=1.9.0 in /usr/local/lib/python3.10/dist-packages (from mlflow-skinny==2.21.3->mlflow) (1.29.0)\r\n",
      "Requirement already satisfied: opentelemetry-sdk<3,>=1.9.0 in /usr/local/lib/python3.10/dist-packages (from mlflow-skinny==2.21.3->mlflow) (1.29.0)\r\n",
      "Requirement already satisfied: packaging<25 in /usr/local/lib/python3.10/dist-packages (from mlflow-skinny==2.21.3->mlflow) (24.2)\r\n",
      "Requirement already satisfied: protobuf<6,>=3.12.0 in /usr/local/lib/python3.10/dist-packages (from mlflow-skinny==2.21.3->mlflow) (3.20.3)\r\n",
      "Requirement already satisfied: pydantic<3,>=1.10.8 in /usr/local/lib/python3.10/dist-packages (from mlflow-skinny==2.21.3->mlflow) (2.10.3)\r\n",
      "Requirement already satisfied: pyyaml<7,>=5.1 in /usr/local/lib/python3.10/dist-packages (from mlflow-skinny==2.21.3->mlflow) (6.0.2)\r\n",
      "Requirement already satisfied: requests<3,>=2.17.3 in /usr/local/lib/python3.10/dist-packages (from mlflow-skinny==2.21.3->mlflow) (2.32.3)\r\n",
      "Requirement already satisfied: sqlparse<1,>=0.4.0 in /usr/local/lib/python3.10/dist-packages (from mlflow-skinny==2.21.3->mlflow) (0.5.3)\r\n",
      "Requirement already satisfied: typing-extensions<5,>=4.0.0 in /usr/local/lib/python3.10/dist-packages (from mlflow-skinny==2.21.3->mlflow) (4.12.2)\r\n",
      "Collecting uvicorn<1 (from mlflow-skinny==2.21.3->mlflow)\r\n",
      "  Downloading uvicorn-0.34.2-py3-none-any.whl.metadata (6.5 kB)\r\n",
      "Requirement already satisfied: Mako in /usr/local/lib/python3.10/dist-packages (from alembic!=1.10.0,<2->mlflow) (1.3.8)\r\n",
      "Requirement already satisfied: urllib3>=1.26.0 in /usr/local/lib/python3.10/dist-packages (from docker<8,>=4.0.0->mlflow) (2.2.3)\r\n",
      "Requirement already satisfied: Werkzeug>=3.1 in /usr/local/lib/python3.10/dist-packages (from Flask<4->mlflow) (3.1.3)\r\n",
      "Requirement already satisfied: itsdangerous>=2.2 in /usr/local/lib/python3.10/dist-packages (from Flask<4->mlflow) (2.2.0)\r\n",
      "Requirement already satisfied: blinker>=1.9 in /usr/local/lib/python3.10/dist-packages (from Flask<4->mlflow) (1.9.0)\r\n",
      "Collecting graphql-core<3.3,>=3.1 (from graphene<4->mlflow)\r\n",
      "  Downloading graphql_core-3.2.6-py3-none-any.whl.metadata (11 kB)\r\n",
      "Collecting graphql-relay<3.3,>=3.1 (from graphene<4->mlflow)\r\n",
      "  Downloading graphql_relay-3.2.0-py3-none-any.whl.metadata (12 kB)\r\n",
      "Requirement already satisfied: python-dateutil<3,>=2.7.0 in /usr/local/lib/python3.10/dist-packages (from graphene<4->mlflow) (2.8.2)\r\n",
      "Requirement already satisfied: MarkupSafe>=2.0 in /usr/local/lib/python3.10/dist-packages (from Jinja2<4,>=2.11->mlflow) (3.0.2)\r\n",
      "Requirement already satisfied: contourpy>=1.0.1 in /usr/local/lib/python3.10/dist-packages (from matplotlib<4->mlflow) (1.3.1)\r\n",
      "Requirement already satisfied: cycler>=0.10 in /usr/local/lib/python3.10/dist-packages (from matplotlib<4->mlflow) (0.12.1)\r\n",
      "Requirement already satisfied: fonttools>=4.22.0 in /usr/local/lib/python3.10/dist-packages (from matplotlib<4->mlflow) (4.55.3)\r\n",
      "Requirement already satisfied: kiwisolver>=1.0.1 in /usr/local/lib/python3.10/dist-packages (from matplotlib<4->mlflow) (1.4.7)\r\n",
      "Requirement already satisfied: pillow>=6.2.0 in /usr/local/lib/python3.10/dist-packages (from matplotlib<4->mlflow) (11.0.0)\r\n",
      "Requirement already satisfied: pyparsing>=2.3.1 in /usr/local/lib/python3.10/dist-packages (from matplotlib<4->mlflow) (3.2.0)\r\n",
      "Requirement already satisfied: mkl_fft in /usr/local/lib/python3.10/dist-packages (from numpy<3->mlflow) (1.3.8)\r\n",
      "Requirement already satisfied: mkl_random in /usr/local/lib/python3.10/dist-packages (from numpy<3->mlflow) (1.2.4)\r\n",
      "Requirement already satisfied: mkl_umath in /usr/local/lib/python3.10/dist-packages (from numpy<3->mlflow) (0.1.1)\r\n",
      "Requirement already satisfied: mkl in /usr/local/lib/python3.10/dist-packages (from numpy<3->mlflow) (2025.0.1)\r\n",
      "Requirement already satisfied: tbb4py in /usr/local/lib/python3.10/dist-packages (from numpy<3->mlflow) (2022.0.0)\r\n",
      "Requirement already satisfied: mkl-service in /usr/local/lib/python3.10/dist-packages (from numpy<3->mlflow) (2.4.1)\r\n",
      "Requirement already satisfied: pytz>=2020.1 in /usr/local/lib/python3.10/dist-packages (from pandas<3->mlflow) (2024.2)\r\n",
      "Requirement already satisfied: tzdata>=2022.7 in /usr/local/lib/python3.10/dist-packages (from pandas<3->mlflow) (2024.2)\r\n",
      "Requirement already satisfied: joblib>=1.1.1 in /usr/local/lib/python3.10/dist-packages (from scikit-learn<2->mlflow) (1.4.2)\r\n",
      "Requirement already satisfied: threadpoolctl>=2.0.0 in /usr/local/lib/python3.10/dist-packages (from scikit-learn<2->mlflow) (3.5.0)\r\n",
      "Requirement already satisfied: greenlet!=0.4.17 in /usr/local/lib/python3.10/dist-packages (from sqlalchemy<3,>=1.4.0->mlflow) (3.1.1)\r\n",
      "Requirement already satisfied: google-auth~=2.0 in /usr/local/lib/python3.10/dist-packages (from databricks-sdk<1,>=0.20.0->mlflow-skinny==2.21.3->mlflow) (2.27.0)\r\n",
      "Collecting starlette<0.47.0,>=0.40.0 (from fastapi<1->mlflow-skinny==2.21.3->mlflow)\r\n",
      "  Downloading starlette-0.46.2-py3-none-any.whl.metadata (6.2 kB)\r\n",
      "Requirement already satisfied: gitdb<5,>=4.0.1 in /usr/local/lib/python3.10/dist-packages (from gitpython<4,>=3.1.9->mlflow-skinny==2.21.3->mlflow) (4.0.11)\r\n",
      "Requirement already satisfied: zipp>=3.20 in /usr/local/lib/python3.10/dist-packages (from importlib_metadata!=4.7.0,<9,>=3.7.0->mlflow-skinny==2.21.3->mlflow) (3.21.0)\r\n",
      "Requirement already satisfied: deprecated>=1.2.6 in /usr/local/lib/python3.10/dist-packages (from opentelemetry-api<3,>=1.9.0->mlflow-skinny==2.21.3->mlflow) (1.2.15)\r\n",
      "Requirement already satisfied: opentelemetry-semantic-conventions==0.50b0 in /usr/local/lib/python3.10/dist-packages (from opentelemetry-sdk<3,>=1.9.0->mlflow-skinny==2.21.3->mlflow) (0.50b0)\r\n",
      "Requirement already satisfied: annotated-types>=0.6.0 in /usr/local/lib/python3.10/dist-packages (from pydantic<3,>=1.10.8->mlflow-skinny==2.21.3->mlflow) (0.7.0)\r\n",
      "Requirement already satisfied: pydantic-core==2.27.1 in /usr/local/lib/python3.10/dist-packages (from pydantic<3,>=1.10.8->mlflow-skinny==2.21.3->mlflow) (2.27.1)\r\n",
      "Requirement already satisfied: six>=1.5 in /usr/local/lib/python3.10/dist-packages (from python-dateutil<3,>=2.7.0->graphene<4->mlflow) (1.17.0)\r\n",
      "Requirement already satisfied: charset-normalizer<4,>=2 in /usr/local/lib/python3.10/dist-packages (from requests<3,>=2.17.3->mlflow-skinny==2.21.3->mlflow) (3.4.0)\r\n",
      "Requirement already satisfied: idna<4,>=2.5 in /usr/local/lib/python3.10/dist-packages (from requests<3,>=2.17.3->mlflow-skinny==2.21.3->mlflow) (3.10)\r\n",
      "Requirement already satisfied: certifi>=2017.4.17 in /usr/local/lib/python3.10/dist-packages (from requests<3,>=2.17.3->mlflow-skinny==2.21.3->mlflow) (2024.12.14)\r\n",
      "Requirement already satisfied: h11>=0.8 in /usr/local/lib/python3.10/dist-packages (from uvicorn<1->mlflow-skinny==2.21.3->mlflow) (0.14.0)\r\n",
      "Requirement already satisfied: intel-openmp>=2024 in /usr/local/lib/python3.10/dist-packages (from mkl->numpy<3->mlflow) (2024.2.0)\r\n",
      "Requirement already satisfied: tbb==2022.* in /usr/local/lib/python3.10/dist-packages (from mkl->numpy<3->mlflow) (2022.0.0)\r\n",
      "Requirement already satisfied: tcmlib==1.* in /usr/local/lib/python3.10/dist-packages (from tbb==2022.*->mkl->numpy<3->mlflow) (1.2.0)\r\n",
      "Requirement already satisfied: intel-cmplr-lib-rt in /usr/local/lib/python3.10/dist-packages (from mkl_umath->numpy<3->mlflow) (2024.2.0)\r\n",
      "Requirement already satisfied: wrapt<2,>=1.10 in /usr/local/lib/python3.10/dist-packages (from deprecated>=1.2.6->opentelemetry-api<3,>=1.9.0->mlflow-skinny==2.21.3->mlflow) (1.17.0)\r\n",
      "Requirement already satisfied: smmap<6,>=3.0.1 in /usr/local/lib/python3.10/dist-packages (from gitdb<5,>=4.0.1->gitpython<4,>=3.1.9->mlflow-skinny==2.21.3->mlflow) (5.0.1)\r\n",
      "Requirement already satisfied: pyasn1-modules>=0.2.1 in /usr/local/lib/python3.10/dist-packages (from google-auth~=2.0->databricks-sdk<1,>=0.20.0->mlflow-skinny==2.21.3->mlflow) (0.4.1)\r\n",
      "Requirement already satisfied: rsa<5,>=3.1.4 in /usr/local/lib/python3.10/dist-packages (from google-auth~=2.0->databricks-sdk<1,>=0.20.0->mlflow-skinny==2.21.3->mlflow) (4.9)\r\n",
      "Requirement already satisfied: intel-cmplr-lib-ur==2024.2.0 in /usr/local/lib/python3.10/dist-packages (from intel-openmp>=2024->mkl->numpy<3->mlflow) (2024.2.0)\r\n",
      "Requirement already satisfied: anyio<5,>=3.6.2 in /usr/local/lib/python3.10/dist-packages (from starlette<0.47.0,>=0.40.0->fastapi<1->mlflow-skinny==2.21.3->mlflow) (3.7.1)\r\n",
      "Requirement already satisfied: sniffio>=1.1 in /usr/local/lib/python3.10/dist-packages (from anyio<5,>=3.6.2->starlette<0.47.0,>=0.40.0->fastapi<1->mlflow-skinny==2.21.3->mlflow) (1.3.1)\r\n",
      "Requirement already satisfied: exceptiongroup in /usr/local/lib/python3.10/dist-packages (from anyio<5,>=3.6.2->starlette<0.47.0,>=0.40.0->fastapi<1->mlflow-skinny==2.21.3->mlflow) (1.2.2)\r\n",
      "Requirement already satisfied: pyasn1<0.7.0,>=0.4.6 in /usr/local/lib/python3.10/dist-packages (from pyasn1-modules>=0.2.1->google-auth~=2.0->databricks-sdk<1,>=0.20.0->mlflow-skinny==2.21.3->mlflow) (0.6.1)\r\n",
      "Downloading mlflow-2.21.3-py3-none-any.whl (28.2 MB)\r\n",
      "\u001b[2K   \u001b[90m━━━━━━━━━━━━━━━━━━━━━━━━━━━━━━━━━━━━━━━━\u001b[0m \u001b[32m28.2/28.2 MB\u001b[0m \u001b[31m60.3 MB/s\u001b[0m eta \u001b[36m0:00:00\u001b[0m\r\n",
      "\u001b[?25hDownloading mlflow_skinny-2.21.3-py3-none-any.whl (6.1 MB)\r\n",
      "\u001b[2K   \u001b[90m━━━━━━━━━━━━━━━━━━━━━━━━━━━━━━━━━━━━━━━━\u001b[0m \u001b[32m6.1/6.1 MB\u001b[0m \u001b[31m84.1 MB/s\u001b[0m eta \u001b[36m0:00:00\u001b[0m\r\n",
      "\u001b[?25hDownloading graphene-3.4.3-py2.py3-none-any.whl (114 kB)\r\n",
      "\u001b[2K   \u001b[90m━━━━━━━━━━━━━━━━━━━━━━━━━━━━━━━━━━━━━━━━\u001b[0m \u001b[32m114.9/114.9 kB\u001b[0m \u001b[31m8.3 MB/s\u001b[0m eta \u001b[36m0:00:00\u001b[0m\r\n",
      "\u001b[?25hDownloading gunicorn-23.0.0-py3-none-any.whl (85 kB)\r\n",
      "\u001b[2K   \u001b[90m━━━━━━━━━━━━━━━━━━━━━━━━━━━━━━━━━━━━━━━━\u001b[0m \u001b[32m85.0/85.0 kB\u001b[0m \u001b[31m5.0 MB/s\u001b[0m eta \u001b[36m0:00:00\u001b[0m\r\n",
      "\u001b[?25hDownloading databricks_sdk-0.50.0-py3-none-any.whl (692 kB)\r\n",
      "\u001b[2K   \u001b[90m━━━━━━━━━━━━━━━━━━━━━━━━━━━━━━━━━━━━━━━━\u001b[0m \u001b[32m692.3/692.3 kB\u001b[0m \u001b[31m42.2 MB/s\u001b[0m eta \u001b[36m0:00:00\u001b[0m\r\n",
      "\u001b[?25hDownloading fastapi-0.115.12-py3-none-any.whl (95 kB)\r\n",
      "\u001b[2K   \u001b[90m━━━━━━━━━━━━━━━━━━━━━━━━━━━━━━━━━━━━━━━━\u001b[0m \u001b[32m95.2/95.2 kB\u001b[0m \u001b[31m6.6 MB/s\u001b[0m eta \u001b[36m0:00:00\u001b[0m\r\n",
      "\u001b[?25hDownloading graphql_core-3.2.6-py3-none-any.whl (203 kB)\r\n",
      "\u001b[2K   \u001b[90m━━━━━━━━━━━━━━━━━━━━━━━━━━━━━━━━━━━━━━━━\u001b[0m \u001b[32m203.4/203.4 kB\u001b[0m \u001b[31m15.7 MB/s\u001b[0m eta \u001b[36m0:00:00\u001b[0m\r\n",
      "\u001b[?25hDownloading graphql_relay-3.2.0-py3-none-any.whl (16 kB)\r\n",
      "Downloading uvicorn-0.34.2-py3-none-any.whl (62 kB)\r\n",
      "\u001b[2K   \u001b[90m━━━━━━━━━━━━━━━━━━━━━━━━━━━━━━━━━━━━━━━━\u001b[0m \u001b[32m62.5/62.5 kB\u001b[0m \u001b[31m4.7 MB/s\u001b[0m eta \u001b[36m0:00:00\u001b[0m\r\n",
      "\u001b[?25hDownloading starlette-0.46.2-py3-none-any.whl (72 kB)\r\n",
      "\u001b[2K   \u001b[90m━━━━━━━━━━━━━━━━━━━━━━━━━━━━━━━━━━━━━━━━\u001b[0m \u001b[32m72.0/72.0 kB\u001b[0m \u001b[31m6.6 MB/s\u001b[0m eta \u001b[36m0:00:00\u001b[0m\r\n",
      "\u001b[?25hInstalling collected packages: uvicorn, gunicorn, graphql-core, starlette, graphql-relay, graphene, fastapi, databricks-sdk, mlflow-skinny, mlflow\r\n",
      "Successfully installed databricks-sdk-0.50.0 fastapi-0.115.12 graphene-3.4.3 graphql-core-3.2.6 graphql-relay-3.2.0 gunicorn-23.0.0 mlflow-2.21.3 mlflow-skinny-2.21.3 starlette-0.46.2 uvicorn-0.34.2\r\n"
     ]
    }
   ],
   "source": [
    "!pip install mlflow"
   ]
  },
  {
   "cell_type": "code",
   "execution_count": 2,
   "id": "1450c32b",
   "metadata": {
    "execution": {
     "iopub.execute_input": "2025-04-21T01:08:02.366696Z",
     "iopub.status.busy": "2025-04-21T01:08:02.366422Z",
     "iopub.status.idle": "2025-04-21T01:08:21.290306Z",
     "shell.execute_reply": "2025-04-21T01:08:21.289344Z"
    },
    "papermill": {
     "duration": 18.93691,
     "end_time": "2025-04-21T01:08:21.291655",
     "exception": false,
     "start_time": "2025-04-21T01:08:02.354745",
     "status": "completed"
    },
    "tags": []
   },
   "outputs": [
    {
     "name": "stdout",
     "output_type": "stream",
     "text": [
      "3.10.12\n",
      "GPU Available: True\n",
      "Using GPU-accelerated libraries.\n"
     ]
    }
   ],
   "source": [
    "import pandas as pd\n",
    "import numpy as np\n",
    "from sklearn.pipeline import Pipeline\n",
    "from sklearn.compose import ColumnTransformer\n",
    "from sklearn.model_selection import  GridSearchCV\n",
    "from sklearn.ensemble import GradientBoostingRegressor\n",
    "from sklearn.metrics import mean_squared_error, r2_score\n",
    "import joblib\n",
    "from sklearn.impute import SimpleImputer\n",
    "from sklearn.model_selection import train_test_split\n",
    "import category_encoders as ce\n",
    "import dill\n",
    "from sklearn.decomposition import PCA\n",
    "\n",
    "import mlflow\n",
    "import mlflow.sklearn\n",
    "\n",
    "# pip install --upgruad scikit-learn\n",
    "import platform\n",
    "print(platform.python_version())\n",
    "\n",
    "\n",
    "# Check for GPU availability\n",
    "try:\n",
    "    import torch\n",
    "    GPU_AVAILABLE = torch.cuda.is_available()\n",
    "    # GPU_AVAILABLE=False\n",
    "    print(f\"GPU Available: {GPU_AVAILABLE}\")\n",
    "except ImportError:\n",
    "    GPU_AVAILABLE = False\n",
    "    print(\"PyTorch not installed; assuming no GPU support.\")\n",
    "\n",
    "# GPU-Compatible Libraries\n",
    "if GPU_AVAILABLE:\n",
    "    from cuml.ensemble import RandomForestRegressor\n",
    "    from cuml.svm import SVR\n",
    "    from xgboost import XGBRegressor\n",
    "    from lightgbm import LGBMRegressor\n",
    "    from cuml.preprocessing import PolynomialFeatures\n",
    "    from cuml.linear_model import LinearRegression\n",
    "    from cuml.preprocessing import StandardScaler, OneHotEncoder\n",
    "    \n",
    "    print(\"Using GPU-accelerated libraries.\")\n",
    "else:\n",
    "    from sklearn.ensemble import RandomForestRegressor\n",
    "    from sklearn.svm import SVR\n",
    "    from xgboost import XGBRegressor\n",
    "    from lightgbm import LGBMRegressor\n",
    "    from sklearn.preprocessing import StandardScaler, OneHotEncoder\n",
    "    from sklearn.preprocessing import PolynomialFeatures\n",
    "    from sklearn.linear_model import LinearRegression\n",
    "   \n",
    "    import sklearn\n",
    "    # from sklearn.model_selection import train_test_split\n",
    "    print(\"Using CPU-based libraries.\")"
   ]
  },
  {
   "cell_type": "markdown",
   "id": "47c2eb1e",
   "metadata": {
    "_kg_hide-output": true,
    "papermill": {
     "duration": 0.010937,
     "end_time": "2025-04-21T01:08:21.314357",
     "exception": false,
     "start_time": "2025-04-21T01:08:21.303420",
     "status": "completed"
    },
    "tags": []
   },
   "source": [
    "# Data Preparation"
   ]
  },
  {
   "cell_type": "code",
   "execution_count": 3,
   "id": "68297ae3",
   "metadata": {
    "execution": {
     "iopub.execute_input": "2025-04-21T01:08:21.337529Z",
     "iopub.status.busy": "2025-04-21T01:08:21.337303Z",
     "iopub.status.idle": "2025-04-21T01:08:21.438227Z",
     "shell.execute_reply": "2025-04-21T01:08:21.437562Z"
    },
    "papermill": {
     "duration": 0.114206,
     "end_time": "2025-04-21T01:08:21.439630",
     "exception": false,
     "start_time": "2025-04-21T01:08:21.325424",
     "status": "completed"
    },
    "tags": []
   },
   "outputs": [],
   "source": [
    "# Load the data\n",
    "file_path = '/kaggle/input/data-property-v5/Egypt_Houses_Price_Cleaned.csv'\n",
    "df = pd.read_csv(file_path)  "
   ]
  },
  {
   "cell_type": "code",
   "execution_count": 4,
   "id": "987e9270",
   "metadata": {
    "execution": {
     "iopub.execute_input": "2025-04-21T01:08:21.463078Z",
     "iopub.status.busy": "2025-04-21T01:08:21.462854Z",
     "iopub.status.idle": "2025-04-21T01:08:21.501788Z",
     "shell.execute_reply": "2025-04-21T01:08:21.500815Z"
    },
    "papermill": {
     "duration": 0.051965,
     "end_time": "2025-04-21T01:08:21.503079",
     "exception": false,
     "start_time": "2025-04-21T01:08:21.451114",
     "status": "completed"
    },
    "tags": []
   },
   "outputs": [
    {
     "name": "stdout",
     "output_type": "stream",
     "text": [
      "<class 'pandas.core.frame.DataFrame'>\n",
      "RangeIndex: 20591 entries, 0 to 20590\n",
      "Data columns (total 17 columns):\n",
      " #   Column          Non-Null Count  Dtype  \n",
      "---  ------          --------------  -----  \n",
      " 0   Type            20591 non-null  object \n",
      " 1   Price           20591 non-null  float64\n",
      " 2   Bedrooms        20591 non-null  float64\n",
      " 3   Bathrooms       20591 non-null  float64\n",
      " 4   Area            20591 non-null  float64\n",
      " 5   Furnished       20591 non-null  object \n",
      " 6   Level           20591 non-null  float64\n",
      " 7   Compound        20591 non-null  object \n",
      " 8   Payment_Option  20591 non-null  object \n",
      " 9   Delivery_Date   20591 non-null  float64\n",
      " 10  Delivery_Term   20591 non-null  object \n",
      " 11  City            20591 non-null  object \n",
      " 12  Price_Category  20591 non-null  object \n",
      " 13  Area_Category   20591 non-null  object \n",
      " 14  Price_per_sqm   20591 non-null  float64\n",
      " 15  in_Compound     20591 non-null  int64  \n",
      " 16  Immediate_Move  20591 non-null  int64  \n",
      "dtypes: float64(7), int64(2), object(8)\n",
      "memory usage: 2.7+ MB\n"
     ]
    }
   ],
   "source": [
    "df.info()"
   ]
  },
  {
   "cell_type": "code",
   "execution_count": 5,
   "id": "09bba718",
   "metadata": {
    "execution": {
     "iopub.execute_input": "2025-04-21T01:08:21.526382Z",
     "iopub.status.busy": "2025-04-21T01:08:21.526162Z",
     "iopub.status.idle": "2025-04-21T01:08:21.544316Z",
     "shell.execute_reply": "2025-04-21T01:08:21.543703Z"
    },
    "papermill": {
     "duration": 0.030835,
     "end_time": "2025-04-21T01:08:21.545515",
     "exception": false,
     "start_time": "2025-04-21T01:08:21.514680",
     "status": "completed"
    },
    "tags": []
   },
   "outputs": [
    {
     "data": {
      "text/plain": [
       "Type                 7\n",
       "Price             3429\n",
       "Bedrooms             8\n",
       "Bathrooms            8\n",
       "Area               726\n",
       "Furnished            3\n",
       "Level               17\n",
       "Compound           539\n",
       "Payment_Option       4\n",
       "Delivery_Date       19\n",
       "Delivery_Term        5\n",
       "City               175\n",
       "Price_Category       6\n",
       "Area_Category        4\n",
       "Price_per_sqm     9265\n",
       "in_Compound          2\n",
       "Immediate_Move       2\n",
       "dtype: int64"
      ]
     },
     "execution_count": 5,
     "metadata": {},
     "output_type": "execute_result"
    }
   ],
   "source": [
    "df.nunique()"
   ]
  },
  {
   "cell_type": "code",
   "execution_count": 6,
   "id": "8b7b1f35",
   "metadata": {
    "execution": {
     "iopub.execute_input": "2025-04-21T01:08:21.568486Z",
     "iopub.status.busy": "2025-04-21T01:08:21.568276Z",
     "iopub.status.idle": "2025-04-21T01:08:21.586801Z",
     "shell.execute_reply": "2025-04-21T01:08:21.586058Z"
    },
    "papermill": {
     "duration": 0.031344,
     "end_time": "2025-04-21T01:08:21.588061",
     "exception": false,
     "start_time": "2025-04-21T01:08:21.556717",
     "status": "completed"
    },
    "tags": []
   },
   "outputs": [
    {
     "data": {
      "text/html": [
       "<div>\n",
       "<style scoped>\n",
       "    .dataframe tbody tr th:only-of-type {\n",
       "        vertical-align: middle;\n",
       "    }\n",
       "\n",
       "    .dataframe tbody tr th {\n",
       "        vertical-align: top;\n",
       "    }\n",
       "\n",
       "    .dataframe thead th {\n",
       "        text-align: right;\n",
       "    }\n",
       "</style>\n",
       "<table border=\"1\" class=\"dataframe\">\n",
       "  <thead>\n",
       "    <tr style=\"text-align: right;\">\n",
       "      <th></th>\n",
       "      <th>Type</th>\n",
       "      <th>Price</th>\n",
       "      <th>Bedrooms</th>\n",
       "      <th>Bathrooms</th>\n",
       "      <th>Area</th>\n",
       "      <th>Furnished</th>\n",
       "      <th>Level</th>\n",
       "      <th>Compound</th>\n",
       "      <th>Payment_Option</th>\n",
       "      <th>Delivery_Date</th>\n",
       "      <th>Delivery_Term</th>\n",
       "      <th>City</th>\n",
       "      <th>Price_Category</th>\n",
       "      <th>Area_Category</th>\n",
       "      <th>Price_per_sqm</th>\n",
       "      <th>in_Compound</th>\n",
       "      <th>Immediate_Move</th>\n",
       "    </tr>\n",
       "  </thead>\n",
       "  <tbody>\n",
       "    <tr>\n",
       "      <th>0</th>\n",
       "      <td>Duplex</td>\n",
       "      <td>4000000.0</td>\n",
       "      <td>3.0</td>\n",
       "      <td>3.0</td>\n",
       "      <td>400.0</td>\n",
       "      <td>No</td>\n",
       "      <td>7.0</td>\n",
       "      <td>Unknown</td>\n",
       "      <td>Cash</td>\n",
       "      <td>0.0</td>\n",
       "      <td>Finished</td>\n",
       "      <td>Nasr City</td>\n",
       "      <td>Premium</td>\n",
       "      <td>Very Large</td>\n",
       "      <td>10000.000000</td>\n",
       "      <td>0</td>\n",
       "      <td>1</td>\n",
       "    </tr>\n",
       "    <tr>\n",
       "      <th>1</th>\n",
       "      <td>Apartment</td>\n",
       "      <td>4000000.0</td>\n",
       "      <td>3.0</td>\n",
       "      <td>3.0</td>\n",
       "      <td>160.0</td>\n",
       "      <td>No</td>\n",
       "      <td>10.0</td>\n",
       "      <td>Unknown</td>\n",
       "      <td>Cash</td>\n",
       "      <td>0.0</td>\n",
       "      <td>Finished</td>\n",
       "      <td>Camp Caesar</td>\n",
       "      <td>Premium</td>\n",
       "      <td>Medium</td>\n",
       "      <td>25000.000000</td>\n",
       "      <td>0</td>\n",
       "      <td>1</td>\n",
       "    </tr>\n",
       "    <tr>\n",
       "      <th>2</th>\n",
       "      <td>Apartment</td>\n",
       "      <td>2250000.0</td>\n",
       "      <td>3.0</td>\n",
       "      <td>2.0</td>\n",
       "      <td>165.0</td>\n",
       "      <td>No</td>\n",
       "      <td>1.0</td>\n",
       "      <td>Unknown</td>\n",
       "      <td>Cash</td>\n",
       "      <td>0.0</td>\n",
       "      <td>Finished</td>\n",
       "      <td>Smoha</td>\n",
       "      <td>Premium</td>\n",
       "      <td>Large</td>\n",
       "      <td>13636.363636</td>\n",
       "      <td>0</td>\n",
       "      <td>1</td>\n",
       "    </tr>\n",
       "    <tr>\n",
       "      <th>3</th>\n",
       "      <td>Apartment</td>\n",
       "      <td>1900000.0</td>\n",
       "      <td>3.0</td>\n",
       "      <td>2.0</td>\n",
       "      <td>230.0</td>\n",
       "      <td>No</td>\n",
       "      <td>10.0</td>\n",
       "      <td>Unknown</td>\n",
       "      <td>Cash</td>\n",
       "      <td>0.0</td>\n",
       "      <td>Finished</td>\n",
       "      <td>Nasr City</td>\n",
       "      <td>Premium</td>\n",
       "      <td>Large</td>\n",
       "      <td>8260.869565</td>\n",
       "      <td>0</td>\n",
       "      <td>1</td>\n",
       "    </tr>\n",
       "    <tr>\n",
       "      <th>4</th>\n",
       "      <td>Apartment</td>\n",
       "      <td>1844900.0</td>\n",
       "      <td>4.0</td>\n",
       "      <td>3.0</td>\n",
       "      <td>222.0</td>\n",
       "      <td>No</td>\n",
       "      <td>1.0</td>\n",
       "      <td>Beit Al Watan</td>\n",
       "      <td>Cash or Installment</td>\n",
       "      <td>36.0</td>\n",
       "      <td>Semi Finished</td>\n",
       "      <td>New Cairo - El Tagamoa</td>\n",
       "      <td>Premium</td>\n",
       "      <td>Large</td>\n",
       "      <td>8310.360360</td>\n",
       "      <td>1</td>\n",
       "      <td>0</td>\n",
       "    </tr>\n",
       "  </tbody>\n",
       "</table>\n",
       "</div>"
      ],
      "text/plain": [
       "        Type      Price  Bedrooms  Bathrooms   Area Furnished  Level  \\\n",
       "0     Duplex  4000000.0       3.0        3.0  400.0        No    7.0   \n",
       "1  Apartment  4000000.0       3.0        3.0  160.0        No   10.0   \n",
       "2  Apartment  2250000.0       3.0        2.0  165.0        No    1.0   \n",
       "3  Apartment  1900000.0       3.0        2.0  230.0        No   10.0   \n",
       "4  Apartment  1844900.0       4.0        3.0  222.0        No    1.0   \n",
       "\n",
       "        Compound       Payment_Option  Delivery_Date  Delivery_Term  \\\n",
       "0        Unknown                 Cash            0.0       Finished   \n",
       "1        Unknown                 Cash            0.0       Finished   \n",
       "2        Unknown                 Cash            0.0       Finished   \n",
       "3        Unknown                 Cash            0.0       Finished   \n",
       "4  Beit Al Watan  Cash or Installment           36.0  Semi Finished   \n",
       "\n",
       "                     City Price_Category Area_Category  Price_per_sqm  \\\n",
       "0               Nasr City        Premium    Very Large   10000.000000   \n",
       "1             Camp Caesar        Premium        Medium   25000.000000   \n",
       "2                   Smoha        Premium         Large   13636.363636   \n",
       "3               Nasr City        Premium         Large    8260.869565   \n",
       "4  New Cairo - El Tagamoa        Premium         Large    8310.360360   \n",
       "\n",
       "   in_Compound  Immediate_Move  \n",
       "0            0               1  \n",
       "1            0               1  \n",
       "2            0               1  \n",
       "3            0               1  \n",
       "4            1               0  "
      ]
     },
     "execution_count": 6,
     "metadata": {},
     "output_type": "execute_result"
    }
   ],
   "source": [
    "df.head()\n"
   ]
  },
  {
   "cell_type": "code",
   "execution_count": 7,
   "id": "bc9e8b1b",
   "metadata": {
    "execution": {
     "iopub.execute_input": "2025-04-21T01:08:21.611778Z",
     "iopub.status.busy": "2025-04-21T01:08:21.611534Z",
     "iopub.status.idle": "2025-04-21T01:08:21.617178Z",
     "shell.execute_reply": "2025-04-21T01:08:21.616640Z"
    },
    "papermill": {
     "duration": 0.01853,
     "end_time": "2025-04-21T01:08:21.618331",
     "exception": false,
     "start_time": "2025-04-21T01:08:21.599801",
     "status": "completed"
    },
    "tags": []
   },
   "outputs": [],
   "source": [
    "# df=df.drop(['Unnamed: 0','price'],axis=1)\n",
    "df=df.drop([\"Price_Category\",\"Price_per_sqm\",\"Area_Category\",\"in_Compound\",\"Immediate_Move\"],axis=1)"
   ]
  },
  {
   "cell_type": "code",
   "execution_count": 8,
   "id": "8c068cbc",
   "metadata": {
    "execution": {
     "iopub.execute_input": "2025-04-21T01:08:21.641898Z",
     "iopub.status.busy": "2025-04-21T01:08:21.641703Z",
     "iopub.status.idle": "2025-04-21T01:08:21.651983Z",
     "shell.execute_reply": "2025-04-21T01:08:21.651317Z"
    },
    "papermill": {
     "duration": 0.023331,
     "end_time": "2025-04-21T01:08:21.653159",
     "exception": false,
     "start_time": "2025-04-21T01:08:21.629828",
     "status": "completed"
    },
    "tags": []
   },
   "outputs": [
    {
     "data": {
      "text/plain": [
       "Type              0\n",
       "Price             0\n",
       "Bedrooms          0\n",
       "Bathrooms         0\n",
       "Area              0\n",
       "Furnished         0\n",
       "Level             0\n",
       "Compound          0\n",
       "Payment_Option    0\n",
       "Delivery_Date     0\n",
       "Delivery_Term     0\n",
       "City              0\n",
       "dtype: int64"
      ]
     },
     "execution_count": 8,
     "metadata": {},
     "output_type": "execute_result"
    }
   ],
   "source": [
    "df.isnull().sum()"
   ]
  },
  {
   "cell_type": "code",
   "execution_count": 9,
   "id": "a6361cbf",
   "metadata": {
    "execution": {
     "iopub.execute_input": "2025-04-21T01:08:21.677143Z",
     "iopub.status.busy": "2025-04-21T01:08:21.676923Z",
     "iopub.status.idle": "2025-04-21T01:08:21.691604Z",
     "shell.execute_reply": "2025-04-21T01:08:21.690849Z"
    },
    "papermill": {
     "duration": 0.027884,
     "end_time": "2025-04-21T01:08:21.692877",
     "exception": false,
     "start_time": "2025-04-21T01:08:21.664993",
     "status": "completed"
    },
    "tags": []
   },
   "outputs": [],
   "source": [
    "# Log transformation\n",
    "df[\"Log_Price\"] = np.log1p(df[\"Price\"])"
   ]
  },
  {
   "cell_type": "code",
   "execution_count": 10,
   "id": "eb8a5d78",
   "metadata": {
    "execution": {
     "iopub.execute_input": "2025-04-21T01:08:21.716386Z",
     "iopub.status.busy": "2025-04-21T01:08:21.716162Z",
     "iopub.status.idle": "2025-04-21T01:08:21.728841Z",
     "shell.execute_reply": "2025-04-21T01:08:21.728184Z"
    },
    "papermill": {
     "duration": 0.025797,
     "end_time": "2025-04-21T01:08:21.730029",
     "exception": false,
     "start_time": "2025-04-21T01:08:21.704232",
     "status": "completed"
    },
    "tags": []
   },
   "outputs": [
    {
     "data": {
      "text/html": [
       "<div>\n",
       "<style scoped>\n",
       "    .dataframe tbody tr th:only-of-type {\n",
       "        vertical-align: middle;\n",
       "    }\n",
       "\n",
       "    .dataframe tbody tr th {\n",
       "        vertical-align: top;\n",
       "    }\n",
       "\n",
       "    .dataframe thead th {\n",
       "        text-align: right;\n",
       "    }\n",
       "</style>\n",
       "<table border=\"1\" class=\"dataframe\">\n",
       "  <thead>\n",
       "    <tr style=\"text-align: right;\">\n",
       "      <th></th>\n",
       "      <th>Type</th>\n",
       "      <th>Price</th>\n",
       "      <th>Bedrooms</th>\n",
       "      <th>Bathrooms</th>\n",
       "      <th>Area</th>\n",
       "      <th>Furnished</th>\n",
       "      <th>Level</th>\n",
       "      <th>Compound</th>\n",
       "      <th>Payment_Option</th>\n",
       "      <th>Delivery_Date</th>\n",
       "      <th>Delivery_Term</th>\n",
       "      <th>City</th>\n",
       "      <th>Log_Price</th>\n",
       "    </tr>\n",
       "  </thead>\n",
       "  <tbody>\n",
       "    <tr>\n",
       "      <th>0</th>\n",
       "      <td>Duplex</td>\n",
       "      <td>4000000.0</td>\n",
       "      <td>3.0</td>\n",
       "      <td>3.0</td>\n",
       "      <td>400.0</td>\n",
       "      <td>No</td>\n",
       "      <td>7.0</td>\n",
       "      <td>Unknown</td>\n",
       "      <td>Cash</td>\n",
       "      <td>0.0</td>\n",
       "      <td>Finished</td>\n",
       "      <td>Nasr City</td>\n",
       "      <td>15.201805</td>\n",
       "    </tr>\n",
       "    <tr>\n",
       "      <th>1</th>\n",
       "      <td>Apartment</td>\n",
       "      <td>4000000.0</td>\n",
       "      <td>3.0</td>\n",
       "      <td>3.0</td>\n",
       "      <td>160.0</td>\n",
       "      <td>No</td>\n",
       "      <td>10.0</td>\n",
       "      <td>Unknown</td>\n",
       "      <td>Cash</td>\n",
       "      <td>0.0</td>\n",
       "      <td>Finished</td>\n",
       "      <td>Camp Caesar</td>\n",
       "      <td>15.201805</td>\n",
       "    </tr>\n",
       "    <tr>\n",
       "      <th>2</th>\n",
       "      <td>Apartment</td>\n",
       "      <td>2250000.0</td>\n",
       "      <td>3.0</td>\n",
       "      <td>2.0</td>\n",
       "      <td>165.0</td>\n",
       "      <td>No</td>\n",
       "      <td>1.0</td>\n",
       "      <td>Unknown</td>\n",
       "      <td>Cash</td>\n",
       "      <td>0.0</td>\n",
       "      <td>Finished</td>\n",
       "      <td>Smoha</td>\n",
       "      <td>14.626441</td>\n",
       "    </tr>\n",
       "    <tr>\n",
       "      <th>3</th>\n",
       "      <td>Apartment</td>\n",
       "      <td>1900000.0</td>\n",
       "      <td>3.0</td>\n",
       "      <td>2.0</td>\n",
       "      <td>230.0</td>\n",
       "      <td>No</td>\n",
       "      <td>10.0</td>\n",
       "      <td>Unknown</td>\n",
       "      <td>Cash</td>\n",
       "      <td>0.0</td>\n",
       "      <td>Finished</td>\n",
       "      <td>Nasr City</td>\n",
       "      <td>14.457365</td>\n",
       "    </tr>\n",
       "    <tr>\n",
       "      <th>4</th>\n",
       "      <td>Apartment</td>\n",
       "      <td>1844900.0</td>\n",
       "      <td>4.0</td>\n",
       "      <td>3.0</td>\n",
       "      <td>222.0</td>\n",
       "      <td>No</td>\n",
       "      <td>1.0</td>\n",
       "      <td>Beit Al Watan</td>\n",
       "      <td>Cash or Installment</td>\n",
       "      <td>36.0</td>\n",
       "      <td>Semi Finished</td>\n",
       "      <td>New Cairo - El Tagamoa</td>\n",
       "      <td>14.427936</td>\n",
       "    </tr>\n",
       "  </tbody>\n",
       "</table>\n",
       "</div>"
      ],
      "text/plain": [
       "        Type      Price  Bedrooms  Bathrooms   Area Furnished  Level  \\\n",
       "0     Duplex  4000000.0       3.0        3.0  400.0        No    7.0   \n",
       "1  Apartment  4000000.0       3.0        3.0  160.0        No   10.0   \n",
       "2  Apartment  2250000.0       3.0        2.0  165.0        No    1.0   \n",
       "3  Apartment  1900000.0       3.0        2.0  230.0        No   10.0   \n",
       "4  Apartment  1844900.0       4.0        3.0  222.0        No    1.0   \n",
       "\n",
       "        Compound       Payment_Option  Delivery_Date  Delivery_Term  \\\n",
       "0        Unknown                 Cash            0.0       Finished   \n",
       "1        Unknown                 Cash            0.0       Finished   \n",
       "2        Unknown                 Cash            0.0       Finished   \n",
       "3        Unknown                 Cash            0.0       Finished   \n",
       "4  Beit Al Watan  Cash or Installment           36.0  Semi Finished   \n",
       "\n",
       "                     City  Log_Price  \n",
       "0               Nasr City  15.201805  \n",
       "1             Camp Caesar  15.201805  \n",
       "2                   Smoha  14.626441  \n",
       "3               Nasr City  14.457365  \n",
       "4  New Cairo - El Tagamoa  14.427936  "
      ]
     },
     "execution_count": 10,
     "metadata": {},
     "output_type": "execute_result"
    }
   ],
   "source": [
    "df.head()"
   ]
  },
  {
   "cell_type": "code",
   "execution_count": 11,
   "id": "80696e6a",
   "metadata": {
    "execution": {
     "iopub.execute_input": "2025-04-21T01:08:21.754491Z",
     "iopub.status.busy": "2025-04-21T01:08:21.754261Z",
     "iopub.status.idle": "2025-04-21T01:08:21.758737Z",
     "shell.execute_reply": "2025-04-21T01:08:21.757781Z"
    },
    "papermill": {
     "duration": 0.018163,
     "end_time": "2025-04-21T01:08:21.760164",
     "exception": false,
     "start_time": "2025-04-21T01:08:21.742001",
     "status": "completed"
    },
    "tags": []
   },
   "outputs": [
    {
     "data": {
      "text/plain": [
       "Index(['Type', 'Price', 'Bedrooms', 'Bathrooms', 'Area', 'Furnished', 'Level',\n",
       "       'Compound', 'Payment_Option', 'Delivery_Date', 'Delivery_Term', 'City',\n",
       "       'Log_Price'],\n",
       "      dtype='object')"
      ]
     },
     "execution_count": 11,
     "metadata": {},
     "output_type": "execute_result"
    }
   ],
   "source": [
    "df.columns"
   ]
  },
  {
   "cell_type": "code",
   "execution_count": 12,
   "id": "dbc4e293",
   "metadata": {
    "execution": {
     "iopub.execute_input": "2025-04-21T01:08:21.784817Z",
     "iopub.status.busy": "2025-04-21T01:08:21.784543Z",
     "iopub.status.idle": "2025-04-21T01:08:21.797559Z",
     "shell.execute_reply": "2025-04-21T01:08:21.796750Z"
    },
    "papermill": {
     "duration": 0.026659,
     "end_time": "2025-04-21T01:08:21.798839",
     "exception": false,
     "start_time": "2025-04-21T01:08:21.772180",
     "status": "completed"
    },
    "tags": []
   },
   "outputs": [
    {
     "name": "stdout",
     "output_type": "stream",
     "text": [
      "<class 'pandas.core.frame.DataFrame'>\n",
      "RangeIndex: 20591 entries, 0 to 20590\n",
      "Data columns (total 13 columns):\n",
      " #   Column          Non-Null Count  Dtype  \n",
      "---  ------          --------------  -----  \n",
      " 0   Type            20591 non-null  object \n",
      " 1   Price           20591 non-null  float64\n",
      " 2   Bedrooms        20591 non-null  float64\n",
      " 3   Bathrooms       20591 non-null  float64\n",
      " 4   Area            20591 non-null  float64\n",
      " 5   Furnished       20591 non-null  object \n",
      " 6   Level           20591 non-null  float64\n",
      " 7   Compound        20591 non-null  object \n",
      " 8   Payment_Option  20591 non-null  object \n",
      " 9   Delivery_Date   20591 non-null  float64\n",
      " 10  Delivery_Term   20591 non-null  object \n",
      " 11  City            20591 non-null  object \n",
      " 12  Log_Price       20591 non-null  float64\n",
      "dtypes: float64(7), object(6)\n",
      "memory usage: 2.0+ MB\n"
     ]
    }
   ],
   "source": [
    "df.info()"
   ]
  },
  {
   "cell_type": "code",
   "execution_count": 13,
   "id": "90e00daf",
   "metadata": {
    "execution": {
     "iopub.execute_input": "2025-04-21T01:08:21.823043Z",
     "iopub.status.busy": "2025-04-21T01:08:21.822845Z",
     "iopub.status.idle": "2025-04-21T01:08:21.827219Z",
     "shell.execute_reply": "2025-04-21T01:08:21.826646Z"
    },
    "papermill": {
     "duration": 0.017969,
     "end_time": "2025-04-21T01:08:21.828499",
     "exception": false,
     "start_time": "2025-04-21T01:08:21.810530",
     "status": "completed"
    },
    "tags": []
   },
   "outputs": [],
   "source": [
    "# Define features and target\n",
    "target_column=\"Price\"\n",
    "X = df.drop(columns=[target_column,\"Log_Price\"])  \n",
    "\n",
    "y = df[\"Log_Price\"].astype(\"float32\")  "
   ]
  },
  {
   "cell_type": "code",
   "execution_count": 14,
   "id": "00ea119b",
   "metadata": {
    "execution": {
     "iopub.execute_input": "2025-04-21T01:08:21.853226Z",
     "iopub.status.busy": "2025-04-21T01:08:21.853031Z",
     "iopub.status.idle": "2025-04-21T01:08:21.860742Z",
     "shell.execute_reply": "2025-04-21T01:08:21.860147Z"
    },
    "papermill": {
     "duration": 0.021109,
     "end_time": "2025-04-21T01:08:21.861965",
     "exception": false,
     "start_time": "2025-04-21T01:08:21.840856",
     "status": "completed"
    },
    "tags": []
   },
   "outputs": [],
   "source": [
    "# Train-test split\n",
    "X_train, X_test, y_train, y_test = train_test_split(X, y, test_size=0.2, random_state=42)"
   ]
  },
  {
   "cell_type": "code",
   "execution_count": 15,
   "id": "1ef3d577",
   "metadata": {
    "execution": {
     "iopub.execute_input": "2025-04-21T01:08:21.886480Z",
     "iopub.status.busy": "2025-04-21T01:08:21.886281Z",
     "iopub.status.idle": "2025-04-21T01:08:21.890403Z",
     "shell.execute_reply": "2025-04-21T01:08:21.889842Z"
    },
    "papermill": {
     "duration": 0.017638,
     "end_time": "2025-04-21T01:08:21.891639",
     "exception": false,
     "start_time": "2025-04-21T01:08:21.874001",
     "status": "completed"
    },
    "tags": []
   },
   "outputs": [],
   "source": [
    "# Splitting data features into numeric and categorical\n",
    "numeric_features = X_train.select_dtypes(include=['int64', 'float64']).columns\n",
    "categorical_features = X_train.select_dtypes(include=['object']).columns"
   ]
  },
  {
   "cell_type": "code",
   "execution_count": 16,
   "id": "fe072383",
   "metadata": {
    "execution": {
     "iopub.execute_input": "2025-04-21T01:08:21.916025Z",
     "iopub.status.busy": "2025-04-21T01:08:21.915831Z",
     "iopub.status.idle": "2025-04-21T01:08:21.919227Z",
     "shell.execute_reply": "2025-04-21T01:08:21.918662Z"
    },
    "papermill": {
     "duration": 0.016678,
     "end_time": "2025-04-21T01:08:21.920334",
     "exception": false,
     "start_time": "2025-04-21T01:08:21.903656",
     "status": "completed"
    },
    "tags": []
   },
   "outputs": [],
   "source": [
    "# Custom Transformer to Convert Output to Float32\n",
    "from sklearn.base import BaseEstimator, TransformerMixin\n",
    "\n",
    "class Float32Transformer(BaseEstimator, TransformerMixin):\n",
    "    def fit(self, X, y=None):\n",
    "        return self\n",
    "    \n",
    "    def transform(self, X, y=None):\n",
    "        return X.astype('float32')"
   ]
  },
  {
   "cell_type": "code",
   "execution_count": 17,
   "id": "1cdeb910",
   "metadata": {
    "execution": {
     "iopub.execute_input": "2025-04-21T01:08:21.944659Z",
     "iopub.status.busy": "2025-04-21T01:08:21.944418Z",
     "iopub.status.idle": "2025-04-21T01:08:21.950054Z",
     "shell.execute_reply": "2025-04-21T01:08:21.949474Z"
    },
    "papermill": {
     "duration": 0.019189,
     "end_time": "2025-04-21T01:08:21.951293",
     "exception": false,
     "start_time": "2025-04-21T01:08:21.932104",
     "status": "completed"
    },
    "tags": []
   },
   "outputs": [],
   "source": [
    "#Define preprocessing for numerical and categorical features\n",
    "numerical_transformer = Pipeline(steps=[\n",
    "    ('imputer', SimpleImputer(strategy='mean')),\n",
    "    ('scaler', StandardScaler())\n",
    "   \n",
    "])\n",
    "\n",
    "\n",
    "# Ensure the data passed to cuML's encoder is a pandas DataFrame\n",
    "from sklearn.preprocessing import FunctionTransformer\n",
    "\n",
    "# This function makes sure the output is a pandas DataFrame\n",
    "def ensure_dataframe(X):\n",
    "    return pd.DataFrame(X)\n",
    "\n",
    "ensure_dataframe_transformer = FunctionTransformer(ensure_dataframe)\n",
    "\n",
    "categorical_transformer = Pipeline(steps=[\n",
    "    (\"imputer\", SimpleImputer(strategy=\"most_frequent\"))\n",
    "    ,(\"binary_encode\", ce.BinaryEncoder())\n",
    "    \n",
    "    \n",
    "])\n",
    "\n",
    "\n",
    "\n",
    "# Combine preprocessors in a ColumnTransformer\n",
    "preprocessor = ColumnTransformer(\n",
    "    transformers=[\n",
    "         (\"cat\",categorical_transformer,categorical_features)\n",
    "        ,('num', numerical_transformer, numeric_features)\n",
    "    ]\n",
    ")\n"
   ]
  },
  {
   "cell_type": "code",
   "execution_count": 18,
   "id": "2e905828",
   "metadata": {
    "execution": {
     "iopub.execute_input": "2025-04-21T01:08:21.975605Z",
     "iopub.status.busy": "2025-04-21T01:08:21.975379Z",
     "iopub.status.idle": "2025-04-21T01:08:22.003462Z",
     "shell.execute_reply": "2025-04-21T01:08:22.002800Z"
    },
    "papermill": {
     "duration": 0.041429,
     "end_time": "2025-04-21T01:08:22.004642",
     "exception": false,
     "start_time": "2025-04-21T01:08:21.963213",
     "status": "completed"
    },
    "tags": []
   },
   "outputs": [
    {
     "data": {
      "text/html": [
       "<style>#sk-container-id-1 {color: black;background-color: white;}#sk-container-id-1 pre{padding: 0;}#sk-container-id-1 div.sk-toggleable {background-color: white;}#sk-container-id-1 label.sk-toggleable__label {cursor: pointer;display: block;width: 100%;margin-bottom: 0;padding: 0.3em;box-sizing: border-box;text-align: center;}#sk-container-id-1 label.sk-toggleable__label-arrow:before {content: \"▸\";float: left;margin-right: 0.25em;color: #696969;}#sk-container-id-1 label.sk-toggleable__label-arrow:hover:before {color: black;}#sk-container-id-1 div.sk-estimator:hover label.sk-toggleable__label-arrow:before {color: black;}#sk-container-id-1 div.sk-toggleable__content {max-height: 0;max-width: 0;overflow: hidden;text-align: left;background-color: #f0f8ff;}#sk-container-id-1 div.sk-toggleable__content pre {margin: 0.2em;color: black;border-radius: 0.25em;background-color: #f0f8ff;}#sk-container-id-1 input.sk-toggleable__control:checked~div.sk-toggleable__content {max-height: 200px;max-width: 100%;overflow: auto;}#sk-container-id-1 input.sk-toggleable__control:checked~label.sk-toggleable__label-arrow:before {content: \"▾\";}#sk-container-id-1 div.sk-estimator input.sk-toggleable__control:checked~label.sk-toggleable__label {background-color: #d4ebff;}#sk-container-id-1 div.sk-label input.sk-toggleable__control:checked~label.sk-toggleable__label {background-color: #d4ebff;}#sk-container-id-1 input.sk-hidden--visually {border: 0;clip: rect(1px 1px 1px 1px);clip: rect(1px, 1px, 1px, 1px);height: 1px;margin: -1px;overflow: hidden;padding: 0;position: absolute;width: 1px;}#sk-container-id-1 div.sk-estimator {font-family: monospace;background-color: #f0f8ff;border: 1px dotted black;border-radius: 0.25em;box-sizing: border-box;margin-bottom: 0.5em;}#sk-container-id-1 div.sk-estimator:hover {background-color: #d4ebff;}#sk-container-id-1 div.sk-parallel-item::after {content: \"\";width: 100%;border-bottom: 1px solid gray;flex-grow: 1;}#sk-container-id-1 div.sk-label:hover label.sk-toggleable__label {background-color: #d4ebff;}#sk-container-id-1 div.sk-serial::before {content: \"\";position: absolute;border-left: 1px solid gray;box-sizing: border-box;top: 0;bottom: 0;left: 50%;z-index: 0;}#sk-container-id-1 div.sk-serial {display: flex;flex-direction: column;align-items: center;background-color: white;padding-right: 0.2em;padding-left: 0.2em;position: relative;}#sk-container-id-1 div.sk-item {position: relative;z-index: 1;}#sk-container-id-1 div.sk-parallel {display: flex;align-items: stretch;justify-content: center;background-color: white;position: relative;}#sk-container-id-1 div.sk-item::before, #sk-container-id-1 div.sk-parallel-item::before {content: \"\";position: absolute;border-left: 1px solid gray;box-sizing: border-box;top: 0;bottom: 0;left: 50%;z-index: -1;}#sk-container-id-1 div.sk-parallel-item {display: flex;flex-direction: column;z-index: 1;position: relative;background-color: white;}#sk-container-id-1 div.sk-parallel-item:first-child::after {align-self: flex-end;width: 50%;}#sk-container-id-1 div.sk-parallel-item:last-child::after {align-self: flex-start;width: 50%;}#sk-container-id-1 div.sk-parallel-item:only-child::after {width: 0;}#sk-container-id-1 div.sk-dashed-wrapped {border: 1px dashed gray;margin: 0 0.4em 0.5em 0.4em;box-sizing: border-box;padding-bottom: 0.4em;background-color: white;}#sk-container-id-1 div.sk-label label {font-family: monospace;font-weight: bold;display: inline-block;line-height: 1.2em;}#sk-container-id-1 div.sk-label-container {text-align: center;}#sk-container-id-1 div.sk-container {/* jupyter's `normalize.less` sets `[hidden] { display: none; }` but bootstrap.min.css set `[hidden] { display: none !important; }` so we also need the `!important` here to be able to override the default hidden behavior on the sphinx rendered scikit-learn.org. See: https://github.com/scikit-learn/scikit-learn/issues/21755 */display: inline-block !important;position: relative;}#sk-container-id-1 div.sk-text-repr-fallback {display: none;}</style><div id=\"sk-container-id-1\" class=\"sk-top-container\"><div class=\"sk-text-repr-fallback\"><pre>ColumnTransformer(transformers=[(&#x27;cat&#x27;,\n",
       "                                 Pipeline(steps=[(&#x27;imputer&#x27;,\n",
       "                                                  SimpleImputer(strategy=&#x27;most_frequent&#x27;)),\n",
       "                                                 (&#x27;binary_encode&#x27;,\n",
       "                                                  BinaryEncoder())]),\n",
       "                                 Index([&#x27;Type&#x27;, &#x27;Furnished&#x27;, &#x27;Compound&#x27;, &#x27;Payment_Option&#x27;, &#x27;Delivery_Term&#x27;,\n",
       "       &#x27;City&#x27;],\n",
       "      dtype=&#x27;object&#x27;)),\n",
       "                                (&#x27;num&#x27;,\n",
       "                                 Pipeline(steps=[(&#x27;imputer&#x27;, SimpleImputer()),\n",
       "                                                 (&#x27;scaler&#x27;, StandardScaler())]),\n",
       "                                 Index([&#x27;Bedrooms&#x27;, &#x27;Bathrooms&#x27;, &#x27;Area&#x27;, &#x27;Level&#x27;, &#x27;Delivery_Date&#x27;], dtype=&#x27;object&#x27;))])</pre><b>In a Jupyter environment, please rerun this cell to show the HTML representation or trust the notebook. <br />On GitHub, the HTML representation is unable to render, please try loading this page with nbviewer.org.</b></div><div class=\"sk-container\" hidden><div class=\"sk-item sk-dashed-wrapped\"><div class=\"sk-label-container\"><div class=\"sk-label sk-toggleable\"><input class=\"sk-toggleable__control sk-hidden--visually\" id=\"sk-estimator-id-1\" type=\"checkbox\" ><label for=\"sk-estimator-id-1\" class=\"sk-toggleable__label sk-toggleable__label-arrow\">ColumnTransformer</label><div class=\"sk-toggleable__content\"><pre>ColumnTransformer(transformers=[(&#x27;cat&#x27;,\n",
       "                                 Pipeline(steps=[(&#x27;imputer&#x27;,\n",
       "                                                  SimpleImputer(strategy=&#x27;most_frequent&#x27;)),\n",
       "                                                 (&#x27;binary_encode&#x27;,\n",
       "                                                  BinaryEncoder())]),\n",
       "                                 Index([&#x27;Type&#x27;, &#x27;Furnished&#x27;, &#x27;Compound&#x27;, &#x27;Payment_Option&#x27;, &#x27;Delivery_Term&#x27;,\n",
       "       &#x27;City&#x27;],\n",
       "      dtype=&#x27;object&#x27;)),\n",
       "                                (&#x27;num&#x27;,\n",
       "                                 Pipeline(steps=[(&#x27;imputer&#x27;, SimpleImputer()),\n",
       "                                                 (&#x27;scaler&#x27;, StandardScaler())]),\n",
       "                                 Index([&#x27;Bedrooms&#x27;, &#x27;Bathrooms&#x27;, &#x27;Area&#x27;, &#x27;Level&#x27;, &#x27;Delivery_Date&#x27;], dtype=&#x27;object&#x27;))])</pre></div></div></div><div class=\"sk-parallel\"><div class=\"sk-parallel-item\"><div class=\"sk-item\"><div class=\"sk-label-container\"><div class=\"sk-label sk-toggleable\"><input class=\"sk-toggleable__control sk-hidden--visually\" id=\"sk-estimator-id-2\" type=\"checkbox\" ><label for=\"sk-estimator-id-2\" class=\"sk-toggleable__label sk-toggleable__label-arrow\">cat</label><div class=\"sk-toggleable__content\"><pre>Index([&#x27;Type&#x27;, &#x27;Furnished&#x27;, &#x27;Compound&#x27;, &#x27;Payment_Option&#x27;, &#x27;Delivery_Term&#x27;,\n",
       "       &#x27;City&#x27;],\n",
       "      dtype=&#x27;object&#x27;)</pre></div></div></div><div class=\"sk-serial\"><div class=\"sk-item\"><div class=\"sk-serial\"><div class=\"sk-item\"><div class=\"sk-estimator sk-toggleable\"><input class=\"sk-toggleable__control sk-hidden--visually\" id=\"sk-estimator-id-3\" type=\"checkbox\" ><label for=\"sk-estimator-id-3\" class=\"sk-toggleable__label sk-toggleable__label-arrow\">SimpleImputer</label><div class=\"sk-toggleable__content\"><pre>SimpleImputer(strategy=&#x27;most_frequent&#x27;)</pre></div></div></div><div class=\"sk-item\"><div class=\"sk-estimator sk-toggleable\"><input class=\"sk-toggleable__control sk-hidden--visually\" id=\"sk-estimator-id-4\" type=\"checkbox\" ><label for=\"sk-estimator-id-4\" class=\"sk-toggleable__label sk-toggleable__label-arrow\">BinaryEncoder</label><div class=\"sk-toggleable__content\"><pre>BinaryEncoder()</pre></div></div></div></div></div></div></div></div><div class=\"sk-parallel-item\"><div class=\"sk-item\"><div class=\"sk-label-container\"><div class=\"sk-label sk-toggleable\"><input class=\"sk-toggleable__control sk-hidden--visually\" id=\"sk-estimator-id-5\" type=\"checkbox\" ><label for=\"sk-estimator-id-5\" class=\"sk-toggleable__label sk-toggleable__label-arrow\">num</label><div class=\"sk-toggleable__content\"><pre>Index([&#x27;Bedrooms&#x27;, &#x27;Bathrooms&#x27;, &#x27;Area&#x27;, &#x27;Level&#x27;, &#x27;Delivery_Date&#x27;], dtype=&#x27;object&#x27;)</pre></div></div></div><div class=\"sk-serial\"><div class=\"sk-item\"><div class=\"sk-serial\"><div class=\"sk-item\"><div class=\"sk-estimator sk-toggleable\"><input class=\"sk-toggleable__control sk-hidden--visually\" id=\"sk-estimator-id-6\" type=\"checkbox\" ><label for=\"sk-estimator-id-6\" class=\"sk-toggleable__label sk-toggleable__label-arrow\">SimpleImputer</label><div class=\"sk-toggleable__content\"><pre>SimpleImputer()</pre></div></div></div><div class=\"sk-item\"><div class=\"sk-estimator sk-toggleable\"><input class=\"sk-toggleable__control sk-hidden--visually\" id=\"sk-estimator-id-7\" type=\"checkbox\" ><label for=\"sk-estimator-id-7\" class=\"sk-toggleable__label sk-toggleable__label-arrow\">StandardScaler</label><div class=\"sk-toggleable__content\"><pre>StandardScaler()</pre></div></div></div></div></div></div></div></div></div></div></div></div>"
      ],
      "text/plain": [
       "ColumnTransformer(transformers=[('cat',\n",
       "                                 Pipeline(steps=[('imputer',\n",
       "                                                  SimpleImputer(strategy='most_frequent')),\n",
       "                                                 ('binary_encode',\n",
       "                                                  BinaryEncoder())]),\n",
       "                                 Index(['Type', 'Furnished', 'Compound', 'Payment_Option', 'Delivery_Term',\n",
       "       'City'],\n",
       "      dtype='object')),\n",
       "                                ('num',\n",
       "                                 Pipeline(steps=[('imputer', SimpleImputer()),\n",
       "                                                 ('scaler', StandardScaler())]),\n",
       "                                 Index(['Bedrooms', 'Bathrooms', 'Area', 'Level', 'Delivery_Date'], dtype='object'))])"
      ]
     },
     "execution_count": 18,
     "metadata": {},
     "output_type": "execute_result"
    }
   ],
   "source": [
    "preprocessor"
   ]
  },
  {
   "cell_type": "code",
   "execution_count": 19,
   "id": "4abc9ab1",
   "metadata": {
    "execution": {
     "iopub.execute_input": "2025-04-21T01:08:22.029066Z",
     "iopub.status.busy": "2025-04-21T01:08:22.028872Z",
     "iopub.status.idle": "2025-04-21T01:08:22.041285Z",
     "shell.execute_reply": "2025-04-21T01:08:22.040503Z"
    },
    "papermill": {
     "duration": 0.025887,
     "end_time": "2025-04-21T01:08:22.042397",
     "exception": false,
     "start_time": "2025-04-21T01:08:22.016510",
     "status": "completed"
    },
    "tags": []
   },
   "outputs": [
    {
     "name": "stdout",
     "output_type": "stream",
     "text": [
      "<class 'pandas.core.frame.DataFrame'>\n",
      "RangeIndex: 20591 entries, 0 to 20590\n",
      "Data columns (total 11 columns):\n",
      " #   Column          Non-Null Count  Dtype  \n",
      "---  ------          --------------  -----  \n",
      " 0   Type            20591 non-null  object \n",
      " 1   Bedrooms        20591 non-null  float64\n",
      " 2   Bathrooms       20591 non-null  float64\n",
      " 3   Area            20591 non-null  float64\n",
      " 4   Furnished       20591 non-null  object \n",
      " 5   Level           20591 non-null  float64\n",
      " 6   Compound        20591 non-null  object \n",
      " 7   Payment_Option  20591 non-null  object \n",
      " 8   Delivery_Date   20591 non-null  float64\n",
      " 9   Delivery_Term   20591 non-null  object \n",
      " 10  City            20591 non-null  object \n",
      "dtypes: float64(5), object(6)\n",
      "memory usage: 1.7+ MB\n"
     ]
    }
   ],
   "source": [
    "# print(pipeline_RandomForest.steps)\n",
    "X.info()"
   ]
  },
  {
   "cell_type": "code",
   "execution_count": 20,
   "id": "c1f3d6cf",
   "metadata": {
    "execution": {
     "iopub.execute_input": "2025-04-21T01:08:22.067745Z",
     "iopub.status.busy": "2025-04-21T01:08:22.067517Z",
     "iopub.status.idle": "2025-04-21T01:08:34.450749Z",
     "shell.execute_reply": "2025-04-21T01:08:34.449897Z"
    },
    "papermill": {
     "duration": 12.397112,
     "end_time": "2025-04-21T01:08:34.452118",
     "exception": false,
     "start_time": "2025-04-21T01:08:22.055006",
     "status": "completed"
    },
    "tags": []
   },
   "outputs": [
    {
     "data": {
      "text/plain": [
       "array([[ 0.        ,  0.        ,  1.        , ..., -0.7438756 ,\n",
       "        -0.71561294, -0.29751831],\n",
       "       [ 0.        ,  1.        ,  0.        , ...,  0.41070453,\n",
       "        -0.71561294,  1.81846851],\n",
       "       [ 0.        ,  1.        ,  1.        , ..., -0.23431231,\n",
       "        -0.24450561,  1.81846851],\n",
       "       ...,\n",
       "       [ 1.        ,  1.        ,  0.        , ..., -0.20206147,\n",
       "         0.22660171,  3.35736801],\n",
       "       [ 0.        ,  1.        ,  1.        , ...,  0.53970789,\n",
       "         0.22660171, -0.48988075],\n",
       "       [ 0.        ,  1.        ,  0.        , ...,  1.62333617,\n",
       "        -0.71561294, -0.48988075]])"
      ]
     },
     "execution_count": 20,
     "metadata": {},
     "output_type": "execute_result"
    }
   ],
   "source": [
    "preprocessor.fit_transform(X_train)"
   ]
  },
  {
   "cell_type": "code",
   "execution_count": 21,
   "id": "e1252a84",
   "metadata": {
    "execution": {
     "iopub.execute_input": "2025-04-21T01:08:34.477614Z",
     "iopub.status.busy": "2025-04-21T01:08:34.477313Z",
     "iopub.status.idle": "2025-04-21T01:08:34.491219Z",
     "shell.execute_reply": "2025-04-21T01:08:34.490400Z"
    },
    "papermill": {
     "duration": 0.027664,
     "end_time": "2025-04-21T01:08:34.492369",
     "exception": false,
     "start_time": "2025-04-21T01:08:34.464705",
     "status": "completed"
    },
    "tags": []
   },
   "outputs": [
    {
     "data": {
      "text/html": [
       "<div>\n",
       "<style scoped>\n",
       "    .dataframe tbody tr th:only-of-type {\n",
       "        vertical-align: middle;\n",
       "    }\n",
       "\n",
       "    .dataframe tbody tr th {\n",
       "        vertical-align: top;\n",
       "    }\n",
       "\n",
       "    .dataframe thead th {\n",
       "        text-align: right;\n",
       "    }\n",
       "</style>\n",
       "<table border=\"1\" class=\"dataframe\">\n",
       "  <thead>\n",
       "    <tr style=\"text-align: right;\">\n",
       "      <th></th>\n",
       "      <th>Type</th>\n",
       "      <th>Price</th>\n",
       "      <th>Bedrooms</th>\n",
       "      <th>Bathrooms</th>\n",
       "      <th>Area</th>\n",
       "      <th>Furnished</th>\n",
       "      <th>Level</th>\n",
       "      <th>Compound</th>\n",
       "      <th>Payment_Option</th>\n",
       "      <th>Delivery_Date</th>\n",
       "      <th>Delivery_Term</th>\n",
       "      <th>City</th>\n",
       "      <th>Log_Price</th>\n",
       "    </tr>\n",
       "  </thead>\n",
       "  <tbody>\n",
       "    <tr>\n",
       "      <th>0</th>\n",
       "      <td>Duplex</td>\n",
       "      <td>4000000.0</td>\n",
       "      <td>3.0</td>\n",
       "      <td>3.0</td>\n",
       "      <td>400.0</td>\n",
       "      <td>No</td>\n",
       "      <td>7.0</td>\n",
       "      <td>Unknown</td>\n",
       "      <td>Cash</td>\n",
       "      <td>0.0</td>\n",
       "      <td>Finished</td>\n",
       "      <td>Nasr City</td>\n",
       "      <td>15.201805</td>\n",
       "    </tr>\n",
       "    <tr>\n",
       "      <th>1</th>\n",
       "      <td>Apartment</td>\n",
       "      <td>4000000.0</td>\n",
       "      <td>3.0</td>\n",
       "      <td>3.0</td>\n",
       "      <td>160.0</td>\n",
       "      <td>No</td>\n",
       "      <td>10.0</td>\n",
       "      <td>Unknown</td>\n",
       "      <td>Cash</td>\n",
       "      <td>0.0</td>\n",
       "      <td>Finished</td>\n",
       "      <td>Camp Caesar</td>\n",
       "      <td>15.201805</td>\n",
       "    </tr>\n",
       "    <tr>\n",
       "      <th>2</th>\n",
       "      <td>Apartment</td>\n",
       "      <td>2250000.0</td>\n",
       "      <td>3.0</td>\n",
       "      <td>2.0</td>\n",
       "      <td>165.0</td>\n",
       "      <td>No</td>\n",
       "      <td>1.0</td>\n",
       "      <td>Unknown</td>\n",
       "      <td>Cash</td>\n",
       "      <td>0.0</td>\n",
       "      <td>Finished</td>\n",
       "      <td>Smoha</td>\n",
       "      <td>14.626441</td>\n",
       "    </tr>\n",
       "    <tr>\n",
       "      <th>3</th>\n",
       "      <td>Apartment</td>\n",
       "      <td>1900000.0</td>\n",
       "      <td>3.0</td>\n",
       "      <td>2.0</td>\n",
       "      <td>230.0</td>\n",
       "      <td>No</td>\n",
       "      <td>10.0</td>\n",
       "      <td>Unknown</td>\n",
       "      <td>Cash</td>\n",
       "      <td>0.0</td>\n",
       "      <td>Finished</td>\n",
       "      <td>Nasr City</td>\n",
       "      <td>14.457365</td>\n",
       "    </tr>\n",
       "    <tr>\n",
       "      <th>4</th>\n",
       "      <td>Apartment</td>\n",
       "      <td>1844900.0</td>\n",
       "      <td>4.0</td>\n",
       "      <td>3.0</td>\n",
       "      <td>222.0</td>\n",
       "      <td>No</td>\n",
       "      <td>1.0</td>\n",
       "      <td>Beit Al Watan</td>\n",
       "      <td>Cash or Installment</td>\n",
       "      <td>36.0</td>\n",
       "      <td>Semi Finished</td>\n",
       "      <td>New Cairo - El Tagamoa</td>\n",
       "      <td>14.427936</td>\n",
       "    </tr>\n",
       "  </tbody>\n",
       "</table>\n",
       "</div>"
      ],
      "text/plain": [
       "        Type      Price  Bedrooms  Bathrooms   Area Furnished  Level  \\\n",
       "0     Duplex  4000000.0       3.0        3.0  400.0        No    7.0   \n",
       "1  Apartment  4000000.0       3.0        3.0  160.0        No   10.0   \n",
       "2  Apartment  2250000.0       3.0        2.0  165.0        No    1.0   \n",
       "3  Apartment  1900000.0       3.0        2.0  230.0        No   10.0   \n",
       "4  Apartment  1844900.0       4.0        3.0  222.0        No    1.0   \n",
       "\n",
       "        Compound       Payment_Option  Delivery_Date  Delivery_Term  \\\n",
       "0        Unknown                 Cash            0.0       Finished   \n",
       "1        Unknown                 Cash            0.0       Finished   \n",
       "2        Unknown                 Cash            0.0       Finished   \n",
       "3        Unknown                 Cash            0.0       Finished   \n",
       "4  Beit Al Watan  Cash or Installment           36.0  Semi Finished   \n",
       "\n",
       "                     City  Log_Price  \n",
       "0               Nasr City  15.201805  \n",
       "1             Camp Caesar  15.201805  \n",
       "2                   Smoha  14.626441  \n",
       "3               Nasr City  14.457365  \n",
       "4  New Cairo - El Tagamoa  14.427936  "
      ]
     },
     "execution_count": 21,
     "metadata": {},
     "output_type": "execute_result"
    }
   ],
   "source": [
    "df.head()"
   ]
  },
  {
   "cell_type": "code",
   "execution_count": 22,
   "id": "0559cf1a",
   "metadata": {
    "execution": {
     "iopub.execute_input": "2025-04-21T01:08:34.517695Z",
     "iopub.status.busy": "2025-04-21T01:08:34.517422Z",
     "iopub.status.idle": "2025-04-21T01:08:34.530393Z",
     "shell.execute_reply": "2025-04-21T01:08:34.529526Z"
    },
    "papermill": {
     "duration": 0.026819,
     "end_time": "2025-04-21T01:08:34.531632",
     "exception": false,
     "start_time": "2025-04-21T01:08:34.504813",
     "status": "completed"
    },
    "tags": []
   },
   "outputs": [
    {
     "name": "stdout",
     "output_type": "stream",
     "text": [
      "<class 'pandas.core.frame.DataFrame'>\n",
      "RangeIndex: 20591 entries, 0 to 20590\n",
      "Data columns (total 11 columns):\n",
      " #   Column          Non-Null Count  Dtype  \n",
      "---  ------          --------------  -----  \n",
      " 0   Type            20591 non-null  object \n",
      " 1   Bedrooms        20591 non-null  float64\n",
      " 2   Bathrooms       20591 non-null  float64\n",
      " 3   Area            20591 non-null  float64\n",
      " 4   Furnished       20591 non-null  object \n",
      " 5   Level           20591 non-null  float64\n",
      " 6   Compound        20591 non-null  object \n",
      " 7   Payment_Option  20591 non-null  object \n",
      " 8   Delivery_Date   20591 non-null  float64\n",
      " 9   Delivery_Term   20591 non-null  object \n",
      " 10  City            20591 non-null  object \n",
      "dtypes: float64(5), object(6)\n",
      "memory usage: 1.7+ MB\n"
     ]
    }
   ],
   "source": [
    "X.info()"
   ]
  },
  {
   "cell_type": "code",
   "execution_count": 23,
   "id": "45e69b5f",
   "metadata": {
    "execution": {
     "iopub.execute_input": "2025-04-21T01:08:34.556895Z",
     "iopub.status.busy": "2025-04-21T01:08:34.556662Z",
     "iopub.status.idle": "2025-04-21T01:08:34.559686Z",
     "shell.execute_reply": "2025-04-21T01:08:34.558885Z"
    },
    "papermill": {
     "duration": 0.016946,
     "end_time": "2025-04-21T01:08:34.560992",
     "exception": false,
     "start_time": "2025-04-21T01:08:34.544046",
     "status": "completed"
    },
    "tags": []
   },
   "outputs": [],
   "source": [
    "train_accs = {}\n",
    "test_accs = {}"
   ]
  },
  {
   "cell_type": "markdown",
   "id": "d17ed8c4",
   "metadata": {
    "papermill": {
     "duration": 0.012205,
     "end_time": "2025-04-21T01:08:34.585560",
     "exception": false,
     "start_time": "2025-04-21T01:08:34.573355",
     "status": "completed"
    },
    "tags": []
   },
   "source": [
    "# Random Forest"
   ]
  },
  {
   "cell_type": "code",
   "execution_count": 24,
   "id": "1844a1d8",
   "metadata": {
    "execution": {
     "iopub.execute_input": "2025-04-21T01:08:34.610929Z",
     "iopub.status.busy": "2025-04-21T01:08:34.610724Z",
     "iopub.status.idle": "2025-04-21T01:42:33.668530Z",
     "shell.execute_reply": "2025-04-21T01:42:33.667640Z"
    },
    "papermill": {
     "duration": 2039.085386,
     "end_time": "2025-04-21T01:42:33.683288",
     "exception": false,
     "start_time": "2025-04-21T01:08:34.597902",
     "status": "completed"
    },
    "tags": []
   },
   "outputs": [
    {
     "name": "stdout",
     "output_type": "stream",
     "text": [
      "Fitting 5 folds for each of 256 candidates, totalling 1280 fits\n"
     ]
    },
    {
     "data": {
      "text/html": [
       "<style>#sk-container-id-2 {color: black;background-color: white;}#sk-container-id-2 pre{padding: 0;}#sk-container-id-2 div.sk-toggleable {background-color: white;}#sk-container-id-2 label.sk-toggleable__label {cursor: pointer;display: block;width: 100%;margin-bottom: 0;padding: 0.3em;box-sizing: border-box;text-align: center;}#sk-container-id-2 label.sk-toggleable__label-arrow:before {content: \"▸\";float: left;margin-right: 0.25em;color: #696969;}#sk-container-id-2 label.sk-toggleable__label-arrow:hover:before {color: black;}#sk-container-id-2 div.sk-estimator:hover label.sk-toggleable__label-arrow:before {color: black;}#sk-container-id-2 div.sk-toggleable__content {max-height: 0;max-width: 0;overflow: hidden;text-align: left;background-color: #f0f8ff;}#sk-container-id-2 div.sk-toggleable__content pre {margin: 0.2em;color: black;border-radius: 0.25em;background-color: #f0f8ff;}#sk-container-id-2 input.sk-toggleable__control:checked~div.sk-toggleable__content {max-height: 200px;max-width: 100%;overflow: auto;}#sk-container-id-2 input.sk-toggleable__control:checked~label.sk-toggleable__label-arrow:before {content: \"▾\";}#sk-container-id-2 div.sk-estimator input.sk-toggleable__control:checked~label.sk-toggleable__label {background-color: #d4ebff;}#sk-container-id-2 div.sk-label input.sk-toggleable__control:checked~label.sk-toggleable__label {background-color: #d4ebff;}#sk-container-id-2 input.sk-hidden--visually {border: 0;clip: rect(1px 1px 1px 1px);clip: rect(1px, 1px, 1px, 1px);height: 1px;margin: -1px;overflow: hidden;padding: 0;position: absolute;width: 1px;}#sk-container-id-2 div.sk-estimator {font-family: monospace;background-color: #f0f8ff;border: 1px dotted black;border-radius: 0.25em;box-sizing: border-box;margin-bottom: 0.5em;}#sk-container-id-2 div.sk-estimator:hover {background-color: #d4ebff;}#sk-container-id-2 div.sk-parallel-item::after {content: \"\";width: 100%;border-bottom: 1px solid gray;flex-grow: 1;}#sk-container-id-2 div.sk-label:hover label.sk-toggleable__label {background-color: #d4ebff;}#sk-container-id-2 div.sk-serial::before {content: \"\";position: absolute;border-left: 1px solid gray;box-sizing: border-box;top: 0;bottom: 0;left: 50%;z-index: 0;}#sk-container-id-2 div.sk-serial {display: flex;flex-direction: column;align-items: center;background-color: white;padding-right: 0.2em;padding-left: 0.2em;position: relative;}#sk-container-id-2 div.sk-item {position: relative;z-index: 1;}#sk-container-id-2 div.sk-parallel {display: flex;align-items: stretch;justify-content: center;background-color: white;position: relative;}#sk-container-id-2 div.sk-item::before, #sk-container-id-2 div.sk-parallel-item::before {content: \"\";position: absolute;border-left: 1px solid gray;box-sizing: border-box;top: 0;bottom: 0;left: 50%;z-index: -1;}#sk-container-id-2 div.sk-parallel-item {display: flex;flex-direction: column;z-index: 1;position: relative;background-color: white;}#sk-container-id-2 div.sk-parallel-item:first-child::after {align-self: flex-end;width: 50%;}#sk-container-id-2 div.sk-parallel-item:last-child::after {align-self: flex-start;width: 50%;}#sk-container-id-2 div.sk-parallel-item:only-child::after {width: 0;}#sk-container-id-2 div.sk-dashed-wrapped {border: 1px dashed gray;margin: 0 0.4em 0.5em 0.4em;box-sizing: border-box;padding-bottom: 0.4em;background-color: white;}#sk-container-id-2 div.sk-label label {font-family: monospace;font-weight: bold;display: inline-block;line-height: 1.2em;}#sk-container-id-2 div.sk-label-container {text-align: center;}#sk-container-id-2 div.sk-container {/* jupyter's `normalize.less` sets `[hidden] { display: none; }` but bootstrap.min.css set `[hidden] { display: none !important; }` so we also need the `!important` here to be able to override the default hidden behavior on the sphinx rendered scikit-learn.org. See: https://github.com/scikit-learn/scikit-learn/issues/21755 */display: inline-block !important;position: relative;}#sk-container-id-2 div.sk-text-repr-fallback {display: none;}</style><div id=\"sk-container-id-2\" class=\"sk-top-container\"><div class=\"sk-text-repr-fallback\"><pre>GridSearchCV(cv=5,\n",
       "             estimator=Pipeline(steps=[(&#x27;preprocessor&#x27;,\n",
       "                                        ColumnTransformer(transformers=[(&#x27;cat&#x27;,\n",
       "                                                                         Pipeline(steps=[(&#x27;imputer&#x27;,\n",
       "                                                                                          SimpleImputer(strategy=&#x27;most_frequent&#x27;)),\n",
       "                                                                                         (&#x27;binary_encode&#x27;,\n",
       "                                                                                          BinaryEncoder())]),\n",
       "                                                                         Index([&#x27;Type&#x27;, &#x27;Furnished&#x27;, &#x27;Compound&#x27;, &#x27;Payment_Option&#x27;, &#x27;Delivery_Term&#x27;,\n",
       "       &#x27;City&#x27;],\n",
       "      dtype=&#x27;object&#x27;)),\n",
       "                                                                        (&#x27;num&#x27;,\n",
       "                                                                         Pipeline(steps=[(&#x27;imputer&#x27;,\n",
       "                                                                                          SimpleImputer()),\n",
       "                                                                                         (...\n",
       "                                                                         Index([&#x27;Bedrooms&#x27;, &#x27;Bathrooms&#x27;, &#x27;Area&#x27;, &#x27;Level&#x27;, &#x27;Delivery_Date&#x27;], dtype=&#x27;object&#x27;))])),\n",
       "                                       (&#x27;to_float32&#x27;, Float32Transformer()),\n",
       "                                       (&#x27;model&#x27;, RandomForestRegressor())]),\n",
       "             n_jobs=1,\n",
       "             param_grid={&#x27;model__max_depth&#x27;: [30, 40, 50, 60],\n",
       "                         &#x27;model__min_samples_leaf&#x27;: [1, 2, 4, 6],\n",
       "                         &#x27;model__min_samples_split&#x27;: [5, 7, 10, 15],\n",
       "                         &#x27;model__n_estimators&#x27;: [100, 200, 300, 400]},\n",
       "             scoring=&#x27;neg_mean_squared_error&#x27;, verbose=1)</pre><b>In a Jupyter environment, please rerun this cell to show the HTML representation or trust the notebook. <br />On GitHub, the HTML representation is unable to render, please try loading this page with nbviewer.org.</b></div><div class=\"sk-container\" hidden><div class=\"sk-item sk-dashed-wrapped\"><div class=\"sk-label-container\"><div class=\"sk-label sk-toggleable\"><input class=\"sk-toggleable__control sk-hidden--visually\" id=\"sk-estimator-id-8\" type=\"checkbox\" ><label for=\"sk-estimator-id-8\" class=\"sk-toggleable__label sk-toggleable__label-arrow\">GridSearchCV</label><div class=\"sk-toggleable__content\"><pre>GridSearchCV(cv=5,\n",
       "             estimator=Pipeline(steps=[(&#x27;preprocessor&#x27;,\n",
       "                                        ColumnTransformer(transformers=[(&#x27;cat&#x27;,\n",
       "                                                                         Pipeline(steps=[(&#x27;imputer&#x27;,\n",
       "                                                                                          SimpleImputer(strategy=&#x27;most_frequent&#x27;)),\n",
       "                                                                                         (&#x27;binary_encode&#x27;,\n",
       "                                                                                          BinaryEncoder())]),\n",
       "                                                                         Index([&#x27;Type&#x27;, &#x27;Furnished&#x27;, &#x27;Compound&#x27;, &#x27;Payment_Option&#x27;, &#x27;Delivery_Term&#x27;,\n",
       "       &#x27;City&#x27;],\n",
       "      dtype=&#x27;object&#x27;)),\n",
       "                                                                        (&#x27;num&#x27;,\n",
       "                                                                         Pipeline(steps=[(&#x27;imputer&#x27;,\n",
       "                                                                                          SimpleImputer()),\n",
       "                                                                                         (...\n",
       "                                                                         Index([&#x27;Bedrooms&#x27;, &#x27;Bathrooms&#x27;, &#x27;Area&#x27;, &#x27;Level&#x27;, &#x27;Delivery_Date&#x27;], dtype=&#x27;object&#x27;))])),\n",
       "                                       (&#x27;to_float32&#x27;, Float32Transformer()),\n",
       "                                       (&#x27;model&#x27;, RandomForestRegressor())]),\n",
       "             n_jobs=1,\n",
       "             param_grid={&#x27;model__max_depth&#x27;: [30, 40, 50, 60],\n",
       "                         &#x27;model__min_samples_leaf&#x27;: [1, 2, 4, 6],\n",
       "                         &#x27;model__min_samples_split&#x27;: [5, 7, 10, 15],\n",
       "                         &#x27;model__n_estimators&#x27;: [100, 200, 300, 400]},\n",
       "             scoring=&#x27;neg_mean_squared_error&#x27;, verbose=1)</pre></div></div></div><div class=\"sk-parallel\"><div class=\"sk-parallel-item\"><div class=\"sk-item\"><div class=\"sk-label-container\"><div class=\"sk-label sk-toggleable\"><input class=\"sk-toggleable__control sk-hidden--visually\" id=\"sk-estimator-id-9\" type=\"checkbox\" ><label for=\"sk-estimator-id-9\" class=\"sk-toggleable__label sk-toggleable__label-arrow\">estimator: Pipeline</label><div class=\"sk-toggleable__content\"><pre>Pipeline(steps=[(&#x27;preprocessor&#x27;,\n",
       "                 ColumnTransformer(transformers=[(&#x27;cat&#x27;,\n",
       "                                                  Pipeline(steps=[(&#x27;imputer&#x27;,\n",
       "                                                                   SimpleImputer(strategy=&#x27;most_frequent&#x27;)),\n",
       "                                                                  (&#x27;binary_encode&#x27;,\n",
       "                                                                   BinaryEncoder())]),\n",
       "                                                  Index([&#x27;Type&#x27;, &#x27;Furnished&#x27;, &#x27;Compound&#x27;, &#x27;Payment_Option&#x27;, &#x27;Delivery_Term&#x27;,\n",
       "       &#x27;City&#x27;],\n",
       "      dtype=&#x27;object&#x27;)),\n",
       "                                                 (&#x27;num&#x27;,\n",
       "                                                  Pipeline(steps=[(&#x27;imputer&#x27;,\n",
       "                                                                   SimpleImputer()),\n",
       "                                                                  (&#x27;scaler&#x27;,\n",
       "                                                                   StandardScaler())]),\n",
       "                                                  Index([&#x27;Bedrooms&#x27;, &#x27;Bathrooms&#x27;, &#x27;Area&#x27;, &#x27;Level&#x27;, &#x27;Delivery_Date&#x27;], dtype=&#x27;object&#x27;))])),\n",
       "                (&#x27;to_float32&#x27;, Float32Transformer()),\n",
       "                (&#x27;model&#x27;, RandomForestRegressor())])</pre></div></div></div><div class=\"sk-serial\"><div class=\"sk-item\"><div class=\"sk-serial\"><div class=\"sk-item sk-dashed-wrapped\"><div class=\"sk-label-container\"><div class=\"sk-label sk-toggleable\"><input class=\"sk-toggleable__control sk-hidden--visually\" id=\"sk-estimator-id-10\" type=\"checkbox\" ><label for=\"sk-estimator-id-10\" class=\"sk-toggleable__label sk-toggleable__label-arrow\">preprocessor: ColumnTransformer</label><div class=\"sk-toggleable__content\"><pre>ColumnTransformer(transformers=[(&#x27;cat&#x27;,\n",
       "                                 Pipeline(steps=[(&#x27;imputer&#x27;,\n",
       "                                                  SimpleImputer(strategy=&#x27;most_frequent&#x27;)),\n",
       "                                                 (&#x27;binary_encode&#x27;,\n",
       "                                                  BinaryEncoder())]),\n",
       "                                 Index([&#x27;Type&#x27;, &#x27;Furnished&#x27;, &#x27;Compound&#x27;, &#x27;Payment_Option&#x27;, &#x27;Delivery_Term&#x27;,\n",
       "       &#x27;City&#x27;],\n",
       "      dtype=&#x27;object&#x27;)),\n",
       "                                (&#x27;num&#x27;,\n",
       "                                 Pipeline(steps=[(&#x27;imputer&#x27;, SimpleImputer()),\n",
       "                                                 (&#x27;scaler&#x27;, StandardScaler())]),\n",
       "                                 Index([&#x27;Bedrooms&#x27;, &#x27;Bathrooms&#x27;, &#x27;Area&#x27;, &#x27;Level&#x27;, &#x27;Delivery_Date&#x27;], dtype=&#x27;object&#x27;))])</pre></div></div></div><div class=\"sk-parallel\"><div class=\"sk-parallel-item\"><div class=\"sk-item\"><div class=\"sk-label-container\"><div class=\"sk-label sk-toggleable\"><input class=\"sk-toggleable__control sk-hidden--visually\" id=\"sk-estimator-id-11\" type=\"checkbox\" ><label for=\"sk-estimator-id-11\" class=\"sk-toggleable__label sk-toggleable__label-arrow\">cat</label><div class=\"sk-toggleable__content\"><pre>Index([&#x27;Type&#x27;, &#x27;Furnished&#x27;, &#x27;Compound&#x27;, &#x27;Payment_Option&#x27;, &#x27;Delivery_Term&#x27;,\n",
       "       &#x27;City&#x27;],\n",
       "      dtype=&#x27;object&#x27;)</pre></div></div></div><div class=\"sk-serial\"><div class=\"sk-item\"><div class=\"sk-serial\"><div class=\"sk-item\"><div class=\"sk-estimator sk-toggleable\"><input class=\"sk-toggleable__control sk-hidden--visually\" id=\"sk-estimator-id-12\" type=\"checkbox\" ><label for=\"sk-estimator-id-12\" class=\"sk-toggleable__label sk-toggleable__label-arrow\">SimpleImputer</label><div class=\"sk-toggleable__content\"><pre>SimpleImputer(strategy=&#x27;most_frequent&#x27;)</pre></div></div></div><div class=\"sk-item\"><div class=\"sk-estimator sk-toggleable\"><input class=\"sk-toggleable__control sk-hidden--visually\" id=\"sk-estimator-id-13\" type=\"checkbox\" ><label for=\"sk-estimator-id-13\" class=\"sk-toggleable__label sk-toggleable__label-arrow\">BinaryEncoder</label><div class=\"sk-toggleable__content\"><pre>BinaryEncoder()</pre></div></div></div></div></div></div></div></div><div class=\"sk-parallel-item\"><div class=\"sk-item\"><div class=\"sk-label-container\"><div class=\"sk-label sk-toggleable\"><input class=\"sk-toggleable__control sk-hidden--visually\" id=\"sk-estimator-id-14\" type=\"checkbox\" ><label for=\"sk-estimator-id-14\" class=\"sk-toggleable__label sk-toggleable__label-arrow\">num</label><div class=\"sk-toggleable__content\"><pre>Index([&#x27;Bedrooms&#x27;, &#x27;Bathrooms&#x27;, &#x27;Area&#x27;, &#x27;Level&#x27;, &#x27;Delivery_Date&#x27;], dtype=&#x27;object&#x27;)</pre></div></div></div><div class=\"sk-serial\"><div class=\"sk-item\"><div class=\"sk-serial\"><div class=\"sk-item\"><div class=\"sk-estimator sk-toggleable\"><input class=\"sk-toggleable__control sk-hidden--visually\" id=\"sk-estimator-id-15\" type=\"checkbox\" ><label for=\"sk-estimator-id-15\" class=\"sk-toggleable__label sk-toggleable__label-arrow\">SimpleImputer</label><div class=\"sk-toggleable__content\"><pre>SimpleImputer()</pre></div></div></div><div class=\"sk-item\"><div class=\"sk-estimator sk-toggleable\"><input class=\"sk-toggleable__control sk-hidden--visually\" id=\"sk-estimator-id-16\" type=\"checkbox\" ><label for=\"sk-estimator-id-16\" class=\"sk-toggleable__label sk-toggleable__label-arrow\">StandardScaler</label><div class=\"sk-toggleable__content\"><pre>StandardScaler()</pre></div></div></div></div></div></div></div></div></div></div><div class=\"sk-item\"><div class=\"sk-estimator sk-toggleable\"><input class=\"sk-toggleable__control sk-hidden--visually\" id=\"sk-estimator-id-17\" type=\"checkbox\" ><label for=\"sk-estimator-id-17\" class=\"sk-toggleable__label sk-toggleable__label-arrow\">Float32Transformer</label><div class=\"sk-toggleable__content\"><pre>Float32Transformer()</pre></div></div></div><div class=\"sk-item\"><div class=\"sk-estimator sk-toggleable\"><input class=\"sk-toggleable__control sk-hidden--visually\" id=\"sk-estimator-id-18\" type=\"checkbox\" ><label for=\"sk-estimator-id-18\" class=\"sk-toggleable__label sk-toggleable__label-arrow\">RandomForestRegressor</label><div class=\"sk-toggleable__content\"><pre>RandomForestRegressor()</pre></div></div></div></div></div></div></div></div></div></div></div></div>"
      ],
      "text/plain": [
       "GridSearchCV(cv=5,\n",
       "             estimator=Pipeline(steps=[('preprocessor',\n",
       "                                        ColumnTransformer(transformers=[('cat',\n",
       "                                                                         Pipeline(steps=[('imputer',\n",
       "                                                                                          SimpleImputer(strategy='most_frequent')),\n",
       "                                                                                         ('binary_encode',\n",
       "                                                                                          BinaryEncoder())]),\n",
       "                                                                         Index(['Type', 'Furnished', 'Compound', 'Payment_Option', 'Delivery_Term',\n",
       "       'City'],\n",
       "      dtype='object')),\n",
       "                                                                        ('num',\n",
       "                                                                         Pipeline(steps=[('imputer',\n",
       "                                                                                          SimpleImputer()),\n",
       "                                                                                         (...\n",
       "                                                                         Index(['Bedrooms', 'Bathrooms', 'Area', 'Level', 'Delivery_Date'], dtype='object'))])),\n",
       "                                       ('to_float32', Float32Transformer()),\n",
       "                                       ('model', RandomForestRegressor())]),\n",
       "             n_jobs=1,\n",
       "             param_grid={'model__max_depth': [30, 40, 50, 60],\n",
       "                         'model__min_samples_leaf': [1, 2, 4, 6],\n",
       "                         'model__min_samples_split': [5, 7, 10, 15],\n",
       "                         'model__n_estimators': [100, 200, 300, 400]},\n",
       "             scoring='neg_mean_squared_error', verbose=1)"
      ]
     },
     "execution_count": 24,
     "metadata": {},
     "output_type": "execute_result"
    }
   ],
   "source": [
    "# Define the model\n",
    "if GPU_AVAILABLE:\n",
    "    model = RandomForestRegressor(n_streams=1,random_state=42)\n",
    "else :\n",
    "    model = RandomForestRegressor(random_state=42)\n",
    "\n",
    "# Create a pipeline that includes preprocessing and the model\n",
    "pipeline_RandomForest = Pipeline(steps=[\n",
    "    ('preprocessor', preprocessor),\n",
    "    ('to_float32', Float32Transformer()),\n",
    "    ('model', model)\n",
    "])\n",
    "\n",
    "\n",
    "# Define hyperparameter grid for model tuning\n",
    "param_grid = {\n",
    "    'model__n_estimators': [100,200,300,400]\n",
    "     ,\n",
    "    'model__max_depth': [ 30,40,50,60],\n",
    "   'model__min_samples_split': [5,7, 10,15],\n",
    "  'model__min_samples_leaf': [1,2,4,6]\n",
    "}\n",
    "\n",
    "# param_grid = {\n",
    "#     'model__n_estimators': [400],\n",
    "#     'model__max_depth': [30],\n",
    "#    'model__min_samples_split': [5],\n",
    "#   'model__min_samples_leaf': [1]\n",
    "# }\n",
    "\n",
    "# Use GridSearchCV to find the best parameters  \n",
    "grid_search = GridSearchCV(pipeline_RandomForest, param_grid, cv=5, scoring='neg_mean_squared_error', verbose=1, n_jobs=1)\n",
    "\n",
    "# Fit the pipeline to the training data  \n",
    "grid_search.fit(X_train, y_train)"
   ]
  },
  {
   "cell_type": "code",
   "execution_count": 25,
   "id": "634404d6",
   "metadata": {
    "execution": {
     "iopub.execute_input": "2025-04-21T01:42:33.710317Z",
     "iopub.status.busy": "2025-04-21T01:42:33.710065Z",
     "iopub.status.idle": "2025-04-21T01:42:34.042918Z",
     "shell.execute_reply": "2025-04-21T01:42:34.042170Z"
    },
    "papermill": {
     "duration": 0.347877,
     "end_time": "2025-04-21T01:42:34.044205",
     "exception": false,
     "start_time": "2025-04-21T01:42:33.696328",
     "status": "completed"
    },
    "tags": []
   },
   "outputs": [
    {
     "name": "stdout",
     "output_type": "stream",
     "text": [
      "Best Parameters: {'model__max_depth': 40, 'model__min_samples_leaf': 1, 'model__min_samples_split': 5, 'model__n_estimators': 400}\n",
      "Train RMSE: 0.53\n",
      "Train R2 Score: 0.80\n"
     ]
    }
   ],
   "source": [
    "# Evaluate the model on the train set\n",
    "best_model = grid_search.best_estimator_\n",
    "y_pred = best_model.predict(X_train)\n",
    "y_pred = y_pred.get() if hasattr(y_pred, 'get') else y_pred\n",
    "\n",
    "mse = mean_squared_error(y_train, y_pred)\n",
    "rmse = np.sqrt(mse)\n",
    "r2 = r2_score(y_train, y_pred)\n",
    "\n",
    "train_accs['Random Forest'] = {'RMSE': rmse, 'R2_Score': r2}\n",
    "\n",
    "print(f\"Best Parameters: {grid_search.best_params_}\")\n",
    "print(f\"Train RMSE: {rmse:.2f}\")\n",
    "print(f\"Train R2 Score: {r2:.2f}\")"
   ]
  },
  {
   "cell_type": "code",
   "execution_count": 26,
   "id": "dff3b162",
   "metadata": {
    "execution": {
     "iopub.execute_input": "2025-04-21T01:42:34.071340Z",
     "iopub.status.busy": "2025-04-21T01:42:34.071107Z",
     "iopub.status.idle": "2025-04-21T01:42:34.239851Z",
     "shell.execute_reply": "2025-04-21T01:42:34.238975Z"
    },
    "papermill": {
     "duration": 0.183671,
     "end_time": "2025-04-21T01:42:34.241306",
     "exception": false,
     "start_time": "2025-04-21T01:42:34.057635",
     "status": "completed"
    },
    "tags": []
   },
   "outputs": [
    {
     "name": "stdout",
     "output_type": "stream",
     "text": [
      "Test RMSE: 0.70\n",
      "Test R2 Score: 0.65\n"
     ]
    }
   ],
   "source": [
    "# Evaluate the model on the test set\n",
    "best_model = grid_search.best_estimator_\n",
    "y_pred = best_model.predict(X_test)\n",
    "y_pred = y_pred.get() if hasattr(y_pred, 'get') else y_pred\n",
    "\n",
    "mse = mean_squared_error(y_test, y_pred)\n",
    "rmse = np.sqrt(mse)\n",
    "r2 = r2_score(y_test, y_pred)\n",
    "\n",
    "test_accs['Random Forest'] = {'RMSE': rmse, 'R2_Score': r2}\n",
    "\n",
    "print(f\"Test RMSE: {rmse:.2f}\")\n",
    "print(f\"Test R2 Score: {r2:.2f}\")"
   ]
  },
  {
   "cell_type": "code",
   "execution_count": 27,
   "id": "9905a160",
   "metadata": {
    "execution": {
     "iopub.execute_input": "2025-04-21T01:42:34.268848Z",
     "iopub.status.busy": "2025-04-21T01:42:34.268565Z",
     "iopub.status.idle": "2025-04-21T01:42:51.483330Z",
     "shell.execute_reply": "2025-04-21T01:42:51.482656Z"
    },
    "papermill": {
     "duration": 17.229702,
     "end_time": "2025-04-21T01:42:51.484778",
     "exception": false,
     "start_time": "2025-04-21T01:42:34.255076",
     "status": "completed"
    },
    "tags": []
   },
   "outputs": [],
   "source": [
    "# Tracking model\n",
    "from mlflow.models.signature import infer_signature\n",
    "\n",
    "input_example = X_train.iloc[:5]\n",
    "pred_example = best_model.predict(input_example)\n",
    "signature = infer_signature(input_example, pred_example)\n",
    "\n",
    "with mlflow.start_run(run_name=\"RandomForestRegressor\"):\n",
    "    \n",
    "    mlflow.log_params(grid_search.best_params_)\n",
    "    mlflow.log_metric(\"rmse\", rmse)\n",
    "    mlflow.log_metric(\"r2\", r2)\n",
    "\n",
    "    # ✅ Updated model logging\n",
    "    mlflow.sklearn.log_model(\n",
    "        sk_model=best_model,\n",
    "        artifact_path=\"RandomForest_model\",\n",
    "        input_example=input_example,\n",
    "        signature=signature\n",
    "    )"
   ]
  },
  {
   "cell_type": "code",
   "execution_count": 28,
   "id": "a795ae2c",
   "metadata": {
    "execution": {
     "iopub.execute_input": "2025-04-21T01:42:51.511891Z",
     "iopub.status.busy": "2025-04-21T01:42:51.511670Z",
     "iopub.status.idle": "2025-04-21T01:42:52.261085Z",
     "shell.execute_reply": "2025-04-21T01:42:52.260300Z"
    },
    "papermill": {
     "duration": 0.764047,
     "end_time": "2025-04-21T01:42:52.262322",
     "exception": false,
     "start_time": "2025-04-21T01:42:51.498275",
     "status": "completed"
    },
    "tags": []
   },
   "outputs": [
    {
     "name": "stdout",
     "output_type": "stream",
     "text": [
      "Model saved successfully with dill.\n"
     ]
    }
   ],
   "source": [
    "# Saving the best model\n",
    "with open('/kaggle/working/random_forest_best_model.pkl', 'wb') as f:\n",
    "    dill.dump(best_model, f)\n",
    "print(\"Model saved successfully with dill.\")"
   ]
  },
  {
   "cell_type": "code",
   "execution_count": 29,
   "id": "44e86b11",
   "metadata": {
    "execution": {
     "iopub.execute_input": "2025-04-21T01:42:52.289390Z",
     "iopub.status.busy": "2025-04-21T01:42:52.289162Z",
     "iopub.status.idle": "2025-04-21T02:28:31.492279Z",
     "shell.execute_reply": "2025-04-21T02:28:31.491269Z"
    },
    "papermill": {
     "duration": 2739.232932,
     "end_time": "2025-04-21T02:28:31.508701",
     "exception": false,
     "start_time": "2025-04-21T01:42:52.275769",
     "status": "completed"
    },
    "tags": []
   },
   "outputs": [
    {
     "name": "stdout",
     "output_type": "stream",
     "text": [
      "Fitting 5 folds for each of 256 candidates, totalling 1280 fits\n"
     ]
    },
    {
     "name": "stderr",
     "output_type": "stream",
     "text": [
      "/usr/local/lib/python3.10/dist-packages/cuml/internals/api_decorators.py:344: UserWarning: For reproducible results in Random Forest Classifier or for almost reproducible results in Random Forest Regressor, n_streams=1 is recommended. If n_streams is > 1, results may vary due to stream/thread timing differences, even when random_state is set\n",
      "  return func(**kwargs)\n",
      "/usr/local/lib/python3.10/dist-packages/joblib/externals/loky/process_executor.py:752: UserWarning: A worker stopped while some jobs were given to the executor. This can be caused by a too short worker timeout or by a memory leak.\n",
      "  warnings.warn(\n"
     ]
    },
    {
     "data": {
      "text/html": [
       "<style>#sk-container-id-3 {color: black;background-color: white;}#sk-container-id-3 pre{padding: 0;}#sk-container-id-3 div.sk-toggleable {background-color: white;}#sk-container-id-3 label.sk-toggleable__label {cursor: pointer;display: block;width: 100%;margin-bottom: 0;padding: 0.3em;box-sizing: border-box;text-align: center;}#sk-container-id-3 label.sk-toggleable__label-arrow:before {content: \"▸\";float: left;margin-right: 0.25em;color: #696969;}#sk-container-id-3 label.sk-toggleable__label-arrow:hover:before {color: black;}#sk-container-id-3 div.sk-estimator:hover label.sk-toggleable__label-arrow:before {color: black;}#sk-container-id-3 div.sk-toggleable__content {max-height: 0;max-width: 0;overflow: hidden;text-align: left;background-color: #f0f8ff;}#sk-container-id-3 div.sk-toggleable__content pre {margin: 0.2em;color: black;border-radius: 0.25em;background-color: #f0f8ff;}#sk-container-id-3 input.sk-toggleable__control:checked~div.sk-toggleable__content {max-height: 200px;max-width: 100%;overflow: auto;}#sk-container-id-3 input.sk-toggleable__control:checked~label.sk-toggleable__label-arrow:before {content: \"▾\";}#sk-container-id-3 div.sk-estimator input.sk-toggleable__control:checked~label.sk-toggleable__label {background-color: #d4ebff;}#sk-container-id-3 div.sk-label input.sk-toggleable__control:checked~label.sk-toggleable__label {background-color: #d4ebff;}#sk-container-id-3 input.sk-hidden--visually {border: 0;clip: rect(1px 1px 1px 1px);clip: rect(1px, 1px, 1px, 1px);height: 1px;margin: -1px;overflow: hidden;padding: 0;position: absolute;width: 1px;}#sk-container-id-3 div.sk-estimator {font-family: monospace;background-color: #f0f8ff;border: 1px dotted black;border-radius: 0.25em;box-sizing: border-box;margin-bottom: 0.5em;}#sk-container-id-3 div.sk-estimator:hover {background-color: #d4ebff;}#sk-container-id-3 div.sk-parallel-item::after {content: \"\";width: 100%;border-bottom: 1px solid gray;flex-grow: 1;}#sk-container-id-3 div.sk-label:hover label.sk-toggleable__label {background-color: #d4ebff;}#sk-container-id-3 div.sk-serial::before {content: \"\";position: absolute;border-left: 1px solid gray;box-sizing: border-box;top: 0;bottom: 0;left: 50%;z-index: 0;}#sk-container-id-3 div.sk-serial {display: flex;flex-direction: column;align-items: center;background-color: white;padding-right: 0.2em;padding-left: 0.2em;position: relative;}#sk-container-id-3 div.sk-item {position: relative;z-index: 1;}#sk-container-id-3 div.sk-parallel {display: flex;align-items: stretch;justify-content: center;background-color: white;position: relative;}#sk-container-id-3 div.sk-item::before, #sk-container-id-3 div.sk-parallel-item::before {content: \"\";position: absolute;border-left: 1px solid gray;box-sizing: border-box;top: 0;bottom: 0;left: 50%;z-index: -1;}#sk-container-id-3 div.sk-parallel-item {display: flex;flex-direction: column;z-index: 1;position: relative;background-color: white;}#sk-container-id-3 div.sk-parallel-item:first-child::after {align-self: flex-end;width: 50%;}#sk-container-id-3 div.sk-parallel-item:last-child::after {align-self: flex-start;width: 50%;}#sk-container-id-3 div.sk-parallel-item:only-child::after {width: 0;}#sk-container-id-3 div.sk-dashed-wrapped {border: 1px dashed gray;margin: 0 0.4em 0.5em 0.4em;box-sizing: border-box;padding-bottom: 0.4em;background-color: white;}#sk-container-id-3 div.sk-label label {font-family: monospace;font-weight: bold;display: inline-block;line-height: 1.2em;}#sk-container-id-3 div.sk-label-container {text-align: center;}#sk-container-id-3 div.sk-container {/* jupyter's `normalize.less` sets `[hidden] { display: none; }` but bootstrap.min.css set `[hidden] { display: none !important; }` so we also need the `!important` here to be able to override the default hidden behavior on the sphinx rendered scikit-learn.org. See: https://github.com/scikit-learn/scikit-learn/issues/21755 */display: inline-block !important;position: relative;}#sk-container-id-3 div.sk-text-repr-fallback {display: none;}</style><div id=\"sk-container-id-3\" class=\"sk-top-container\"><div class=\"sk-text-repr-fallback\"><pre>GridSearchCV(cv=5,\n",
       "             estimator=Pipeline(steps=[(&#x27;preprocessor&#x27;,\n",
       "                                        ColumnTransformer(transformers=[(&#x27;cat&#x27;,\n",
       "                                                                         Pipeline(steps=[(&#x27;imputer&#x27;,\n",
       "                                                                                          SimpleImputer(strategy=&#x27;most_frequent&#x27;)),\n",
       "                                                                                         (&#x27;binary_encode&#x27;,\n",
       "                                                                                          BinaryEncoder())]),\n",
       "                                                                         Index([&#x27;Type&#x27;, &#x27;Furnished&#x27;, &#x27;Compound&#x27;, &#x27;Payment_Option&#x27;, &#x27;Delivery_Term&#x27;,\n",
       "       &#x27;City&#x27;],\n",
       "      dtype=&#x27;object&#x27;)),\n",
       "                                                                        (&#x27;num&#x27;,\n",
       "                                                                         Pipeline(steps=[(&#x27;imputer&#x27;,\n",
       "                                                                                          SimpleImputer()),\n",
       "                                                                                         (...\n",
       "                                                                         Index([&#x27;Bedrooms&#x27;, &#x27;Bathrooms&#x27;, &#x27;Area&#x27;, &#x27;Level&#x27;, &#x27;Delivery_Date&#x27;], dtype=&#x27;object&#x27;))])),\n",
       "                                       (&#x27;to_float32&#x27;, Float32Transformer()),\n",
       "                                       (&#x27;pca&#x27;, PCA(n_components=0.8)),\n",
       "                                       (&#x27;model&#x27;, RandomForestRegressor())]),\n",
       "             n_jobs=-1,\n",
       "             param_grid={&#x27;model__max_depth&#x27;: [30, 40, 50, 60],\n",
       "                         &#x27;model__min_samples_leaf&#x27;: [1, 2, 4, 6],\n",
       "                         &#x27;model__min_samples_split&#x27;: [5, 7, 10, 15],\n",
       "                         &#x27;model__n_estimators&#x27;: [100, 200, 300, 400]},\n",
       "             scoring=&#x27;neg_mean_squared_error&#x27;, verbose=1)</pre><b>In a Jupyter environment, please rerun this cell to show the HTML representation or trust the notebook. <br />On GitHub, the HTML representation is unable to render, please try loading this page with nbviewer.org.</b></div><div class=\"sk-container\" hidden><div class=\"sk-item sk-dashed-wrapped\"><div class=\"sk-label-container\"><div class=\"sk-label sk-toggleable\"><input class=\"sk-toggleable__control sk-hidden--visually\" id=\"sk-estimator-id-19\" type=\"checkbox\" ><label for=\"sk-estimator-id-19\" class=\"sk-toggleable__label sk-toggleable__label-arrow\">GridSearchCV</label><div class=\"sk-toggleable__content\"><pre>GridSearchCV(cv=5,\n",
       "             estimator=Pipeline(steps=[(&#x27;preprocessor&#x27;,\n",
       "                                        ColumnTransformer(transformers=[(&#x27;cat&#x27;,\n",
       "                                                                         Pipeline(steps=[(&#x27;imputer&#x27;,\n",
       "                                                                                          SimpleImputer(strategy=&#x27;most_frequent&#x27;)),\n",
       "                                                                                         (&#x27;binary_encode&#x27;,\n",
       "                                                                                          BinaryEncoder())]),\n",
       "                                                                         Index([&#x27;Type&#x27;, &#x27;Furnished&#x27;, &#x27;Compound&#x27;, &#x27;Payment_Option&#x27;, &#x27;Delivery_Term&#x27;,\n",
       "       &#x27;City&#x27;],\n",
       "      dtype=&#x27;object&#x27;)),\n",
       "                                                                        (&#x27;num&#x27;,\n",
       "                                                                         Pipeline(steps=[(&#x27;imputer&#x27;,\n",
       "                                                                                          SimpleImputer()),\n",
       "                                                                                         (...\n",
       "                                                                         Index([&#x27;Bedrooms&#x27;, &#x27;Bathrooms&#x27;, &#x27;Area&#x27;, &#x27;Level&#x27;, &#x27;Delivery_Date&#x27;], dtype=&#x27;object&#x27;))])),\n",
       "                                       (&#x27;to_float32&#x27;, Float32Transformer()),\n",
       "                                       (&#x27;pca&#x27;, PCA(n_components=0.8)),\n",
       "                                       (&#x27;model&#x27;, RandomForestRegressor())]),\n",
       "             n_jobs=-1,\n",
       "             param_grid={&#x27;model__max_depth&#x27;: [30, 40, 50, 60],\n",
       "                         &#x27;model__min_samples_leaf&#x27;: [1, 2, 4, 6],\n",
       "                         &#x27;model__min_samples_split&#x27;: [5, 7, 10, 15],\n",
       "                         &#x27;model__n_estimators&#x27;: [100, 200, 300, 400]},\n",
       "             scoring=&#x27;neg_mean_squared_error&#x27;, verbose=1)</pre></div></div></div><div class=\"sk-parallel\"><div class=\"sk-parallel-item\"><div class=\"sk-item\"><div class=\"sk-label-container\"><div class=\"sk-label sk-toggleable\"><input class=\"sk-toggleable__control sk-hidden--visually\" id=\"sk-estimator-id-20\" type=\"checkbox\" ><label for=\"sk-estimator-id-20\" class=\"sk-toggleable__label sk-toggleable__label-arrow\">estimator: Pipeline</label><div class=\"sk-toggleable__content\"><pre>Pipeline(steps=[(&#x27;preprocessor&#x27;,\n",
       "                 ColumnTransformer(transformers=[(&#x27;cat&#x27;,\n",
       "                                                  Pipeline(steps=[(&#x27;imputer&#x27;,\n",
       "                                                                   SimpleImputer(strategy=&#x27;most_frequent&#x27;)),\n",
       "                                                                  (&#x27;binary_encode&#x27;,\n",
       "                                                                   BinaryEncoder())]),\n",
       "                                                  Index([&#x27;Type&#x27;, &#x27;Furnished&#x27;, &#x27;Compound&#x27;, &#x27;Payment_Option&#x27;, &#x27;Delivery_Term&#x27;,\n",
       "       &#x27;City&#x27;],\n",
       "      dtype=&#x27;object&#x27;)),\n",
       "                                                 (&#x27;num&#x27;,\n",
       "                                                  Pipeline(steps=[(&#x27;imputer&#x27;,\n",
       "                                                                   SimpleImputer()),\n",
       "                                                                  (&#x27;scaler&#x27;,\n",
       "                                                                   StandardScaler())]),\n",
       "                                                  Index([&#x27;Bedrooms&#x27;, &#x27;Bathrooms&#x27;, &#x27;Area&#x27;, &#x27;Level&#x27;, &#x27;Delivery_Date&#x27;], dtype=&#x27;object&#x27;))])),\n",
       "                (&#x27;to_float32&#x27;, Float32Transformer()),\n",
       "                (&#x27;pca&#x27;, PCA(n_components=0.8)),\n",
       "                (&#x27;model&#x27;, RandomForestRegressor())])</pre></div></div></div><div class=\"sk-serial\"><div class=\"sk-item\"><div class=\"sk-serial\"><div class=\"sk-item sk-dashed-wrapped\"><div class=\"sk-label-container\"><div class=\"sk-label sk-toggleable\"><input class=\"sk-toggleable__control sk-hidden--visually\" id=\"sk-estimator-id-21\" type=\"checkbox\" ><label for=\"sk-estimator-id-21\" class=\"sk-toggleable__label sk-toggleable__label-arrow\">preprocessor: ColumnTransformer</label><div class=\"sk-toggleable__content\"><pre>ColumnTransformer(transformers=[(&#x27;cat&#x27;,\n",
       "                                 Pipeline(steps=[(&#x27;imputer&#x27;,\n",
       "                                                  SimpleImputer(strategy=&#x27;most_frequent&#x27;)),\n",
       "                                                 (&#x27;binary_encode&#x27;,\n",
       "                                                  BinaryEncoder())]),\n",
       "                                 Index([&#x27;Type&#x27;, &#x27;Furnished&#x27;, &#x27;Compound&#x27;, &#x27;Payment_Option&#x27;, &#x27;Delivery_Term&#x27;,\n",
       "       &#x27;City&#x27;],\n",
       "      dtype=&#x27;object&#x27;)),\n",
       "                                (&#x27;num&#x27;,\n",
       "                                 Pipeline(steps=[(&#x27;imputer&#x27;, SimpleImputer()),\n",
       "                                                 (&#x27;scaler&#x27;, StandardScaler())]),\n",
       "                                 Index([&#x27;Bedrooms&#x27;, &#x27;Bathrooms&#x27;, &#x27;Area&#x27;, &#x27;Level&#x27;, &#x27;Delivery_Date&#x27;], dtype=&#x27;object&#x27;))])</pre></div></div></div><div class=\"sk-parallel\"><div class=\"sk-parallel-item\"><div class=\"sk-item\"><div class=\"sk-label-container\"><div class=\"sk-label sk-toggleable\"><input class=\"sk-toggleable__control sk-hidden--visually\" id=\"sk-estimator-id-22\" type=\"checkbox\" ><label for=\"sk-estimator-id-22\" class=\"sk-toggleable__label sk-toggleable__label-arrow\">cat</label><div class=\"sk-toggleable__content\"><pre>Index([&#x27;Type&#x27;, &#x27;Furnished&#x27;, &#x27;Compound&#x27;, &#x27;Payment_Option&#x27;, &#x27;Delivery_Term&#x27;,\n",
       "       &#x27;City&#x27;],\n",
       "      dtype=&#x27;object&#x27;)</pre></div></div></div><div class=\"sk-serial\"><div class=\"sk-item\"><div class=\"sk-serial\"><div class=\"sk-item\"><div class=\"sk-estimator sk-toggleable\"><input class=\"sk-toggleable__control sk-hidden--visually\" id=\"sk-estimator-id-23\" type=\"checkbox\" ><label for=\"sk-estimator-id-23\" class=\"sk-toggleable__label sk-toggleable__label-arrow\">SimpleImputer</label><div class=\"sk-toggleable__content\"><pre>SimpleImputer(strategy=&#x27;most_frequent&#x27;)</pre></div></div></div><div class=\"sk-item\"><div class=\"sk-estimator sk-toggleable\"><input class=\"sk-toggleable__control sk-hidden--visually\" id=\"sk-estimator-id-24\" type=\"checkbox\" ><label for=\"sk-estimator-id-24\" class=\"sk-toggleable__label sk-toggleable__label-arrow\">BinaryEncoder</label><div class=\"sk-toggleable__content\"><pre>BinaryEncoder()</pre></div></div></div></div></div></div></div></div><div class=\"sk-parallel-item\"><div class=\"sk-item\"><div class=\"sk-label-container\"><div class=\"sk-label sk-toggleable\"><input class=\"sk-toggleable__control sk-hidden--visually\" id=\"sk-estimator-id-25\" type=\"checkbox\" ><label for=\"sk-estimator-id-25\" class=\"sk-toggleable__label sk-toggleable__label-arrow\">num</label><div class=\"sk-toggleable__content\"><pre>Index([&#x27;Bedrooms&#x27;, &#x27;Bathrooms&#x27;, &#x27;Area&#x27;, &#x27;Level&#x27;, &#x27;Delivery_Date&#x27;], dtype=&#x27;object&#x27;)</pre></div></div></div><div class=\"sk-serial\"><div class=\"sk-item\"><div class=\"sk-serial\"><div class=\"sk-item\"><div class=\"sk-estimator sk-toggleable\"><input class=\"sk-toggleable__control sk-hidden--visually\" id=\"sk-estimator-id-26\" type=\"checkbox\" ><label for=\"sk-estimator-id-26\" class=\"sk-toggleable__label sk-toggleable__label-arrow\">SimpleImputer</label><div class=\"sk-toggleable__content\"><pre>SimpleImputer()</pre></div></div></div><div class=\"sk-item\"><div class=\"sk-estimator sk-toggleable\"><input class=\"sk-toggleable__control sk-hidden--visually\" id=\"sk-estimator-id-27\" type=\"checkbox\" ><label for=\"sk-estimator-id-27\" class=\"sk-toggleable__label sk-toggleable__label-arrow\">StandardScaler</label><div class=\"sk-toggleable__content\"><pre>StandardScaler()</pre></div></div></div></div></div></div></div></div></div></div><div class=\"sk-item\"><div class=\"sk-estimator sk-toggleable\"><input class=\"sk-toggleable__control sk-hidden--visually\" id=\"sk-estimator-id-28\" type=\"checkbox\" ><label for=\"sk-estimator-id-28\" class=\"sk-toggleable__label sk-toggleable__label-arrow\">Float32Transformer</label><div class=\"sk-toggleable__content\"><pre>Float32Transformer()</pre></div></div></div><div class=\"sk-item\"><div class=\"sk-estimator sk-toggleable\"><input class=\"sk-toggleable__control sk-hidden--visually\" id=\"sk-estimator-id-29\" type=\"checkbox\" ><label for=\"sk-estimator-id-29\" class=\"sk-toggleable__label sk-toggleable__label-arrow\">PCA</label><div class=\"sk-toggleable__content\"><pre>PCA(n_components=0.8)</pre></div></div></div><div class=\"sk-item\"><div class=\"sk-estimator sk-toggleable\"><input class=\"sk-toggleable__control sk-hidden--visually\" id=\"sk-estimator-id-30\" type=\"checkbox\" ><label for=\"sk-estimator-id-30\" class=\"sk-toggleable__label sk-toggleable__label-arrow\">RandomForestRegressor</label><div class=\"sk-toggleable__content\"><pre>RandomForestRegressor()</pre></div></div></div></div></div></div></div></div></div></div></div></div>"
      ],
      "text/plain": [
       "GridSearchCV(cv=5,\n",
       "             estimator=Pipeline(steps=[('preprocessor',\n",
       "                                        ColumnTransformer(transformers=[('cat',\n",
       "                                                                         Pipeline(steps=[('imputer',\n",
       "                                                                                          SimpleImputer(strategy='most_frequent')),\n",
       "                                                                                         ('binary_encode',\n",
       "                                                                                          BinaryEncoder())]),\n",
       "                                                                         Index(['Type', 'Furnished', 'Compound', 'Payment_Option', 'Delivery_Term',\n",
       "       'City'],\n",
       "      dtype='object')),\n",
       "                                                                        ('num',\n",
       "                                                                         Pipeline(steps=[('imputer',\n",
       "                                                                                          SimpleImputer()),\n",
       "                                                                                         (...\n",
       "                                                                         Index(['Bedrooms', 'Bathrooms', 'Area', 'Level', 'Delivery_Date'], dtype='object'))])),\n",
       "                                       ('to_float32', Float32Transformer()),\n",
       "                                       ('pca', PCA(n_components=0.8)),\n",
       "                                       ('model', RandomForestRegressor())]),\n",
       "             n_jobs=-1,\n",
       "             param_grid={'model__max_depth': [30, 40, 50, 60],\n",
       "                         'model__min_samples_leaf': [1, 2, 4, 6],\n",
       "                         'model__min_samples_split': [5, 7, 10, 15],\n",
       "                         'model__n_estimators': [100, 200, 300, 400]},\n",
       "             scoring='neg_mean_squared_error', verbose=1)"
      ]
     },
     "execution_count": 29,
     "metadata": {},
     "output_type": "execute_result"
    }
   ],
   "source": [
    "# Define PCA transformer\n",
    "pca = PCA(n_components=0.80)  # Retain 95% of the variance\n",
    "\n",
    "# Define the model (Random Forest Regressor)\n",
    "model = RandomForestRegressor(random_state=42)\n",
    "\n",
    "# Create a pipeline that includes preprocessing (scaling, PCA) and the model\n",
    "pipeline_RandomForest = Pipeline(steps=[\n",
    "    ('preprocessor', preprocessor),\n",
    "    ('to_float32', Float32Transformer()),\n",
    "    ('pca', pca),\n",
    "    ('model', model)\n",
    "])\n",
    "\n",
    "# Define hyperparameter grid for model tuning\n",
    "param_grid = {\n",
    "    'model__n_estimators': [100, 200, 300, 400],\n",
    "    'model__max_depth': [30, 40, 50, 60],\n",
    "    'model__min_samples_split': [5, 7, 10, 15],\n",
    "    'model__min_samples_leaf': [1, 2, 4, 6]\n",
    "}\n",
    "\n",
    "# param_grid = {\n",
    "#     'model__n_estimators': [300],\n",
    "#     'model__max_depth': [30],\n",
    "#    'model__min_samples_split': [5],\n",
    "#   'model__min_samples_leaf': [2]\n",
    "# }\n",
    "\n",
    "# Use GridSearchCV to find the best parameters\n",
    "grid_search = GridSearchCV(pipeline_RandomForest, param_grid, cv=5, scoring='neg_mean_squared_error', verbose=1, n_jobs=-1)\n",
    "\n",
    "# Fit the pipeline to the training data\n",
    "grid_search.fit(X_train, y_train)"
   ]
  },
  {
   "cell_type": "code",
   "execution_count": 30,
   "id": "02994d5b",
   "metadata": {
    "execution": {
     "iopub.execute_input": "2025-04-21T02:28:31.537317Z",
     "iopub.status.busy": "2025-04-21T02:28:31.537047Z",
     "iopub.status.idle": "2025-04-21T02:28:32.018457Z",
     "shell.execute_reply": "2025-04-21T02:28:32.017676Z"
    },
    "papermill": {
     "duration": 0.497111,
     "end_time": "2025-04-21T02:28:32.020038",
     "exception": false,
     "start_time": "2025-04-21T02:28:31.522927",
     "status": "completed"
    },
    "tags": []
   },
   "outputs": [
    {
     "name": "stdout",
     "output_type": "stream",
     "text": [
      "Best Parameters: {'model__max_depth': 30, 'model__min_samples_leaf': 2, 'model__min_samples_split': 5, 'model__n_estimators': 300}\n",
      "Train RMSE: 0.42\n",
      "Train R2 Score: 0.87\n"
     ]
    }
   ],
   "source": [
    "# Evaluate the model on the train set\n",
    "best_model = grid_search.best_estimator_\n",
    "y_pred = best_model.predict(X_train)\n",
    "\n",
    "# Convert predictions if needed (e.g., if using GPU-based libraries like cuML)\n",
    "y_pred = y_pred.get() if hasattr(y_pred, 'get') else y_pred\n",
    "\n",
    "# Compute evaluation metrics\n",
    "mse = mean_squared_error(y_train, y_pred)\n",
    "rmse = np.sqrt(mse)\n",
    "r2 = r2_score(y_train, y_pred)\n",
    "\n",
    "train_accs['Random Forest(PCA)'] = {'RMSE': rmse, 'R2_Score': r2}\n",
    "\n",
    "print(f\"Best Parameters: {grid_search.best_params_}\")\n",
    "print(f\"Train RMSE: {rmse:.2f}\")\n",
    "print(f\"Train R2 Score: {r2:.2f}\")"
   ]
  },
  {
   "cell_type": "code",
   "execution_count": 31,
   "id": "3a0663b8",
   "metadata": {
    "execution": {
     "iopub.execute_input": "2025-04-21T02:28:32.048716Z",
     "iopub.status.busy": "2025-04-21T02:28:32.048422Z",
     "iopub.status.idle": "2025-04-21T02:28:32.266783Z",
     "shell.execute_reply": "2025-04-21T02:28:32.265843Z"
    },
    "papermill": {
     "duration": 0.234037,
     "end_time": "2025-04-21T02:28:32.268172",
     "exception": false,
     "start_time": "2025-04-21T02:28:32.034135",
     "status": "completed"
    },
    "tags": []
   },
   "outputs": [
    {
     "name": "stdout",
     "output_type": "stream",
     "text": [
      "Test RMSE: 0.81\n",
      "Test R2 Score: 0.53\n"
     ]
    }
   ],
   "source": [
    "# Evaluate the model on the test set\n",
    "best_model = grid_search.best_estimator_\n",
    "y_pred = best_model.predict(X_test)\n",
    "\n",
    "# Convert predictions if needed (e.g., if using GPU-based libraries like cuML)\n",
    "y_pred = y_pred.get() if hasattr(y_pred, 'get') else y_pred\n",
    "\n",
    "# Compute evaluation metrics\n",
    "mse = mean_squared_error(y_test, y_pred)\n",
    "rmse = np.sqrt(mse)\n",
    "r2 = r2_score(y_test, y_pred)\n",
    "\n",
    "test_accs['Random Forest(PCA)'] = {'RMSE': rmse, 'R2_Score': r2}\n",
    "\n",
    "print(f\"Test RMSE: {rmse:.2f}\")\n",
    "print(f\"Test R2 Score: {r2:.2f}\")"
   ]
  },
  {
   "cell_type": "code",
   "execution_count": 32,
   "id": "ae7fe839",
   "metadata": {
    "execution": {
     "iopub.execute_input": "2025-04-21T02:28:32.297194Z",
     "iopub.status.busy": "2025-04-21T02:28:32.296958Z",
     "iopub.status.idle": "2025-04-21T02:28:32.956911Z",
     "shell.execute_reply": "2025-04-21T02:28:32.956133Z"
    },
    "papermill": {
     "duration": 0.675878,
     "end_time": "2025-04-21T02:28:32.958440",
     "exception": false,
     "start_time": "2025-04-21T02:28:32.282562",
     "status": "completed"
    },
    "tags": []
   },
   "outputs": [
    {
     "name": "stderr",
     "output_type": "stream",
     "text": [
      "\u001b[31m2025/04/21 02:28:32 WARNING mlflow.models.model: Model logged without a signature and input example. Please set `input_example` parameter when logging the model to auto infer the model signature.\u001b[0m\n"
     ]
    }
   ],
   "source": [
    "# Tracking model\n",
    "with mlflow.start_run(run_name=\"Random Forest(PCA)\"):\n",
    "    \n",
    "\n",
    "    mlflow.log_params(grid_search.best_params_)\n",
    "    mlflow.log_metric(\"rmse\", rmse)\n",
    "    mlflow.log_metric(\"r2\", r2)\n",
    "\n",
    "    mlflow.sklearn.log_model(best_model, \"Random Forest(PCA)_model\",pip_requirements=[])"
   ]
  },
  {
   "cell_type": "code",
   "execution_count": 33,
   "id": "340a8068",
   "metadata": {
    "execution": {
     "iopub.execute_input": "2025-04-21T02:28:32.987675Z",
     "iopub.status.busy": "2025-04-21T02:28:32.987371Z",
     "iopub.status.idle": "2025-04-21T02:28:33.807752Z",
     "shell.execute_reply": "2025-04-21T02:28:33.806868Z"
    },
    "papermill": {
     "duration": 0.836009,
     "end_time": "2025-04-21T02:28:33.809171",
     "exception": false,
     "start_time": "2025-04-21T02:28:32.973162",
     "status": "completed"
    },
    "tags": []
   },
   "outputs": [
    {
     "name": "stdout",
     "output_type": "stream",
     "text": [
      "Model saved successfully with dill.\n"
     ]
    }
   ],
   "source": [
    "# Saving the best model using dill\n",
    "with open('/kaggle/working/random_forest_pca_best_model.pkl', 'wb') as f:\n",
    "    dill.dump(best_model, f)\n",
    "print(\"Model saved successfully with dill.\")"
   ]
  },
  {
   "cell_type": "markdown",
   "id": "1eb9c65f",
   "metadata": {
    "papermill": {
     "duration": 0.013526,
     "end_time": "2025-04-21T02:28:33.837195",
     "exception": false,
     "start_time": "2025-04-21T02:28:33.823669",
     "status": "completed"
    },
    "tags": []
   },
   "source": [
    "# Support Vector Regressor (SVR)"
   ]
  },
  {
   "cell_type": "code",
   "execution_count": 34,
   "id": "6961bb73",
   "metadata": {
    "execution": {
     "iopub.execute_input": "2025-04-21T02:28:33.866048Z",
     "iopub.status.busy": "2025-04-21T02:28:33.865775Z",
     "iopub.status.idle": "2025-04-21T02:34:41.719788Z",
     "shell.execute_reply": "2025-04-21T02:34:41.718905Z"
    },
    "papermill": {
     "duration": 367.870127,
     "end_time": "2025-04-21T02:34:41.721129",
     "exception": false,
     "start_time": "2025-04-21T02:28:33.851002",
     "status": "completed"
    },
    "tags": []
   },
   "outputs": [
    {
     "name": "stdout",
     "output_type": "stream",
     "text": [
      "Fitting 5 folds for each of 27 candidates, totalling 135 fits\n",
      "[W] [02:33:44.108628] SVR with the linear kernel can be much faster using the specialized solver provided by LinearSVR. Consider switching to LinearSVR if tranining takes too long.\n"
     ]
    },
    {
     "data": {
      "text/html": [
       "<style>#sk-container-id-4 {color: black;background-color: white;}#sk-container-id-4 pre{padding: 0;}#sk-container-id-4 div.sk-toggleable {background-color: white;}#sk-container-id-4 label.sk-toggleable__label {cursor: pointer;display: block;width: 100%;margin-bottom: 0;padding: 0.3em;box-sizing: border-box;text-align: center;}#sk-container-id-4 label.sk-toggleable__label-arrow:before {content: \"▸\";float: left;margin-right: 0.25em;color: #696969;}#sk-container-id-4 label.sk-toggleable__label-arrow:hover:before {color: black;}#sk-container-id-4 div.sk-estimator:hover label.sk-toggleable__label-arrow:before {color: black;}#sk-container-id-4 div.sk-toggleable__content {max-height: 0;max-width: 0;overflow: hidden;text-align: left;background-color: #f0f8ff;}#sk-container-id-4 div.sk-toggleable__content pre {margin: 0.2em;color: black;border-radius: 0.25em;background-color: #f0f8ff;}#sk-container-id-4 input.sk-toggleable__control:checked~div.sk-toggleable__content {max-height: 200px;max-width: 100%;overflow: auto;}#sk-container-id-4 input.sk-toggleable__control:checked~label.sk-toggleable__label-arrow:before {content: \"▾\";}#sk-container-id-4 div.sk-estimator input.sk-toggleable__control:checked~label.sk-toggleable__label {background-color: #d4ebff;}#sk-container-id-4 div.sk-label input.sk-toggleable__control:checked~label.sk-toggleable__label {background-color: #d4ebff;}#sk-container-id-4 input.sk-hidden--visually {border: 0;clip: rect(1px 1px 1px 1px);clip: rect(1px, 1px, 1px, 1px);height: 1px;margin: -1px;overflow: hidden;padding: 0;position: absolute;width: 1px;}#sk-container-id-4 div.sk-estimator {font-family: monospace;background-color: #f0f8ff;border: 1px dotted black;border-radius: 0.25em;box-sizing: border-box;margin-bottom: 0.5em;}#sk-container-id-4 div.sk-estimator:hover {background-color: #d4ebff;}#sk-container-id-4 div.sk-parallel-item::after {content: \"\";width: 100%;border-bottom: 1px solid gray;flex-grow: 1;}#sk-container-id-4 div.sk-label:hover label.sk-toggleable__label {background-color: #d4ebff;}#sk-container-id-4 div.sk-serial::before {content: \"\";position: absolute;border-left: 1px solid gray;box-sizing: border-box;top: 0;bottom: 0;left: 50%;z-index: 0;}#sk-container-id-4 div.sk-serial {display: flex;flex-direction: column;align-items: center;background-color: white;padding-right: 0.2em;padding-left: 0.2em;position: relative;}#sk-container-id-4 div.sk-item {position: relative;z-index: 1;}#sk-container-id-4 div.sk-parallel {display: flex;align-items: stretch;justify-content: center;background-color: white;position: relative;}#sk-container-id-4 div.sk-item::before, #sk-container-id-4 div.sk-parallel-item::before {content: \"\";position: absolute;border-left: 1px solid gray;box-sizing: border-box;top: 0;bottom: 0;left: 50%;z-index: -1;}#sk-container-id-4 div.sk-parallel-item {display: flex;flex-direction: column;z-index: 1;position: relative;background-color: white;}#sk-container-id-4 div.sk-parallel-item:first-child::after {align-self: flex-end;width: 50%;}#sk-container-id-4 div.sk-parallel-item:last-child::after {align-self: flex-start;width: 50%;}#sk-container-id-4 div.sk-parallel-item:only-child::after {width: 0;}#sk-container-id-4 div.sk-dashed-wrapped {border: 1px dashed gray;margin: 0 0.4em 0.5em 0.4em;box-sizing: border-box;padding-bottom: 0.4em;background-color: white;}#sk-container-id-4 div.sk-label label {font-family: monospace;font-weight: bold;display: inline-block;line-height: 1.2em;}#sk-container-id-4 div.sk-label-container {text-align: center;}#sk-container-id-4 div.sk-container {/* jupyter's `normalize.less` sets `[hidden] { display: none; }` but bootstrap.min.css set `[hidden] { display: none !important; }` so we also need the `!important` here to be able to override the default hidden behavior on the sphinx rendered scikit-learn.org. See: https://github.com/scikit-learn/scikit-learn/issues/21755 */display: inline-block !important;position: relative;}#sk-container-id-4 div.sk-text-repr-fallback {display: none;}</style><div id=\"sk-container-id-4\" class=\"sk-top-container\"><div class=\"sk-text-repr-fallback\"><pre>GridSearchCV(cv=5,\n",
       "             estimator=Pipeline(steps=[(&#x27;preprocessor&#x27;,\n",
       "                                        ColumnTransformer(transformers=[(&#x27;cat&#x27;,\n",
       "                                                                         Pipeline(steps=[(&#x27;imputer&#x27;,\n",
       "                                                                                          SimpleImputer(strategy=&#x27;most_frequent&#x27;)),\n",
       "                                                                                         (&#x27;binary_encode&#x27;,\n",
       "                                                                                          BinaryEncoder())]),\n",
       "                                                                         Index([&#x27;Type&#x27;, &#x27;Furnished&#x27;, &#x27;Compound&#x27;, &#x27;Payment_Option&#x27;, &#x27;Delivery_Term&#x27;,\n",
       "       &#x27;City&#x27;],\n",
       "      dtype=&#x27;object&#x27;)),\n",
       "                                                                        (&#x27;num&#x27;,\n",
       "                                                                         Pipeline(steps=[(&#x27;imputer&#x27;,\n",
       "                                                                                          SimpleImputer()),\n",
       "                                                                                         (&#x27;scaler&#x27;,\n",
       "                                                                                          StandardScaler())]),\n",
       "                                                                         Index([&#x27;Bedrooms&#x27;, &#x27;Bathrooms&#x27;, &#x27;Area&#x27;, &#x27;Level&#x27;, &#x27;Delivery_Date&#x27;], dtype=&#x27;object&#x27;))])),\n",
       "                                       (&#x27;model&#x27;, SVR())]),\n",
       "             n_jobs=1,\n",
       "             param_grid={&#x27;model__C&#x27;: [0.1, 1, 10],\n",
       "                         &#x27;model__epsilon&#x27;: [0.1, 0.2, 0.5],\n",
       "                         &#x27;model__kernel&#x27;: [&#x27;linear&#x27;, &#x27;rbf&#x27;, &#x27;poly&#x27;]},\n",
       "             scoring=&#x27;neg_mean_squared_error&#x27;, verbose=1)</pre><b>In a Jupyter environment, please rerun this cell to show the HTML representation or trust the notebook. <br />On GitHub, the HTML representation is unable to render, please try loading this page with nbviewer.org.</b></div><div class=\"sk-container\" hidden><div class=\"sk-item sk-dashed-wrapped\"><div class=\"sk-label-container\"><div class=\"sk-label sk-toggleable\"><input class=\"sk-toggleable__control sk-hidden--visually\" id=\"sk-estimator-id-31\" type=\"checkbox\" ><label for=\"sk-estimator-id-31\" class=\"sk-toggleable__label sk-toggleable__label-arrow\">GridSearchCV</label><div class=\"sk-toggleable__content\"><pre>GridSearchCV(cv=5,\n",
       "             estimator=Pipeline(steps=[(&#x27;preprocessor&#x27;,\n",
       "                                        ColumnTransformer(transformers=[(&#x27;cat&#x27;,\n",
       "                                                                         Pipeline(steps=[(&#x27;imputer&#x27;,\n",
       "                                                                                          SimpleImputer(strategy=&#x27;most_frequent&#x27;)),\n",
       "                                                                                         (&#x27;binary_encode&#x27;,\n",
       "                                                                                          BinaryEncoder())]),\n",
       "                                                                         Index([&#x27;Type&#x27;, &#x27;Furnished&#x27;, &#x27;Compound&#x27;, &#x27;Payment_Option&#x27;, &#x27;Delivery_Term&#x27;,\n",
       "       &#x27;City&#x27;],\n",
       "      dtype=&#x27;object&#x27;)),\n",
       "                                                                        (&#x27;num&#x27;,\n",
       "                                                                         Pipeline(steps=[(&#x27;imputer&#x27;,\n",
       "                                                                                          SimpleImputer()),\n",
       "                                                                                         (&#x27;scaler&#x27;,\n",
       "                                                                                          StandardScaler())]),\n",
       "                                                                         Index([&#x27;Bedrooms&#x27;, &#x27;Bathrooms&#x27;, &#x27;Area&#x27;, &#x27;Level&#x27;, &#x27;Delivery_Date&#x27;], dtype=&#x27;object&#x27;))])),\n",
       "                                       (&#x27;model&#x27;, SVR())]),\n",
       "             n_jobs=1,\n",
       "             param_grid={&#x27;model__C&#x27;: [0.1, 1, 10],\n",
       "                         &#x27;model__epsilon&#x27;: [0.1, 0.2, 0.5],\n",
       "                         &#x27;model__kernel&#x27;: [&#x27;linear&#x27;, &#x27;rbf&#x27;, &#x27;poly&#x27;]},\n",
       "             scoring=&#x27;neg_mean_squared_error&#x27;, verbose=1)</pre></div></div></div><div class=\"sk-parallel\"><div class=\"sk-parallel-item\"><div class=\"sk-item\"><div class=\"sk-label-container\"><div class=\"sk-label sk-toggleable\"><input class=\"sk-toggleable__control sk-hidden--visually\" id=\"sk-estimator-id-32\" type=\"checkbox\" ><label for=\"sk-estimator-id-32\" class=\"sk-toggleable__label sk-toggleable__label-arrow\">estimator: Pipeline</label><div class=\"sk-toggleable__content\"><pre>Pipeline(steps=[(&#x27;preprocessor&#x27;,\n",
       "                 ColumnTransformer(transformers=[(&#x27;cat&#x27;,\n",
       "                                                  Pipeline(steps=[(&#x27;imputer&#x27;,\n",
       "                                                                   SimpleImputer(strategy=&#x27;most_frequent&#x27;)),\n",
       "                                                                  (&#x27;binary_encode&#x27;,\n",
       "                                                                   BinaryEncoder())]),\n",
       "                                                  Index([&#x27;Type&#x27;, &#x27;Furnished&#x27;, &#x27;Compound&#x27;, &#x27;Payment_Option&#x27;, &#x27;Delivery_Term&#x27;,\n",
       "       &#x27;City&#x27;],\n",
       "      dtype=&#x27;object&#x27;)),\n",
       "                                                 (&#x27;num&#x27;,\n",
       "                                                  Pipeline(steps=[(&#x27;imputer&#x27;,\n",
       "                                                                   SimpleImputer()),\n",
       "                                                                  (&#x27;scaler&#x27;,\n",
       "                                                                   StandardScaler())]),\n",
       "                                                  Index([&#x27;Bedrooms&#x27;, &#x27;Bathrooms&#x27;, &#x27;Area&#x27;, &#x27;Level&#x27;, &#x27;Delivery_Date&#x27;], dtype=&#x27;object&#x27;))])),\n",
       "                (&#x27;model&#x27;, SVR())])</pre></div></div></div><div class=\"sk-serial\"><div class=\"sk-item\"><div class=\"sk-serial\"><div class=\"sk-item sk-dashed-wrapped\"><div class=\"sk-label-container\"><div class=\"sk-label sk-toggleable\"><input class=\"sk-toggleable__control sk-hidden--visually\" id=\"sk-estimator-id-33\" type=\"checkbox\" ><label for=\"sk-estimator-id-33\" class=\"sk-toggleable__label sk-toggleable__label-arrow\">preprocessor: ColumnTransformer</label><div class=\"sk-toggleable__content\"><pre>ColumnTransformer(transformers=[(&#x27;cat&#x27;,\n",
       "                                 Pipeline(steps=[(&#x27;imputer&#x27;,\n",
       "                                                  SimpleImputer(strategy=&#x27;most_frequent&#x27;)),\n",
       "                                                 (&#x27;binary_encode&#x27;,\n",
       "                                                  BinaryEncoder())]),\n",
       "                                 Index([&#x27;Type&#x27;, &#x27;Furnished&#x27;, &#x27;Compound&#x27;, &#x27;Payment_Option&#x27;, &#x27;Delivery_Term&#x27;,\n",
       "       &#x27;City&#x27;],\n",
       "      dtype=&#x27;object&#x27;)),\n",
       "                                (&#x27;num&#x27;,\n",
       "                                 Pipeline(steps=[(&#x27;imputer&#x27;, SimpleImputer()),\n",
       "                                                 (&#x27;scaler&#x27;, StandardScaler())]),\n",
       "                                 Index([&#x27;Bedrooms&#x27;, &#x27;Bathrooms&#x27;, &#x27;Area&#x27;, &#x27;Level&#x27;, &#x27;Delivery_Date&#x27;], dtype=&#x27;object&#x27;))])</pre></div></div></div><div class=\"sk-parallel\"><div class=\"sk-parallel-item\"><div class=\"sk-item\"><div class=\"sk-label-container\"><div class=\"sk-label sk-toggleable\"><input class=\"sk-toggleable__control sk-hidden--visually\" id=\"sk-estimator-id-34\" type=\"checkbox\" ><label for=\"sk-estimator-id-34\" class=\"sk-toggleable__label sk-toggleable__label-arrow\">cat</label><div class=\"sk-toggleable__content\"><pre>Index([&#x27;Type&#x27;, &#x27;Furnished&#x27;, &#x27;Compound&#x27;, &#x27;Payment_Option&#x27;, &#x27;Delivery_Term&#x27;,\n",
       "       &#x27;City&#x27;],\n",
       "      dtype=&#x27;object&#x27;)</pre></div></div></div><div class=\"sk-serial\"><div class=\"sk-item\"><div class=\"sk-serial\"><div class=\"sk-item\"><div class=\"sk-estimator sk-toggleable\"><input class=\"sk-toggleable__control sk-hidden--visually\" id=\"sk-estimator-id-35\" type=\"checkbox\" ><label for=\"sk-estimator-id-35\" class=\"sk-toggleable__label sk-toggleable__label-arrow\">SimpleImputer</label><div class=\"sk-toggleable__content\"><pre>SimpleImputer(strategy=&#x27;most_frequent&#x27;)</pre></div></div></div><div class=\"sk-item\"><div class=\"sk-estimator sk-toggleable\"><input class=\"sk-toggleable__control sk-hidden--visually\" id=\"sk-estimator-id-36\" type=\"checkbox\" ><label for=\"sk-estimator-id-36\" class=\"sk-toggleable__label sk-toggleable__label-arrow\">BinaryEncoder</label><div class=\"sk-toggleable__content\"><pre>BinaryEncoder()</pre></div></div></div></div></div></div></div></div><div class=\"sk-parallel-item\"><div class=\"sk-item\"><div class=\"sk-label-container\"><div class=\"sk-label sk-toggleable\"><input class=\"sk-toggleable__control sk-hidden--visually\" id=\"sk-estimator-id-37\" type=\"checkbox\" ><label for=\"sk-estimator-id-37\" class=\"sk-toggleable__label sk-toggleable__label-arrow\">num</label><div class=\"sk-toggleable__content\"><pre>Index([&#x27;Bedrooms&#x27;, &#x27;Bathrooms&#x27;, &#x27;Area&#x27;, &#x27;Level&#x27;, &#x27;Delivery_Date&#x27;], dtype=&#x27;object&#x27;)</pre></div></div></div><div class=\"sk-serial\"><div class=\"sk-item\"><div class=\"sk-serial\"><div class=\"sk-item\"><div class=\"sk-estimator sk-toggleable\"><input class=\"sk-toggleable__control sk-hidden--visually\" id=\"sk-estimator-id-38\" type=\"checkbox\" ><label for=\"sk-estimator-id-38\" class=\"sk-toggleable__label sk-toggleable__label-arrow\">SimpleImputer</label><div class=\"sk-toggleable__content\"><pre>SimpleImputer()</pre></div></div></div><div class=\"sk-item\"><div class=\"sk-estimator sk-toggleable\"><input class=\"sk-toggleable__control sk-hidden--visually\" id=\"sk-estimator-id-39\" type=\"checkbox\" ><label for=\"sk-estimator-id-39\" class=\"sk-toggleable__label sk-toggleable__label-arrow\">StandardScaler</label><div class=\"sk-toggleable__content\"><pre>StandardScaler()</pre></div></div></div></div></div></div></div></div></div></div><div class=\"sk-item\"><div class=\"sk-estimator sk-toggleable\"><input class=\"sk-toggleable__control sk-hidden--visually\" id=\"sk-estimator-id-40\" type=\"checkbox\" ><label for=\"sk-estimator-id-40\" class=\"sk-toggleable__label sk-toggleable__label-arrow\">SVR</label><div class=\"sk-toggleable__content\"><pre>SVR()</pre></div></div></div></div></div></div></div></div></div></div></div></div>"
      ],
      "text/plain": [
       "GridSearchCV(cv=5,\n",
       "             estimator=Pipeline(steps=[('preprocessor',\n",
       "                                        ColumnTransformer(transformers=[('cat',\n",
       "                                                                         Pipeline(steps=[('imputer',\n",
       "                                                                                          SimpleImputer(strategy='most_frequent')),\n",
       "                                                                                         ('binary_encode',\n",
       "                                                                                          BinaryEncoder())]),\n",
       "                                                                         Index(['Type', 'Furnished', 'Compound', 'Payment_Option', 'Delivery_Term',\n",
       "       'City'],\n",
       "      dtype='object')),\n",
       "                                                                        ('num',\n",
       "                                                                         Pipeline(steps=[('imputer',\n",
       "                                                                                          SimpleImputer()),\n",
       "                                                                                         ('scaler',\n",
       "                                                                                          StandardScaler())]),\n",
       "                                                                         Index(['Bedrooms', 'Bathrooms', 'Area', 'Level', 'Delivery_Date'], dtype='object'))])),\n",
       "                                       ('model', SVR())]),\n",
       "             n_jobs=1,\n",
       "             param_grid={'model__C': [0.1, 1, 10],\n",
       "                         'model__epsilon': [0.1, 0.2, 0.5],\n",
       "                         'model__kernel': ['linear', 'rbf', 'poly']},\n",
       "             scoring='neg_mean_squared_error', verbose=1)"
      ]
     },
     "execution_count": 34,
     "metadata": {},
     "output_type": "execute_result"
    }
   ],
   "source": [
    "model = SVR()\n",
    "\n",
    "pipeline = Pipeline(steps=[\n",
    "    ('preprocessor', preprocessor),\n",
    "    ('model', model)\n",
    "])\n",
    "\n",
    "# Define hyperparameter grid for model tuning\n",
    "param_grid = {\n",
    "    'model__kernel': ['linear', 'rbf', 'poly']\n",
    "    ,'model__C': [0.1, 1, 10]\n",
    "    ,'model__epsilon': [0.1, 0.2, 0.5]\n",
    "}\n",
    "\n",
    "grid_search = GridSearchCV(pipeline, param_grid, cv=5, scoring='neg_mean_squared_error', verbose=1, n_jobs=1)\n",
    "grid_search.fit(X_train, y_train)"
   ]
  },
  {
   "cell_type": "code",
   "execution_count": 35,
   "id": "f0e4cc56",
   "metadata": {
    "execution": {
     "iopub.execute_input": "2025-04-21T02:34:41.750521Z",
     "iopub.status.busy": "2025-04-21T02:34:41.750288Z",
     "iopub.status.idle": "2025-04-21T02:34:41.883178Z",
     "shell.execute_reply": "2025-04-21T02:34:41.882233Z"
    },
    "papermill": {
     "duration": 0.148835,
     "end_time": "2025-04-21T02:34:41.884645",
     "exception": false,
     "start_time": "2025-04-21T02:34:41.735810",
     "status": "completed"
    },
    "tags": []
   },
   "outputs": [
    {
     "name": "stdout",
     "output_type": "stream",
     "text": [
      "Best Parameters: {'model__C': 10, 'model__epsilon': 0.2, 'model__kernel': 'linear'}\n",
      "Train RMSE: 0.84\n",
      "Train R2 Score: 0.49\n"
     ]
    }
   ],
   "source": [
    "#Evaluating the model on training set\n",
    "best_model = grid_search.best_estimator_\n",
    "y_pred = best_model.predict(X_train)\n",
    "y_pred = y_pred.get() if hasattr(y_pred, 'get') else y_pred\n",
    "\n",
    "\n",
    "\n",
    "mse = mean_squared_error(y_train, y_pred)\n",
    "rmse = np.sqrt(mse)\n",
    "r2 = r2_score(y_train, y_pred)\n",
    "\n",
    "train_accs['SVR'] = {'RMSE': rmse, 'R2_Score': r2}\n",
    "\n",
    "print(f\"Best Parameters: {grid_search.best_params_}\")\n",
    "print(f\"Train RMSE: {rmse:.2f}\")\n",
    "print(f\"Train R2 Score: {r2:.2f}\")"
   ]
  },
  {
   "cell_type": "code",
   "execution_count": 36,
   "id": "6a7ecebb",
   "metadata": {
    "execution": {
     "iopub.execute_input": "2025-04-21T02:34:41.915169Z",
     "iopub.status.busy": "2025-04-21T02:34:41.914935Z",
     "iopub.status.idle": "2025-04-21T02:34:41.965321Z",
     "shell.execute_reply": "2025-04-21T02:34:41.964642Z"
    },
    "papermill": {
     "duration": 0.066976,
     "end_time": "2025-04-21T02:34:41.966502",
     "exception": false,
     "start_time": "2025-04-21T02:34:41.899526",
     "status": "completed"
    },
    "tags": []
   },
   "outputs": [
    {
     "name": "stdout",
     "output_type": "stream",
     "text": [
      "Test RMSE: 0.83\n",
      "Test R2 Score: 0.50\n"
     ]
    }
   ],
   "source": [
    "#Evaluating the model on test set\n",
    "best_model = grid_search.best_estimator_\n",
    "y_pred = best_model.predict(X_test)\n",
    "y_pred = y_pred.get() if hasattr(y_pred, 'get') else y_pred\n",
    "\n",
    "\n",
    "\n",
    "mse = mean_squared_error(y_test, y_pred)\n",
    "rmse = np.sqrt(mse)\n",
    "r2 = r2_score(y_test, y_pred)\n",
    "\n",
    "test_accs['SVR'] = {'RMSE': rmse, 'R2_Score': r2}\n",
    "\n",
    "print(f\"Test RMSE: {rmse:.2f}\")\n",
    "print(f\"Test R2 Score: {r2:.2f}\")"
   ]
  },
  {
   "cell_type": "code",
   "execution_count": 37,
   "id": "ddc001f3",
   "metadata": {
    "execution": {
     "iopub.execute_input": "2025-04-21T02:34:41.996357Z",
     "iopub.status.busy": "2025-04-21T02:34:41.996087Z",
     "iopub.status.idle": "2025-04-21T02:34:48.325277Z",
     "shell.execute_reply": "2025-04-21T02:34:48.324649Z"
    },
    "papermill": {
     "duration": 6.345514,
     "end_time": "2025-04-21T02:34:48.326662",
     "exception": false,
     "start_time": "2025-04-21T02:34:41.981148",
     "status": "completed"
    },
    "tags": []
   },
   "outputs": [
    {
     "name": "stderr",
     "output_type": "stream",
     "text": [
      "\u001b[31m2025/04/21 02:34:48 WARNING mlflow.models.model: Model logged without a signature and input example. Please set `input_example` parameter when logging the model to auto infer the model signature.\u001b[0m\n"
     ]
    }
   ],
   "source": [
    "# Tracking model\n",
    "with mlflow.start_run(run_name=\"svr\"):\n",
    "    \n",
    "\n",
    "    mlflow.log_params(grid_search.best_params_)\n",
    "    mlflow.log_metric(\"rmse\", rmse)\n",
    "    mlflow.log_metric(\"r2\", r2)\n",
    "\n",
    "    mlflow.sklearn.log_model(best_model, \"svr_model\")"
   ]
  },
  {
   "cell_type": "code",
   "execution_count": 38,
   "id": "ecef62cf",
   "metadata": {
    "execution": {
     "iopub.execute_input": "2025-04-21T02:34:48.357389Z",
     "iopub.status.busy": "2025-04-21T02:34:48.357111Z",
     "iopub.status.idle": "2025-04-21T02:34:48.382182Z",
     "shell.execute_reply": "2025-04-21T02:34:48.381285Z"
    },
    "papermill": {
     "duration": 0.041251,
     "end_time": "2025-04-21T02:34:48.383370",
     "exception": false,
     "start_time": "2025-04-21T02:34:48.342119",
     "status": "completed"
    },
    "tags": []
   },
   "outputs": [
    {
     "name": "stdout",
     "output_type": "stream",
     "text": [
      "Model saved successfully with dill.\n"
     ]
    }
   ],
   "source": [
    "# Saving the best model\n",
    "with open('/kaggle/working/svr_best_model.pkl', 'wb') as f:\n",
    "    dill.dump(best_model, f)\n",
    "print(\"Model saved successfully with dill.\")"
   ]
  },
  {
   "cell_type": "markdown",
   "id": "201cf5e6",
   "metadata": {
    "papermill": {
     "duration": 0.013903,
     "end_time": "2025-04-21T02:34:48.411933",
     "exception": false,
     "start_time": "2025-04-21T02:34:48.398030",
     "status": "completed"
    },
    "tags": []
   },
   "source": [
    "# XGBoost"
   ]
  },
  {
   "cell_type": "code",
   "execution_count": 39,
   "id": "bd1f9711",
   "metadata": {
    "execution": {
     "iopub.execute_input": "2025-04-21T02:34:48.441226Z",
     "iopub.status.busy": "2025-04-21T02:34:48.440962Z",
     "iopub.status.idle": "2025-04-21T02:36:02.250767Z",
     "shell.execute_reply": "2025-04-21T02:36:02.249770Z"
    },
    "papermill": {
     "duration": 73.840525,
     "end_time": "2025-04-21T02:36:02.266655",
     "exception": false,
     "start_time": "2025-04-21T02:34:48.426130",
     "status": "completed"
    },
    "tags": []
   },
   "outputs": [
    {
     "name": "stdout",
     "output_type": "stream",
     "text": [
      "Fitting 5 folds for each of 27 candidates, totalling 135 fits\n"
     ]
    },
    {
     "data": {
      "text/html": [
       "<style>#sk-container-id-5 {color: black;background-color: white;}#sk-container-id-5 pre{padding: 0;}#sk-container-id-5 div.sk-toggleable {background-color: white;}#sk-container-id-5 label.sk-toggleable__label {cursor: pointer;display: block;width: 100%;margin-bottom: 0;padding: 0.3em;box-sizing: border-box;text-align: center;}#sk-container-id-5 label.sk-toggleable__label-arrow:before {content: \"▸\";float: left;margin-right: 0.25em;color: #696969;}#sk-container-id-5 label.sk-toggleable__label-arrow:hover:before {color: black;}#sk-container-id-5 div.sk-estimator:hover label.sk-toggleable__label-arrow:before {color: black;}#sk-container-id-5 div.sk-toggleable__content {max-height: 0;max-width: 0;overflow: hidden;text-align: left;background-color: #f0f8ff;}#sk-container-id-5 div.sk-toggleable__content pre {margin: 0.2em;color: black;border-radius: 0.25em;background-color: #f0f8ff;}#sk-container-id-5 input.sk-toggleable__control:checked~div.sk-toggleable__content {max-height: 200px;max-width: 100%;overflow: auto;}#sk-container-id-5 input.sk-toggleable__control:checked~label.sk-toggleable__label-arrow:before {content: \"▾\";}#sk-container-id-5 div.sk-estimator input.sk-toggleable__control:checked~label.sk-toggleable__label {background-color: #d4ebff;}#sk-container-id-5 div.sk-label input.sk-toggleable__control:checked~label.sk-toggleable__label {background-color: #d4ebff;}#sk-container-id-5 input.sk-hidden--visually {border: 0;clip: rect(1px 1px 1px 1px);clip: rect(1px, 1px, 1px, 1px);height: 1px;margin: -1px;overflow: hidden;padding: 0;position: absolute;width: 1px;}#sk-container-id-5 div.sk-estimator {font-family: monospace;background-color: #f0f8ff;border: 1px dotted black;border-radius: 0.25em;box-sizing: border-box;margin-bottom: 0.5em;}#sk-container-id-5 div.sk-estimator:hover {background-color: #d4ebff;}#sk-container-id-5 div.sk-parallel-item::after {content: \"\";width: 100%;border-bottom: 1px solid gray;flex-grow: 1;}#sk-container-id-5 div.sk-label:hover label.sk-toggleable__label {background-color: #d4ebff;}#sk-container-id-5 div.sk-serial::before {content: \"\";position: absolute;border-left: 1px solid gray;box-sizing: border-box;top: 0;bottom: 0;left: 50%;z-index: 0;}#sk-container-id-5 div.sk-serial {display: flex;flex-direction: column;align-items: center;background-color: white;padding-right: 0.2em;padding-left: 0.2em;position: relative;}#sk-container-id-5 div.sk-item {position: relative;z-index: 1;}#sk-container-id-5 div.sk-parallel {display: flex;align-items: stretch;justify-content: center;background-color: white;position: relative;}#sk-container-id-5 div.sk-item::before, #sk-container-id-5 div.sk-parallel-item::before {content: \"\";position: absolute;border-left: 1px solid gray;box-sizing: border-box;top: 0;bottom: 0;left: 50%;z-index: -1;}#sk-container-id-5 div.sk-parallel-item {display: flex;flex-direction: column;z-index: 1;position: relative;background-color: white;}#sk-container-id-5 div.sk-parallel-item:first-child::after {align-self: flex-end;width: 50%;}#sk-container-id-5 div.sk-parallel-item:last-child::after {align-self: flex-start;width: 50%;}#sk-container-id-5 div.sk-parallel-item:only-child::after {width: 0;}#sk-container-id-5 div.sk-dashed-wrapped {border: 1px dashed gray;margin: 0 0.4em 0.5em 0.4em;box-sizing: border-box;padding-bottom: 0.4em;background-color: white;}#sk-container-id-5 div.sk-label label {font-family: monospace;font-weight: bold;display: inline-block;line-height: 1.2em;}#sk-container-id-5 div.sk-label-container {text-align: center;}#sk-container-id-5 div.sk-container {/* jupyter's `normalize.less` sets `[hidden] { display: none; }` but bootstrap.min.css set `[hidden] { display: none !important; }` so we also need the `!important` here to be able to override the default hidden behavior on the sphinx rendered scikit-learn.org. See: https://github.com/scikit-learn/scikit-learn/issues/21755 */display: inline-block !important;position: relative;}#sk-container-id-5 div.sk-text-repr-fallback {display: none;}</style><div id=\"sk-container-id-5\" class=\"sk-top-container\"><div class=\"sk-text-repr-fallback\"><pre>GridSearchCV(cv=5,\n",
       "             estimator=Pipeline(steps=[(&#x27;preprocessor&#x27;,\n",
       "                                        ColumnTransformer(transformers=[(&#x27;cat&#x27;,\n",
       "                                                                         Pipeline(steps=[(&#x27;imputer&#x27;,\n",
       "                                                                                          SimpleImputer(strategy=&#x27;most_frequent&#x27;)),\n",
       "                                                                                         (&#x27;binary_encode&#x27;,\n",
       "                                                                                          BinaryEncoder())]),\n",
       "                                                                         Index([&#x27;Type&#x27;, &#x27;Furnished&#x27;, &#x27;Compound&#x27;, &#x27;Payment_Option&#x27;, &#x27;Delivery_Term&#x27;,\n",
       "       &#x27;City&#x27;],\n",
       "      dtype=&#x27;object&#x27;)),\n",
       "                                                                        (&#x27;num&#x27;,\n",
       "                                                                         Pipeline(steps=[(&#x27;imputer&#x27;,\n",
       "                                                                                          SimpleImputer()),\n",
       "                                                                                         (...\n",
       "                                                     max_depth=None,\n",
       "                                                     max_leaves=None,\n",
       "                                                     min_child_weight=None,\n",
       "                                                     missing=nan,\n",
       "                                                     monotone_constraints=None,\n",
       "                                                     multi_strategy=None,\n",
       "                                                     n_estimators=None,\n",
       "                                                     n_jobs=None,\n",
       "                                                     num_parallel_tree=None,\n",
       "                                                     random_state=42, ...))]),\n",
       "             n_jobs=-1,\n",
       "             param_grid={&#x27;model__learning_rate&#x27;: [0.01, 0.1, 0.2],\n",
       "                         &#x27;model__max_depth&#x27;: [3, 5, 7],\n",
       "                         &#x27;model__n_estimators&#x27;: [50, 100, 200]},\n",
       "             scoring=&#x27;neg_mean_squared_error&#x27;, verbose=1)</pre><b>In a Jupyter environment, please rerun this cell to show the HTML representation or trust the notebook. <br />On GitHub, the HTML representation is unable to render, please try loading this page with nbviewer.org.</b></div><div class=\"sk-container\" hidden><div class=\"sk-item sk-dashed-wrapped\"><div class=\"sk-label-container\"><div class=\"sk-label sk-toggleable\"><input class=\"sk-toggleable__control sk-hidden--visually\" id=\"sk-estimator-id-41\" type=\"checkbox\" ><label for=\"sk-estimator-id-41\" class=\"sk-toggleable__label sk-toggleable__label-arrow\">GridSearchCV</label><div class=\"sk-toggleable__content\"><pre>GridSearchCV(cv=5,\n",
       "             estimator=Pipeline(steps=[(&#x27;preprocessor&#x27;,\n",
       "                                        ColumnTransformer(transformers=[(&#x27;cat&#x27;,\n",
       "                                                                         Pipeline(steps=[(&#x27;imputer&#x27;,\n",
       "                                                                                          SimpleImputer(strategy=&#x27;most_frequent&#x27;)),\n",
       "                                                                                         (&#x27;binary_encode&#x27;,\n",
       "                                                                                          BinaryEncoder())]),\n",
       "                                                                         Index([&#x27;Type&#x27;, &#x27;Furnished&#x27;, &#x27;Compound&#x27;, &#x27;Payment_Option&#x27;, &#x27;Delivery_Term&#x27;,\n",
       "       &#x27;City&#x27;],\n",
       "      dtype=&#x27;object&#x27;)),\n",
       "                                                                        (&#x27;num&#x27;,\n",
       "                                                                         Pipeline(steps=[(&#x27;imputer&#x27;,\n",
       "                                                                                          SimpleImputer()),\n",
       "                                                                                         (...\n",
       "                                                     max_depth=None,\n",
       "                                                     max_leaves=None,\n",
       "                                                     min_child_weight=None,\n",
       "                                                     missing=nan,\n",
       "                                                     monotone_constraints=None,\n",
       "                                                     multi_strategy=None,\n",
       "                                                     n_estimators=None,\n",
       "                                                     n_jobs=None,\n",
       "                                                     num_parallel_tree=None,\n",
       "                                                     random_state=42, ...))]),\n",
       "             n_jobs=-1,\n",
       "             param_grid={&#x27;model__learning_rate&#x27;: [0.01, 0.1, 0.2],\n",
       "                         &#x27;model__max_depth&#x27;: [3, 5, 7],\n",
       "                         &#x27;model__n_estimators&#x27;: [50, 100, 200]},\n",
       "             scoring=&#x27;neg_mean_squared_error&#x27;, verbose=1)</pre></div></div></div><div class=\"sk-parallel\"><div class=\"sk-parallel-item\"><div class=\"sk-item\"><div class=\"sk-label-container\"><div class=\"sk-label sk-toggleable\"><input class=\"sk-toggleable__control sk-hidden--visually\" id=\"sk-estimator-id-42\" type=\"checkbox\" ><label for=\"sk-estimator-id-42\" class=\"sk-toggleable__label sk-toggleable__label-arrow\">estimator: Pipeline</label><div class=\"sk-toggleable__content\"><pre>Pipeline(steps=[(&#x27;preprocessor&#x27;,\n",
       "                 ColumnTransformer(transformers=[(&#x27;cat&#x27;,\n",
       "                                                  Pipeline(steps=[(&#x27;imputer&#x27;,\n",
       "                                                                   SimpleImputer(strategy=&#x27;most_frequent&#x27;)),\n",
       "                                                                  (&#x27;binary_encode&#x27;,\n",
       "                                                                   BinaryEncoder())]),\n",
       "                                                  Index([&#x27;Type&#x27;, &#x27;Furnished&#x27;, &#x27;Compound&#x27;, &#x27;Payment_Option&#x27;, &#x27;Delivery_Term&#x27;,\n",
       "       &#x27;City&#x27;],\n",
       "      dtype=&#x27;object&#x27;)),\n",
       "                                                 (&#x27;num&#x27;,\n",
       "                                                  Pipeline(steps=[(&#x27;imputer&#x27;,\n",
       "                                                                   SimpleImputer()),\n",
       "                                                                  (&#x27;scaler&#x27;,\n",
       "                                                                   StandardScaler())])...\n",
       "                              feature_types=None, gamma=None, grow_policy=None,\n",
       "                              importance_type=None,\n",
       "                              interaction_constraints=None, learning_rate=None,\n",
       "                              max_bin=None, max_cat_threshold=None,\n",
       "                              max_cat_to_onehot=None, max_delta_step=None,\n",
       "                              max_depth=None, max_leaves=None,\n",
       "                              min_child_weight=None, missing=nan,\n",
       "                              monotone_constraints=None, multi_strategy=None,\n",
       "                              n_estimators=None, n_jobs=None,\n",
       "                              num_parallel_tree=None, random_state=42, ...))])</pre></div></div></div><div class=\"sk-serial\"><div class=\"sk-item\"><div class=\"sk-serial\"><div class=\"sk-item sk-dashed-wrapped\"><div class=\"sk-label-container\"><div class=\"sk-label sk-toggleable\"><input class=\"sk-toggleable__control sk-hidden--visually\" id=\"sk-estimator-id-43\" type=\"checkbox\" ><label for=\"sk-estimator-id-43\" class=\"sk-toggleable__label sk-toggleable__label-arrow\">preprocessor: ColumnTransformer</label><div class=\"sk-toggleable__content\"><pre>ColumnTransformer(transformers=[(&#x27;cat&#x27;,\n",
       "                                 Pipeline(steps=[(&#x27;imputer&#x27;,\n",
       "                                                  SimpleImputer(strategy=&#x27;most_frequent&#x27;)),\n",
       "                                                 (&#x27;binary_encode&#x27;,\n",
       "                                                  BinaryEncoder())]),\n",
       "                                 Index([&#x27;Type&#x27;, &#x27;Furnished&#x27;, &#x27;Compound&#x27;, &#x27;Payment_Option&#x27;, &#x27;Delivery_Term&#x27;,\n",
       "       &#x27;City&#x27;],\n",
       "      dtype=&#x27;object&#x27;)),\n",
       "                                (&#x27;num&#x27;,\n",
       "                                 Pipeline(steps=[(&#x27;imputer&#x27;, SimpleImputer()),\n",
       "                                                 (&#x27;scaler&#x27;, StandardScaler())]),\n",
       "                                 Index([&#x27;Bedrooms&#x27;, &#x27;Bathrooms&#x27;, &#x27;Area&#x27;, &#x27;Level&#x27;, &#x27;Delivery_Date&#x27;], dtype=&#x27;object&#x27;))])</pre></div></div></div><div class=\"sk-parallel\"><div class=\"sk-parallel-item\"><div class=\"sk-item\"><div class=\"sk-label-container\"><div class=\"sk-label sk-toggleable\"><input class=\"sk-toggleable__control sk-hidden--visually\" id=\"sk-estimator-id-44\" type=\"checkbox\" ><label for=\"sk-estimator-id-44\" class=\"sk-toggleable__label sk-toggleable__label-arrow\">cat</label><div class=\"sk-toggleable__content\"><pre>Index([&#x27;Type&#x27;, &#x27;Furnished&#x27;, &#x27;Compound&#x27;, &#x27;Payment_Option&#x27;, &#x27;Delivery_Term&#x27;,\n",
       "       &#x27;City&#x27;],\n",
       "      dtype=&#x27;object&#x27;)</pre></div></div></div><div class=\"sk-serial\"><div class=\"sk-item\"><div class=\"sk-serial\"><div class=\"sk-item\"><div class=\"sk-estimator sk-toggleable\"><input class=\"sk-toggleable__control sk-hidden--visually\" id=\"sk-estimator-id-45\" type=\"checkbox\" ><label for=\"sk-estimator-id-45\" class=\"sk-toggleable__label sk-toggleable__label-arrow\">SimpleImputer</label><div class=\"sk-toggleable__content\"><pre>SimpleImputer(strategy=&#x27;most_frequent&#x27;)</pre></div></div></div><div class=\"sk-item\"><div class=\"sk-estimator sk-toggleable\"><input class=\"sk-toggleable__control sk-hidden--visually\" id=\"sk-estimator-id-46\" type=\"checkbox\" ><label for=\"sk-estimator-id-46\" class=\"sk-toggleable__label sk-toggleable__label-arrow\">BinaryEncoder</label><div class=\"sk-toggleable__content\"><pre>BinaryEncoder()</pre></div></div></div></div></div></div></div></div><div class=\"sk-parallel-item\"><div class=\"sk-item\"><div class=\"sk-label-container\"><div class=\"sk-label sk-toggleable\"><input class=\"sk-toggleable__control sk-hidden--visually\" id=\"sk-estimator-id-47\" type=\"checkbox\" ><label for=\"sk-estimator-id-47\" class=\"sk-toggleable__label sk-toggleable__label-arrow\">num</label><div class=\"sk-toggleable__content\"><pre>Index([&#x27;Bedrooms&#x27;, &#x27;Bathrooms&#x27;, &#x27;Area&#x27;, &#x27;Level&#x27;, &#x27;Delivery_Date&#x27;], dtype=&#x27;object&#x27;)</pre></div></div></div><div class=\"sk-serial\"><div class=\"sk-item\"><div class=\"sk-serial\"><div class=\"sk-item\"><div class=\"sk-estimator sk-toggleable\"><input class=\"sk-toggleable__control sk-hidden--visually\" id=\"sk-estimator-id-48\" type=\"checkbox\" ><label for=\"sk-estimator-id-48\" class=\"sk-toggleable__label sk-toggleable__label-arrow\">SimpleImputer</label><div class=\"sk-toggleable__content\"><pre>SimpleImputer()</pre></div></div></div><div class=\"sk-item\"><div class=\"sk-estimator sk-toggleable\"><input class=\"sk-toggleable__control sk-hidden--visually\" id=\"sk-estimator-id-49\" type=\"checkbox\" ><label for=\"sk-estimator-id-49\" class=\"sk-toggleable__label sk-toggleable__label-arrow\">StandardScaler</label><div class=\"sk-toggleable__content\"><pre>StandardScaler()</pre></div></div></div></div></div></div></div></div></div></div><div class=\"sk-item\"><div class=\"sk-estimator sk-toggleable\"><input class=\"sk-toggleable__control sk-hidden--visually\" id=\"sk-estimator-id-50\" type=\"checkbox\" ><label for=\"sk-estimator-id-50\" class=\"sk-toggleable__label sk-toggleable__label-arrow\">XGBRegressor</label><div class=\"sk-toggleable__content\"><pre>XGBRegressor(base_score=None, booster=None, callbacks=None,\n",
       "             colsample_bylevel=None, colsample_bynode=None,\n",
       "             colsample_bytree=None, device=&#x27;cuda&#x27;, early_stopping_rounds=None,\n",
       "             enable_categorical=False, eval_metric=None, feature_types=None,\n",
       "             gamma=None, grow_policy=None, importance_type=None,\n",
       "             interaction_constraints=None, learning_rate=None, max_bin=None,\n",
       "             max_cat_threshold=None, max_cat_to_onehot=None,\n",
       "             max_delta_step=None, max_depth=None, max_leaves=None,\n",
       "             min_child_weight=None, missing=nan, monotone_constraints=None,\n",
       "             multi_strategy=None, n_estimators=None, n_jobs=None,\n",
       "             num_parallel_tree=None, random_state=42, ...)</pre></div></div></div></div></div></div></div></div></div></div></div></div>"
      ],
      "text/plain": [
       "GridSearchCV(cv=5,\n",
       "             estimator=Pipeline(steps=[('preprocessor',\n",
       "                                        ColumnTransformer(transformers=[('cat',\n",
       "                                                                         Pipeline(steps=[('imputer',\n",
       "                                                                                          SimpleImputer(strategy='most_frequent')),\n",
       "                                                                                         ('binary_encode',\n",
       "                                                                                          BinaryEncoder())]),\n",
       "                                                                         Index(['Type', 'Furnished', 'Compound', 'Payment_Option', 'Delivery_Term',\n",
       "       'City'],\n",
       "      dtype='object')),\n",
       "                                                                        ('num',\n",
       "                                                                         Pipeline(steps=[('imputer',\n",
       "                                                                                          SimpleImputer()),\n",
       "                                                                                         (...\n",
       "                                                     max_depth=None,\n",
       "                                                     max_leaves=None,\n",
       "                                                     min_child_weight=None,\n",
       "                                                     missing=nan,\n",
       "                                                     monotone_constraints=None,\n",
       "                                                     multi_strategy=None,\n",
       "                                                     n_estimators=None,\n",
       "                                                     n_jobs=None,\n",
       "                                                     num_parallel_tree=None,\n",
       "                                                     random_state=42, ...))]),\n",
       "             n_jobs=-1,\n",
       "             param_grid={'model__learning_rate': [0.01, 0.1, 0.2],\n",
       "                         'model__max_depth': [3, 5, 7],\n",
       "                         'model__n_estimators': [50, 100, 200]},\n",
       "             scoring='neg_mean_squared_error', verbose=1)"
      ]
     },
     "execution_count": 39,
     "metadata": {},
     "output_type": "execute_result"
    }
   ],
   "source": [
    "# Dynamically set the device parameter\n",
    "device = 'cuda' if GPU_AVAILABLE else 'cpu'\n",
    "\n",
    "\n",
    "# Define the model\n",
    "model = XGBRegressor(tree_method='hist', device=device, random_state=42)\n",
    "\n",
    "\n",
    "pipeline = Pipeline(steps=[\n",
    "    ('preprocessor', preprocessor),\n",
    "    ('model', model)\n",
    "])\n",
    "\n",
    "param_grid = {\n",
    "    'model__n_estimators': [50, 100, 200],\n",
    "    'model__learning_rate': [0.01, 0.1, 0.2],\n",
    "    'model__max_depth': [3, 5, 7]\n",
    "}\n",
    "\n",
    "# param_grid = {\n",
    "#     'model__n_estimators': [ 200],\n",
    "#     'model__learning_rate': [0.1],\n",
    "#     'model__max_depth': [7]\n",
    "# }\n",
    "\n",
    "grid_search = GridSearchCV(pipeline, param_grid, cv=5, scoring='neg_mean_squared_error', verbose=1, n_jobs=-1)\n",
    "grid_search.fit(X_train, y_train)"
   ]
  },
  {
   "cell_type": "code",
   "execution_count": 40,
   "id": "130c4e6e",
   "metadata": {
    "execution": {
     "iopub.execute_input": "2025-04-21T02:36:02.296562Z",
     "iopub.status.busy": "2025-04-21T02:36:02.296295Z",
     "iopub.status.idle": "2025-04-21T02:36:02.379005Z",
     "shell.execute_reply": "2025-04-21T02:36:02.378056Z"
    },
    "papermill": {
     "duration": 0.099231,
     "end_time": "2025-04-21T02:36:02.380463",
     "exception": false,
     "start_time": "2025-04-21T02:36:02.281232",
     "status": "completed"
    },
    "tags": []
   },
   "outputs": [
    {
     "name": "stdout",
     "output_type": "stream",
     "text": [
      "Best Parameters: {'model__learning_rate': 0.1, 'model__max_depth': 7, 'model__n_estimators': 200}\n",
      "Train RMSE: 0.54\n",
      "Train R2 Score: 0.79\n"
     ]
    },
    {
     "name": "stderr",
     "output_type": "stream",
     "text": [
      "/usr/local/lib/python3.10/dist-packages/xgboost/core.py:160: UserWarning: [02:36:02] WARNING: /workspace/src/common/error_msg.cc:58: Falling back to prediction using DMatrix due to mismatched devices. This might lead to higher memory usage and slower performance. XGBoost is running on: cuda:0, while the input data is on: cpu.\n",
      "Potential solutions:\n",
      "- Use a data structure that matches the device ordinal in the booster.\n",
      "- Set the device for booster before call to inplace_predict.\n",
      "\n",
      "This warning will only be shown once.\n",
      "\n",
      "  warnings.warn(smsg, UserWarning)\n"
     ]
    }
   ],
   "source": [
    "#Evaluting the model on training set\n",
    "best_model = grid_search.best_estimator_\n",
    "y_pred = best_model.predict(X_train)\n",
    "y_pred = y_pred.get() if hasattr(y_pred, 'get') else y_pred\n",
    "\n",
    "mse = mean_squared_error(y_train, y_pred)\n",
    "rmse = np.sqrt(mse)\n",
    "r2 = r2_score(y_train, y_pred)\n",
    "\n",
    "train_accs['XGBoost'] = {'RMSE': rmse, 'R2_Score': r2}\n",
    "\n",
    "print(f\"Best Parameters: {grid_search.best_params_}\")\n",
    "print(f\"Train RMSE: {rmse:.2f}\")\n",
    "print(f\"Train R2 Score: {r2:.2f}\")"
   ]
  },
  {
   "cell_type": "code",
   "execution_count": 41,
   "id": "94d1bc81",
   "metadata": {
    "execution": {
     "iopub.execute_input": "2025-04-21T02:36:02.411714Z",
     "iopub.status.busy": "2025-04-21T02:36:02.411411Z",
     "iopub.status.idle": "2025-04-21T02:36:02.445301Z",
     "shell.execute_reply": "2025-04-21T02:36:02.444548Z"
    },
    "papermill": {
     "duration": 0.050505,
     "end_time": "2025-04-21T02:36:02.446705",
     "exception": false,
     "start_time": "2025-04-21T02:36:02.396200",
     "status": "completed"
    },
    "tags": []
   },
   "outputs": [
    {
     "name": "stdout",
     "output_type": "stream",
     "text": [
      "Test RMSE: 0.70\n",
      "Test R2 Score: 0.65\n"
     ]
    }
   ],
   "source": [
    "#Evaluting the model on test set\n",
    "best_model = grid_search.best_estimator_\n",
    "y_pred = best_model.predict(X_test)\n",
    "y_pred = y_pred.get() if hasattr(y_pred, 'get') else y_pred\n",
    "\n",
    "mse = mean_squared_error(y_test, y_pred)\n",
    "rmse = np.sqrt(mse)\n",
    "r2 = r2_score(y_test, y_pred)\n",
    "\n",
    "test_accs['XGBoost'] = {'RMSE': rmse, 'R2_Score': r2}\n",
    "\n",
    "print(f\"Test RMSE: {rmse:.2f}\")\n",
    "print(f\"Test R2 Score: {r2:.2f}\")"
   ]
  },
  {
   "cell_type": "code",
   "execution_count": 42,
   "id": "ffd5cef5",
   "metadata": {
    "execution": {
     "iopub.execute_input": "2025-04-21T02:36:02.478538Z",
     "iopub.status.busy": "2025-04-21T02:36:02.478278Z",
     "iopub.status.idle": "2025-04-21T02:36:08.615500Z",
     "shell.execute_reply": "2025-04-21T02:36:08.614646Z"
    },
    "papermill": {
     "duration": 6.154373,
     "end_time": "2025-04-21T02:36:08.617120",
     "exception": false,
     "start_time": "2025-04-21T02:36:02.462747",
     "status": "completed"
    },
    "tags": []
   },
   "outputs": [
    {
     "name": "stderr",
     "output_type": "stream",
     "text": [
      "\u001b[31m2025/04/21 02:36:08 WARNING mlflow.models.model: Model logged without a signature and input example. Please set `input_example` parameter when logging the model to auto infer the model signature.\u001b[0m\n"
     ]
    }
   ],
   "source": [
    "# Tracking model\n",
    "with mlflow.start_run(run_name=\"xgboost\"):\n",
    "    \n",
    "\n",
    "    mlflow.log_params(grid_search.best_params_)\n",
    "    mlflow.log_metric(\"rmse\", rmse)\n",
    "    mlflow.log_metric(\"r2\", r2)\n",
    "\n",
    "    mlflow.sklearn.log_model(best_model, \"xgboost_model\")"
   ]
  },
  {
   "cell_type": "code",
   "execution_count": 43,
   "id": "249e601b",
   "metadata": {
    "execution": {
     "iopub.execute_input": "2025-04-21T02:36:08.648893Z",
     "iopub.status.busy": "2025-04-21T02:36:08.648643Z",
     "iopub.status.idle": "2025-04-21T02:36:08.673019Z",
     "shell.execute_reply": "2025-04-21T02:36:08.672125Z"
    },
    "papermill": {
     "duration": 0.04166,
     "end_time": "2025-04-21T02:36:08.674414",
     "exception": false,
     "start_time": "2025-04-21T02:36:08.632754",
     "status": "completed"
    },
    "tags": []
   },
   "outputs": [
    {
     "name": "stdout",
     "output_type": "stream",
     "text": [
      "Model saved successfully with dill.\n"
     ]
    }
   ],
   "source": [
    "# Saving the best model\n",
    "with open('/kaggle/working/xgboost_best_model.pkl', 'wb') as f:\n",
    "    dill.dump(best_model, f)\n",
    "print(\"Model saved successfully with dill.\")"
   ]
  },
  {
   "cell_type": "markdown",
   "id": "d04466b6",
   "metadata": {
    "papermill": {
     "duration": 0.014985,
     "end_time": "2025-04-21T02:36:08.705951",
     "exception": false,
     "start_time": "2025-04-21T02:36:08.690966",
     "status": "completed"
    },
    "tags": []
   },
   "source": [
    "# LightGBM"
   ]
  },
  {
   "cell_type": "code",
   "execution_count": 44,
   "id": "986a597f",
   "metadata": {
    "execution": {
     "iopub.execute_input": "2025-04-21T02:36:08.737286Z",
     "iopub.status.busy": "2025-04-21T02:36:08.736962Z",
     "iopub.status.idle": "2025-04-21T02:37:56.681012Z",
     "shell.execute_reply": "2025-04-21T02:37:56.679991Z"
    },
    "papermill": {
     "duration": 107.961099,
     "end_time": "2025-04-21T02:37:56.682495",
     "exception": false,
     "start_time": "2025-04-21T02:36:08.721396",
     "status": "completed"
    },
    "tags": []
   },
   "outputs": [
    {
     "name": "stdout",
     "output_type": "stream",
     "text": [
      "Fitting 5 folds for each of 27 candidates, totalling 135 fits\n",
      "[LightGBM] [Info] This is the GPU trainer!!\n",
      "[LightGBM] [Info] Total Bins 360\n",
      "[LightGBM] [Info] Number of data points in the train set: 16472, number of used features: 33\n",
      "[LightGBM] [Info] Using GPU Device: Tesla T4, Vendor: NVIDIA Corporation\n",
      "[LightGBM] [Info] Compiling OpenCL Kernel with 256 bins...\n",
      "[LightGBM] [Info] GPU programs have been built\n",
      "[LightGBM] [Info] Size of histogram bin entry: 8\n",
      "[LightGBM] [Info] 12 dense feature groups (0.19 MB) transferred to GPU in 0.001203 secs. 1 sparse feature groups\n",
      "[LightGBM] [Info] Start training from score 14.539200\n"
     ]
    },
    {
     "data": {
      "text/html": [
       "<style>#sk-container-id-6 {color: black;background-color: white;}#sk-container-id-6 pre{padding: 0;}#sk-container-id-6 div.sk-toggleable {background-color: white;}#sk-container-id-6 label.sk-toggleable__label {cursor: pointer;display: block;width: 100%;margin-bottom: 0;padding: 0.3em;box-sizing: border-box;text-align: center;}#sk-container-id-6 label.sk-toggleable__label-arrow:before {content: \"▸\";float: left;margin-right: 0.25em;color: #696969;}#sk-container-id-6 label.sk-toggleable__label-arrow:hover:before {color: black;}#sk-container-id-6 div.sk-estimator:hover label.sk-toggleable__label-arrow:before {color: black;}#sk-container-id-6 div.sk-toggleable__content {max-height: 0;max-width: 0;overflow: hidden;text-align: left;background-color: #f0f8ff;}#sk-container-id-6 div.sk-toggleable__content pre {margin: 0.2em;color: black;border-radius: 0.25em;background-color: #f0f8ff;}#sk-container-id-6 input.sk-toggleable__control:checked~div.sk-toggleable__content {max-height: 200px;max-width: 100%;overflow: auto;}#sk-container-id-6 input.sk-toggleable__control:checked~label.sk-toggleable__label-arrow:before {content: \"▾\";}#sk-container-id-6 div.sk-estimator input.sk-toggleable__control:checked~label.sk-toggleable__label {background-color: #d4ebff;}#sk-container-id-6 div.sk-label input.sk-toggleable__control:checked~label.sk-toggleable__label {background-color: #d4ebff;}#sk-container-id-6 input.sk-hidden--visually {border: 0;clip: rect(1px 1px 1px 1px);clip: rect(1px, 1px, 1px, 1px);height: 1px;margin: -1px;overflow: hidden;padding: 0;position: absolute;width: 1px;}#sk-container-id-6 div.sk-estimator {font-family: monospace;background-color: #f0f8ff;border: 1px dotted black;border-radius: 0.25em;box-sizing: border-box;margin-bottom: 0.5em;}#sk-container-id-6 div.sk-estimator:hover {background-color: #d4ebff;}#sk-container-id-6 div.sk-parallel-item::after {content: \"\";width: 100%;border-bottom: 1px solid gray;flex-grow: 1;}#sk-container-id-6 div.sk-label:hover label.sk-toggleable__label {background-color: #d4ebff;}#sk-container-id-6 div.sk-serial::before {content: \"\";position: absolute;border-left: 1px solid gray;box-sizing: border-box;top: 0;bottom: 0;left: 50%;z-index: 0;}#sk-container-id-6 div.sk-serial {display: flex;flex-direction: column;align-items: center;background-color: white;padding-right: 0.2em;padding-left: 0.2em;position: relative;}#sk-container-id-6 div.sk-item {position: relative;z-index: 1;}#sk-container-id-6 div.sk-parallel {display: flex;align-items: stretch;justify-content: center;background-color: white;position: relative;}#sk-container-id-6 div.sk-item::before, #sk-container-id-6 div.sk-parallel-item::before {content: \"\";position: absolute;border-left: 1px solid gray;box-sizing: border-box;top: 0;bottom: 0;left: 50%;z-index: -1;}#sk-container-id-6 div.sk-parallel-item {display: flex;flex-direction: column;z-index: 1;position: relative;background-color: white;}#sk-container-id-6 div.sk-parallel-item:first-child::after {align-self: flex-end;width: 50%;}#sk-container-id-6 div.sk-parallel-item:last-child::after {align-self: flex-start;width: 50%;}#sk-container-id-6 div.sk-parallel-item:only-child::after {width: 0;}#sk-container-id-6 div.sk-dashed-wrapped {border: 1px dashed gray;margin: 0 0.4em 0.5em 0.4em;box-sizing: border-box;padding-bottom: 0.4em;background-color: white;}#sk-container-id-6 div.sk-label label {font-family: monospace;font-weight: bold;display: inline-block;line-height: 1.2em;}#sk-container-id-6 div.sk-label-container {text-align: center;}#sk-container-id-6 div.sk-container {/* jupyter's `normalize.less` sets `[hidden] { display: none; }` but bootstrap.min.css set `[hidden] { display: none !important; }` so we also need the `!important` here to be able to override the default hidden behavior on the sphinx rendered scikit-learn.org. See: https://github.com/scikit-learn/scikit-learn/issues/21755 */display: inline-block !important;position: relative;}#sk-container-id-6 div.sk-text-repr-fallback {display: none;}</style><div id=\"sk-container-id-6\" class=\"sk-top-container\"><div class=\"sk-text-repr-fallback\"><pre>GridSearchCV(cv=5,\n",
       "             estimator=Pipeline(steps=[(&#x27;preprocessor&#x27;,\n",
       "                                        ColumnTransformer(transformers=[(&#x27;cat&#x27;,\n",
       "                                                                         Pipeline(steps=[(&#x27;imputer&#x27;,\n",
       "                                                                                          SimpleImputer(strategy=&#x27;most_frequent&#x27;)),\n",
       "                                                                                         (&#x27;binary_encode&#x27;,\n",
       "                                                                                          BinaryEncoder())]),\n",
       "                                                                         Index([&#x27;Type&#x27;, &#x27;Furnished&#x27;, &#x27;Compound&#x27;, &#x27;Payment_Option&#x27;, &#x27;Delivery_Term&#x27;,\n",
       "       &#x27;City&#x27;],\n",
       "      dtype=&#x27;object&#x27;)),\n",
       "                                                                        (&#x27;num&#x27;,\n",
       "                                                                         Pipeline(steps=[(&#x27;imputer&#x27;,\n",
       "                                                                                          SimpleImputer()),\n",
       "                                                                                         (&#x27;scaler&#x27;,\n",
       "                                                                                          StandardScaler())]),\n",
       "                                                                         Index([&#x27;Bedrooms&#x27;, &#x27;Bathrooms&#x27;, &#x27;Area&#x27;, &#x27;Level&#x27;, &#x27;Delivery_Date&#x27;], dtype=&#x27;object&#x27;))])),\n",
       "                                       (&#x27;model&#x27;,\n",
       "                                        LGBMRegressor(device=&#x27;gpu&#x27;,\n",
       "                                                      random_state=42))]),\n",
       "             n_jobs=-1,\n",
       "             param_grid={&#x27;model__learning_rate&#x27;: [0.01, 0.1, 0.2],\n",
       "                         &#x27;model__max_depth&#x27;: [-1, 10, 20],\n",
       "                         &#x27;model__n_estimators&#x27;: [50, 100, 200]},\n",
       "             scoring=&#x27;neg_mean_squared_error&#x27;, verbose=1)</pre><b>In a Jupyter environment, please rerun this cell to show the HTML representation or trust the notebook. <br />On GitHub, the HTML representation is unable to render, please try loading this page with nbviewer.org.</b></div><div class=\"sk-container\" hidden><div class=\"sk-item sk-dashed-wrapped\"><div class=\"sk-label-container\"><div class=\"sk-label sk-toggleable\"><input class=\"sk-toggleable__control sk-hidden--visually\" id=\"sk-estimator-id-51\" type=\"checkbox\" ><label for=\"sk-estimator-id-51\" class=\"sk-toggleable__label sk-toggleable__label-arrow\">GridSearchCV</label><div class=\"sk-toggleable__content\"><pre>GridSearchCV(cv=5,\n",
       "             estimator=Pipeline(steps=[(&#x27;preprocessor&#x27;,\n",
       "                                        ColumnTransformer(transformers=[(&#x27;cat&#x27;,\n",
       "                                                                         Pipeline(steps=[(&#x27;imputer&#x27;,\n",
       "                                                                                          SimpleImputer(strategy=&#x27;most_frequent&#x27;)),\n",
       "                                                                                         (&#x27;binary_encode&#x27;,\n",
       "                                                                                          BinaryEncoder())]),\n",
       "                                                                         Index([&#x27;Type&#x27;, &#x27;Furnished&#x27;, &#x27;Compound&#x27;, &#x27;Payment_Option&#x27;, &#x27;Delivery_Term&#x27;,\n",
       "       &#x27;City&#x27;],\n",
       "      dtype=&#x27;object&#x27;)),\n",
       "                                                                        (&#x27;num&#x27;,\n",
       "                                                                         Pipeline(steps=[(&#x27;imputer&#x27;,\n",
       "                                                                                          SimpleImputer()),\n",
       "                                                                                         (&#x27;scaler&#x27;,\n",
       "                                                                                          StandardScaler())]),\n",
       "                                                                         Index([&#x27;Bedrooms&#x27;, &#x27;Bathrooms&#x27;, &#x27;Area&#x27;, &#x27;Level&#x27;, &#x27;Delivery_Date&#x27;], dtype=&#x27;object&#x27;))])),\n",
       "                                       (&#x27;model&#x27;,\n",
       "                                        LGBMRegressor(device=&#x27;gpu&#x27;,\n",
       "                                                      random_state=42))]),\n",
       "             n_jobs=-1,\n",
       "             param_grid={&#x27;model__learning_rate&#x27;: [0.01, 0.1, 0.2],\n",
       "                         &#x27;model__max_depth&#x27;: [-1, 10, 20],\n",
       "                         &#x27;model__n_estimators&#x27;: [50, 100, 200]},\n",
       "             scoring=&#x27;neg_mean_squared_error&#x27;, verbose=1)</pre></div></div></div><div class=\"sk-parallel\"><div class=\"sk-parallel-item\"><div class=\"sk-item\"><div class=\"sk-label-container\"><div class=\"sk-label sk-toggleable\"><input class=\"sk-toggleable__control sk-hidden--visually\" id=\"sk-estimator-id-52\" type=\"checkbox\" ><label for=\"sk-estimator-id-52\" class=\"sk-toggleable__label sk-toggleable__label-arrow\">estimator: Pipeline</label><div class=\"sk-toggleable__content\"><pre>Pipeline(steps=[(&#x27;preprocessor&#x27;,\n",
       "                 ColumnTransformer(transformers=[(&#x27;cat&#x27;,\n",
       "                                                  Pipeline(steps=[(&#x27;imputer&#x27;,\n",
       "                                                                   SimpleImputer(strategy=&#x27;most_frequent&#x27;)),\n",
       "                                                                  (&#x27;binary_encode&#x27;,\n",
       "                                                                   BinaryEncoder())]),\n",
       "                                                  Index([&#x27;Type&#x27;, &#x27;Furnished&#x27;, &#x27;Compound&#x27;, &#x27;Payment_Option&#x27;, &#x27;Delivery_Term&#x27;,\n",
       "       &#x27;City&#x27;],\n",
       "      dtype=&#x27;object&#x27;)),\n",
       "                                                 (&#x27;num&#x27;,\n",
       "                                                  Pipeline(steps=[(&#x27;imputer&#x27;,\n",
       "                                                                   SimpleImputer()),\n",
       "                                                                  (&#x27;scaler&#x27;,\n",
       "                                                                   StandardScaler())]),\n",
       "                                                  Index([&#x27;Bedrooms&#x27;, &#x27;Bathrooms&#x27;, &#x27;Area&#x27;, &#x27;Level&#x27;, &#x27;Delivery_Date&#x27;], dtype=&#x27;object&#x27;))])),\n",
       "                (&#x27;model&#x27;, LGBMRegressor(device=&#x27;gpu&#x27;, random_state=42))])</pre></div></div></div><div class=\"sk-serial\"><div class=\"sk-item\"><div class=\"sk-serial\"><div class=\"sk-item sk-dashed-wrapped\"><div class=\"sk-label-container\"><div class=\"sk-label sk-toggleable\"><input class=\"sk-toggleable__control sk-hidden--visually\" id=\"sk-estimator-id-53\" type=\"checkbox\" ><label for=\"sk-estimator-id-53\" class=\"sk-toggleable__label sk-toggleable__label-arrow\">preprocessor: ColumnTransformer</label><div class=\"sk-toggleable__content\"><pre>ColumnTransformer(transformers=[(&#x27;cat&#x27;,\n",
       "                                 Pipeline(steps=[(&#x27;imputer&#x27;,\n",
       "                                                  SimpleImputer(strategy=&#x27;most_frequent&#x27;)),\n",
       "                                                 (&#x27;binary_encode&#x27;,\n",
       "                                                  BinaryEncoder())]),\n",
       "                                 Index([&#x27;Type&#x27;, &#x27;Furnished&#x27;, &#x27;Compound&#x27;, &#x27;Payment_Option&#x27;, &#x27;Delivery_Term&#x27;,\n",
       "       &#x27;City&#x27;],\n",
       "      dtype=&#x27;object&#x27;)),\n",
       "                                (&#x27;num&#x27;,\n",
       "                                 Pipeline(steps=[(&#x27;imputer&#x27;, SimpleImputer()),\n",
       "                                                 (&#x27;scaler&#x27;, StandardScaler())]),\n",
       "                                 Index([&#x27;Bedrooms&#x27;, &#x27;Bathrooms&#x27;, &#x27;Area&#x27;, &#x27;Level&#x27;, &#x27;Delivery_Date&#x27;], dtype=&#x27;object&#x27;))])</pre></div></div></div><div class=\"sk-parallel\"><div class=\"sk-parallel-item\"><div class=\"sk-item\"><div class=\"sk-label-container\"><div class=\"sk-label sk-toggleable\"><input class=\"sk-toggleable__control sk-hidden--visually\" id=\"sk-estimator-id-54\" type=\"checkbox\" ><label for=\"sk-estimator-id-54\" class=\"sk-toggleable__label sk-toggleable__label-arrow\">cat</label><div class=\"sk-toggleable__content\"><pre>Index([&#x27;Type&#x27;, &#x27;Furnished&#x27;, &#x27;Compound&#x27;, &#x27;Payment_Option&#x27;, &#x27;Delivery_Term&#x27;,\n",
       "       &#x27;City&#x27;],\n",
       "      dtype=&#x27;object&#x27;)</pre></div></div></div><div class=\"sk-serial\"><div class=\"sk-item\"><div class=\"sk-serial\"><div class=\"sk-item\"><div class=\"sk-estimator sk-toggleable\"><input class=\"sk-toggleable__control sk-hidden--visually\" id=\"sk-estimator-id-55\" type=\"checkbox\" ><label for=\"sk-estimator-id-55\" class=\"sk-toggleable__label sk-toggleable__label-arrow\">SimpleImputer</label><div class=\"sk-toggleable__content\"><pre>SimpleImputer(strategy=&#x27;most_frequent&#x27;)</pre></div></div></div><div class=\"sk-item\"><div class=\"sk-estimator sk-toggleable\"><input class=\"sk-toggleable__control sk-hidden--visually\" id=\"sk-estimator-id-56\" type=\"checkbox\" ><label for=\"sk-estimator-id-56\" class=\"sk-toggleable__label sk-toggleable__label-arrow\">BinaryEncoder</label><div class=\"sk-toggleable__content\"><pre>BinaryEncoder()</pre></div></div></div></div></div></div></div></div><div class=\"sk-parallel-item\"><div class=\"sk-item\"><div class=\"sk-label-container\"><div class=\"sk-label sk-toggleable\"><input class=\"sk-toggleable__control sk-hidden--visually\" id=\"sk-estimator-id-57\" type=\"checkbox\" ><label for=\"sk-estimator-id-57\" class=\"sk-toggleable__label sk-toggleable__label-arrow\">num</label><div class=\"sk-toggleable__content\"><pre>Index([&#x27;Bedrooms&#x27;, &#x27;Bathrooms&#x27;, &#x27;Area&#x27;, &#x27;Level&#x27;, &#x27;Delivery_Date&#x27;], dtype=&#x27;object&#x27;)</pre></div></div></div><div class=\"sk-serial\"><div class=\"sk-item\"><div class=\"sk-serial\"><div class=\"sk-item\"><div class=\"sk-estimator sk-toggleable\"><input class=\"sk-toggleable__control sk-hidden--visually\" id=\"sk-estimator-id-58\" type=\"checkbox\" ><label for=\"sk-estimator-id-58\" class=\"sk-toggleable__label sk-toggleable__label-arrow\">SimpleImputer</label><div class=\"sk-toggleable__content\"><pre>SimpleImputer()</pre></div></div></div><div class=\"sk-item\"><div class=\"sk-estimator sk-toggleable\"><input class=\"sk-toggleable__control sk-hidden--visually\" id=\"sk-estimator-id-59\" type=\"checkbox\" ><label for=\"sk-estimator-id-59\" class=\"sk-toggleable__label sk-toggleable__label-arrow\">StandardScaler</label><div class=\"sk-toggleable__content\"><pre>StandardScaler()</pre></div></div></div></div></div></div></div></div></div></div><div class=\"sk-item\"><div class=\"sk-estimator sk-toggleable\"><input class=\"sk-toggleable__control sk-hidden--visually\" id=\"sk-estimator-id-60\" type=\"checkbox\" ><label for=\"sk-estimator-id-60\" class=\"sk-toggleable__label sk-toggleable__label-arrow\">LGBMRegressor</label><div class=\"sk-toggleable__content\"><pre>LGBMRegressor(device=&#x27;gpu&#x27;, random_state=42)</pre></div></div></div></div></div></div></div></div></div></div></div></div>"
      ],
      "text/plain": [
       "GridSearchCV(cv=5,\n",
       "             estimator=Pipeline(steps=[('preprocessor',\n",
       "                                        ColumnTransformer(transformers=[('cat',\n",
       "                                                                         Pipeline(steps=[('imputer',\n",
       "                                                                                          SimpleImputer(strategy='most_frequent')),\n",
       "                                                                                         ('binary_encode',\n",
       "                                                                                          BinaryEncoder())]),\n",
       "                                                                         Index(['Type', 'Furnished', 'Compound', 'Payment_Option', 'Delivery_Term',\n",
       "       'City'],\n",
       "      dtype='object')),\n",
       "                                                                        ('num',\n",
       "                                                                         Pipeline(steps=[('imputer',\n",
       "                                                                                          SimpleImputer()),\n",
       "                                                                                         ('scaler',\n",
       "                                                                                          StandardScaler())]),\n",
       "                                                                         Index(['Bedrooms', 'Bathrooms', 'Area', 'Level', 'Delivery_Date'], dtype='object'))])),\n",
       "                                       ('model',\n",
       "                                        LGBMRegressor(device='gpu',\n",
       "                                                      random_state=42))]),\n",
       "             n_jobs=-1,\n",
       "             param_grid={'model__learning_rate': [0.01, 0.1, 0.2],\n",
       "                         'model__max_depth': [-1, 10, 20],\n",
       "                         'model__n_estimators': [50, 100, 200]},\n",
       "             scoring='neg_mean_squared_error', verbose=1)"
      ]
     },
     "execution_count": 44,
     "metadata": {},
     "output_type": "execute_result"
    }
   ],
   "source": [
    "model = LGBMRegressor(device='gpu' if GPU_AVAILABLE else 'cpu',random_state=42)\n",
    "\n",
    "pipeline = Pipeline(steps=[\n",
    "    ('preprocessor', preprocessor),\n",
    "    ('model', model)\n",
    "])\n",
    "\n",
    "param_grid = {\n",
    "    'model__n_estimators': [50, 100, 200],\n",
    "    'model__learning_rate': [0.01, 0.1, 0.2],\n",
    "    'model__max_depth': [-1, 10, 20]\n",
    "}\n",
    "\n",
    "# param_grid = {\n",
    "#     'model__n_estimators': [200],\n",
    "#     'model__learning_rate': [0.2],\n",
    "#     'model__max_depth': [10]\n",
    "# }\n",
    "\n",
    "grid_search = GridSearchCV(pipeline, param_grid, cv=5, scoring='neg_mean_squared_error', verbose=1, n_jobs=-1)\n",
    "grid_search.fit(X_train, y_train)"
   ]
  },
  {
   "cell_type": "code",
   "execution_count": 45,
   "id": "6db08cd3",
   "metadata": {
    "execution": {
     "iopub.execute_input": "2025-04-21T02:37:56.715947Z",
     "iopub.status.busy": "2025-04-21T02:37:56.715676Z",
     "iopub.status.idle": "2025-04-21T02:37:56.882258Z",
     "shell.execute_reply": "2025-04-21T02:37:56.881285Z"
    },
    "papermill": {
     "duration": 0.184999,
     "end_time": "2025-04-21T02:37:56.883822",
     "exception": false,
     "start_time": "2025-04-21T02:37:56.698823",
     "status": "completed"
    },
    "tags": []
   },
   "outputs": [
    {
     "name": "stdout",
     "output_type": "stream",
     "text": [
      "Best Parameters: {'model__learning_rate': 0.2, 'model__max_depth': 10, 'model__n_estimators': 200}\n",
      "Train RMSE: 0.57\n",
      "Train R2 Score: 0.76\n"
     ]
    }
   ],
   "source": [
    "#Evaluating the model on training set\n",
    "best_model = grid_search.best_estimator_\n",
    "y_pred = best_model.predict(X_train)\n",
    "y_pred = y_pred.get() if hasattr(y_pred, 'get') else y_pred\n",
    "\n",
    "mse = mean_squared_error(y_train, y_pred)\n",
    "rmse = np.sqrt(mse)\n",
    "r2 = r2_score(y_train, y_pred)\n",
    "\n",
    "train_accs['LightGBM'] = {'RMSE': rmse, 'R2_Score': r2}\n",
    "\n",
    "print(f\"Best Parameters: {grid_search.best_params_}\")\n",
    "print(f\"Train RMSE: {rmse:.2f}\")\n",
    "print(f\"Train R2 Score: {r2:.2f}\")"
   ]
  },
  {
   "cell_type": "code",
   "execution_count": 46,
   "id": "e1fb639a",
   "metadata": {
    "execution": {
     "iopub.execute_input": "2025-04-21T02:37:56.919019Z",
     "iopub.status.busy": "2025-04-21T02:37:56.918687Z",
     "iopub.status.idle": "2025-04-21T02:37:56.980136Z",
     "shell.execute_reply": "2025-04-21T02:37:56.979289Z"
    },
    "papermill": {
     "duration": 0.079577,
     "end_time": "2025-04-21T02:37:56.981894",
     "exception": false,
     "start_time": "2025-04-21T02:37:56.902317",
     "status": "completed"
    },
    "tags": []
   },
   "outputs": [
    {
     "name": "stdout",
     "output_type": "stream",
     "text": [
      "Test RMSE: 0.70\n",
      "Test R2 Score: 0.65\n"
     ]
    }
   ],
   "source": [
    "#Evaluating the model on test set\n",
    "best_model = grid_search.best_estimator_\n",
    "y_pred = best_model.predict(X_test)\n",
    "y_pred = y_pred.get() if hasattr(y_pred, 'get') else y_pred\n",
    "\n",
    "mse = mean_squared_error(y_test, y_pred)\n",
    "rmse = np.sqrt(mse)\n",
    "r2 = r2_score(y_test, y_pred)\n",
    "\n",
    "test_accs['LightGBM'] = {'RMSE': rmse, 'R2_Score': r2}\n",
    "\n",
    "print(f\"Test RMSE: {rmse:.2f}\")\n",
    "print(f\"Test R2 Score: {r2:.2f}\")"
   ]
  },
  {
   "cell_type": "code",
   "execution_count": 47,
   "id": "38cc5808",
   "metadata": {
    "execution": {
     "iopub.execute_input": "2025-04-21T02:37:57.024650Z",
     "iopub.status.busy": "2025-04-21T02:37:57.024257Z",
     "iopub.status.idle": "2025-04-21T02:38:03.705524Z",
     "shell.execute_reply": "2025-04-21T02:38:03.704636Z"
    },
    "papermill": {
     "duration": 6.699076,
     "end_time": "2025-04-21T02:38:03.707015",
     "exception": false,
     "start_time": "2025-04-21T02:37:57.007939",
     "status": "completed"
    },
    "tags": []
   },
   "outputs": [
    {
     "name": "stderr",
     "output_type": "stream",
     "text": [
      "\u001b[31m2025/04/21 02:38:03 WARNING mlflow.models.model: Model logged without a signature and input example. Please set `input_example` parameter when logging the model to auto infer the model signature.\u001b[0m\n"
     ]
    }
   ],
   "source": [
    "# Tracking model\n",
    "with mlflow.start_run(run_name=\"lightgbm\"):\n",
    "    \n",
    "\n",
    "    mlflow.log_params(grid_search.best_params_)\n",
    "    mlflow.log_metric(\"rmse\", rmse)\n",
    "    mlflow.log_metric(\"r2\", r2)\n",
    "\n",
    "    mlflow.sklearn.log_model(best_model, \"lightgbm_model\")"
   ]
  },
  {
   "cell_type": "code",
   "execution_count": 48,
   "id": "fd3a48b7",
   "metadata": {
    "execution": {
     "iopub.execute_input": "2025-04-21T02:38:03.741219Z",
     "iopub.status.busy": "2025-04-21T02:38:03.740936Z",
     "iopub.status.idle": "2025-04-21T02:38:03.771553Z",
     "shell.execute_reply": "2025-04-21T02:38:03.770694Z"
    },
    "papermill": {
     "duration": 0.048659,
     "end_time": "2025-04-21T02:38:03.773082",
     "exception": false,
     "start_time": "2025-04-21T02:38:03.724423",
     "status": "completed"
    },
    "tags": []
   },
   "outputs": [
    {
     "name": "stdout",
     "output_type": "stream",
     "text": [
      "Model saved successfully with dill.\n"
     ]
    }
   ],
   "source": [
    "# Saving the best model\n",
    "with open('/kaggle/working/lightgbm_best_model.pkl', 'wb') as f:\n",
    "    dill.dump(best_model, f)\n",
    "print(\"Model saved successfully with dill.\")"
   ]
  },
  {
   "cell_type": "markdown",
   "id": "ec4e988d",
   "metadata": {
    "papermill": {
     "duration": 0.01563,
     "end_time": "2025-04-21T02:38:03.804554",
     "exception": false,
     "start_time": "2025-04-21T02:38:03.788924",
     "status": "completed"
    },
    "tags": []
   },
   "source": [
    "# Neural Network"
   ]
  },
  {
   "cell_type": "code",
   "execution_count": 49,
   "id": "e92695dc",
   "metadata": {
    "execution": {
     "iopub.execute_input": "2025-04-21T02:38:03.836881Z",
     "iopub.status.busy": "2025-04-21T02:38:03.836594Z",
     "iopub.status.idle": "2025-04-21T03:45:29.434410Z",
     "shell.execute_reply": "2025-04-21T03:45:29.433401Z"
    },
    "papermill": {
     "duration": 4045.615792,
     "end_time": "2025-04-21T03:45:29.436020",
     "exception": false,
     "start_time": "2025-04-21T02:38:03.820228",
     "status": "completed"
    },
    "tags": []
   },
   "outputs": [
    {
     "name": "stdout",
     "output_type": "stream",
     "text": [
      "✅ GPU detected and memory allocated: [PhysicalDevice(name='/physical_device:GPU:0', device_type='GPU'), PhysicalDevice(name='/physical_device:GPU:1', device_type='GPU')]\n",
      "Training model with: hidden_layers=(50,), activation=relu, optimizer=adam, alpha=0.0001\n",
      "\u001b[1m129/129\u001b[0m \u001b[32m━━━━━━━━━━━━━━━━━━━━\u001b[0m\u001b[37m\u001b[0m \u001b[1m1s\u001b[0m 2ms/step\n",
      "RMSE: 0.77, R2: 0.58\n",
      "Training model with: hidden_layers=(50,), activation=relu, optimizer=adam, alpha=0.001\n",
      "\u001b[1m129/129\u001b[0m \u001b[32m━━━━━━━━━━━━━━━━━━━━\u001b[0m\u001b[37m\u001b[0m \u001b[1m0s\u001b[0m 2ms/step\n",
      "RMSE: 0.76, R2: 0.59\n",
      "Training model with: hidden_layers=(50,), activation=relu, optimizer=adam, alpha=0.01\n",
      "\u001b[1m129/129\u001b[0m \u001b[32m━━━━━━━━━━━━━━━━━━━━\u001b[0m\u001b[37m\u001b[0m \u001b[1m0s\u001b[0m 2ms/step\n",
      "RMSE: 0.77, R2: 0.57\n",
      "Training model with: hidden_layers=(50,), activation=tanh, optimizer=adam, alpha=0.0001\n",
      "\u001b[1m129/129\u001b[0m \u001b[32m━━━━━━━━━━━━━━━━━━━━\u001b[0m\u001b[37m\u001b[0m \u001b[1m0s\u001b[0m 2ms/step\n",
      "RMSE: 0.75, R2: 0.60\n",
      "Training model with: hidden_layers=(50,), activation=tanh, optimizer=adam, alpha=0.001\n",
      "\u001b[1m129/129\u001b[0m \u001b[32m━━━━━━━━━━━━━━━━━━━━\u001b[0m\u001b[37m\u001b[0m \u001b[1m0s\u001b[0m 2ms/step\n",
      "RMSE: 0.76, R2: 0.58\n",
      "Training model with: hidden_layers=(50,), activation=tanh, optimizer=adam, alpha=0.01\n",
      "\u001b[1m129/129\u001b[0m \u001b[32m━━━━━━━━━━━━━━━━━━━━\u001b[0m\u001b[37m\u001b[0m \u001b[1m0s\u001b[0m 2ms/step\n",
      "RMSE: 0.79, R2: 0.55\n",
      "Training model with: hidden_layers=(100,), activation=relu, optimizer=adam, alpha=0.0001\n",
      "\u001b[1m129/129\u001b[0m \u001b[32m━━━━━━━━━━━━━━━━━━━━\u001b[0m\u001b[37m\u001b[0m \u001b[1m0s\u001b[0m 2ms/step\n",
      "RMSE: 0.76, R2: 0.59\n",
      "Training model with: hidden_layers=(100,), activation=relu, optimizer=adam, alpha=0.001\n",
      "\u001b[1m129/129\u001b[0m \u001b[32m━━━━━━━━━━━━━━━━━━━━\u001b[0m\u001b[37m\u001b[0m \u001b[1m0s\u001b[0m 2ms/step\n",
      "RMSE: 0.77, R2: 0.57\n",
      "Training model with: hidden_layers=(100,), activation=relu, optimizer=adam, alpha=0.01\n",
      "\u001b[1m129/129\u001b[0m \u001b[32m━━━━━━━━━━━━━━━━━━━━\u001b[0m\u001b[37m\u001b[0m \u001b[1m0s\u001b[0m 2ms/step\n",
      "RMSE: 0.77, R2: 0.57\n",
      "Training model with: hidden_layers=(100,), activation=tanh, optimizer=adam, alpha=0.0001\n",
      "\u001b[1m129/129\u001b[0m \u001b[32m━━━━━━━━━━━━━━━━━━━━\u001b[0m\u001b[37m\u001b[0m \u001b[1m0s\u001b[0m 2ms/step\n",
      "RMSE: 0.75, R2: 0.60\n",
      "Training model with: hidden_layers=(100,), activation=tanh, optimizer=adam, alpha=0.001\n",
      "\u001b[1m129/129\u001b[0m \u001b[32m━━━━━━━━━━━━━━━━━━━━\u001b[0m\u001b[37m\u001b[0m \u001b[1m0s\u001b[0m 2ms/step\n",
      "RMSE: 0.75, R2: 0.59\n",
      "Training model with: hidden_layers=(100,), activation=tanh, optimizer=adam, alpha=0.01\n",
      "\u001b[1m129/129\u001b[0m \u001b[32m━━━━━━━━━━━━━━━━━━━━\u001b[0m\u001b[37m\u001b[0m \u001b[1m0s\u001b[0m 2ms/step\n",
      "RMSE: 0.79, R2: 0.55\n",
      "Training model with: hidden_layers=(50, 50), activation=relu, optimizer=adam, alpha=0.0001\n",
      "\u001b[1m129/129\u001b[0m \u001b[32m━━━━━━━━━━━━━━━━━━━━\u001b[0m\u001b[37m\u001b[0m \u001b[1m1s\u001b[0m 3ms/step\n",
      "RMSE: 0.76, R2: 0.59\n",
      "Training model with: hidden_layers=(50, 50), activation=relu, optimizer=adam, alpha=0.001\n",
      "\u001b[1m129/129\u001b[0m \u001b[32m━━━━━━━━━━━━━━━━━━━━\u001b[0m\u001b[37m\u001b[0m \u001b[1m0s\u001b[0m 2ms/step\n",
      "RMSE: 0.76, R2: 0.59\n",
      "Training model with: hidden_layers=(50, 50), activation=relu, optimizer=adam, alpha=0.01\n",
      "\u001b[1m129/129\u001b[0m \u001b[32m━━━━━━━━━━━━━━━━━━━━\u001b[0m\u001b[37m\u001b[0m \u001b[1m0s\u001b[0m 2ms/step\n",
      "RMSE: 0.77, R2: 0.57\n",
      "Training model with: hidden_layers=(50, 50), activation=tanh, optimizer=adam, alpha=0.0001\n",
      "\u001b[1m129/129\u001b[0m \u001b[32m━━━━━━━━━━━━━━━━━━━━\u001b[0m\u001b[37m\u001b[0m \u001b[1m0s\u001b[0m 2ms/step\n",
      "RMSE: 0.75, R2: 0.59\n",
      "Training model with: hidden_layers=(50, 50), activation=tanh, optimizer=adam, alpha=0.001\n",
      "\u001b[1m129/129\u001b[0m \u001b[32m━━━━━━━━━━━━━━━━━━━━\u001b[0m\u001b[37m\u001b[0m \u001b[1m0s\u001b[0m 2ms/step\n",
      "RMSE: 0.75, R2: 0.59\n",
      "Training model with: hidden_layers=(50, 50), activation=tanh, optimizer=adam, alpha=0.01\n",
      "\u001b[1m129/129\u001b[0m \u001b[32m━━━━━━━━━━━━━━━━━━━━\u001b[0m\u001b[37m\u001b[0m \u001b[1m0s\u001b[0m 2ms/step\n",
      "RMSE: 0.79, R2: 0.55\n"
     ]
    }
   ],
   "source": [
    "import numpy as np\n",
    "import dill\n",
    "import tensorflow as tf\n",
    "from tensorflow.keras.models import Sequential\n",
    "from tensorflow.keras.layers import Dense, Input\n",
    "from tensorflow.keras.regularizers import l2\n",
    "from sklearn.preprocessing import StandardScaler\n",
    "from sklearn.metrics import mean_squared_error, r2_score\n",
    "\n",
    "\n",
    "gpu_devices = tf.config.list_physical_devices('GPU')\n",
    "if gpu_devices:\n",
    "    try:\n",
    "        for device in gpu_devices:\n",
    "            tf.config.experimental.set_virtual_device_configuration(\n",
    "                device, [tf.config.experimental.VirtualDeviceConfiguration(memory_limit=4096*20)]\n",
    "            )\n",
    "        print(\"✅ GPU detected and memory allocated:\", gpu_devices)\n",
    "    except RuntimeError as e:\n",
    "        print(f\"⚠️ GPU Initialization Error: {e}\")\n",
    "else:\n",
    "    print(\"⚠️ No GPU detected. Running on CPU.\")\n",
    "\n",
    "\n",
    "np.random.seed(42)\n",
    "tf.random.set_seed(42)\n",
    "\n",
    "# ✅ Data Preprocessing\n",
    "X_train_scaled = preprocessor.fit_transform(X_train)\n",
    "X_test_scaled = preprocessor.transform(X_test)\n",
    "\n",
    "# ✅ Get Correct Input Shape\n",
    "input_dim = X_train_scaled.shape[1]\n",
    "\n",
    "# ✅ Define Model Function (GPU Optimized)\n",
    "def build_model(hidden_layer_sizes=(50,), activation='relu', optimizer='adam', alpha=0.0001):\n",
    "    model = Sequential()\n",
    "    \n",
    "    # Input layer\n",
    "    model.add(Input(shape=(input_dim,)))  # ✅ Explicitly define input shape\n",
    "    \n",
    "    # Hidden layers\n",
    "    for units in hidden_layer_sizes:\n",
    "        model.add(Dense(units, activation=activation, kernel_regularizer=l2(alpha)))\n",
    "    \n",
    "    # Output layer\n",
    "    model.add(Dense(1, dtype=\"float32\"))  # ✅ Ensure float32 output for stability\n",
    "    \n",
    "    # Compile model\n",
    "    model.compile(optimizer=optimizer, loss='mse')\n",
    "    \n",
    "    return model\n",
    "\n",
    "# ✅ Define Hyperparameter Options (Manual Search)\n",
    "hidden_layer_options = [(50,), (100,), (50, 50)]\n",
    "activation_options = ['relu', 'tanh']\n",
    "optimizer_options = ['adam']#, 'sgd']\n",
    "alpha_options = [0.0001, 0.001, 0.01]\n",
    "\n",
    "best_rmse = float(\"inf\")\n",
    "best_model = None\n",
    "best_params = None\n",
    "\n",
    "# ✅ Manual Hyperparameter Search (GPU Execution)\n",
    "for hidden_layers in hidden_layer_options:\n",
    "    for activation in activation_options:\n",
    "        for optimizer in optimizer_options:\n",
    "            for alpha in alpha_options:\n",
    "                print(f\"Training model with: hidden_layers={hidden_layers}, activation={activation}, optimizer={optimizer}, alpha={alpha}\")\n",
    "\n",
    "                # ✅ Train Model on GPU (TensorFlow automatically selects GPU if available)\n",
    "                model = build_model(hidden_layers, activation, optimizer, alpha)\n",
    "\n",
    "                # Train model\n",
    "                model.fit(X_train_scaled, y_train, epochs=100, batch_size=8, verbose=0)\n",
    "\n",
    "                # Predict on test set\n",
    "                y_pred = model.predict(X_test_scaled)\n",
    "\n",
    "                # Evaluate performance\n",
    "                mse = mean_squared_error(y_test, y_pred)\n",
    "                rmse = np.sqrt(mse)\n",
    "                r2 = r2_score(y_test, y_pred)\n",
    "\n",
    "                print(f\"RMSE: {rmse:.2f}, R2: {r2:.2f}\")\n",
    "\n",
    "                # Save best model\n",
    "                if rmse < best_rmse:\n",
    "                    best_rmse = rmse\n",
    "                    best_model = model\n",
    "                    best_params = {\n",
    "                        \"hidden_layers\": hidden_layers,\n",
    "                        \"activation\": activation,\n",
    "                        \"optimizer\": optimizer,\n",
    "                        \"alpha\": alpha\n",
    "\n",
    "                    \n",
    "                }"
   ]
  },
  {
   "cell_type": "code",
   "execution_count": 50,
   "id": "aefa5a4d",
   "metadata": {
    "execution": {
     "iopub.execute_input": "2025-04-21T03:45:29.480005Z",
     "iopub.status.busy": "2025-04-21T03:45:29.479141Z",
     "iopub.status.idle": "2025-04-21T03:45:30.466124Z",
     "shell.execute_reply": "2025-04-21T03:45:30.465183Z"
    },
    "papermill": {
     "duration": 1.00933,
     "end_time": "2025-04-21T03:45:30.467410",
     "exception": false,
     "start_time": "2025-04-21T03:45:29.458080",
     "status": "completed"
    },
    "tags": []
   },
   "outputs": [
    {
     "name": "stdout",
     "output_type": "stream",
     "text": [
      "\u001b[1m515/515\u001b[0m \u001b[32m━━━━━━━━━━━━━━━━━━━━\u001b[0m\u001b[37m\u001b[0m \u001b[1m1s\u001b[0m 1ms/step\n",
      "Train RMSE: 0.70\n",
      "Train R2 Score: 0.64\n"
     ]
    }
   ],
   "source": [
    "# Model Evaluation on training set\n",
    "y_pred = best_model.predict(X_train_scaled)\n",
    "mse = mean_squared_error(y_train, y_pred)\n",
    "rmse = np.sqrt(mse)\n",
    "r2 = r2_score(y_train, y_pred)\n",
    "\n",
    "train_accs['Neural Network'] = {'RMSE': rmse, 'R2_Score': r2}\n",
    "\n",
    "print(f\"Train RMSE: {rmse:.2f}\")\n",
    "print(f\"Train R2 Score: {r2:.2f}\")"
   ]
  },
  {
   "cell_type": "code",
   "execution_count": 51,
   "id": "7b252190",
   "metadata": {
    "execution": {
     "iopub.execute_input": "2025-04-21T03:45:30.510888Z",
     "iopub.status.busy": "2025-04-21T03:45:30.510651Z",
     "iopub.status.idle": "2025-04-21T03:45:30.750245Z",
     "shell.execute_reply": "2025-04-21T03:45:30.749386Z"
    },
    "papermill": {
     "duration": 0.262532,
     "end_time": "2025-04-21T03:45:30.751693",
     "exception": false,
     "start_time": "2025-04-21T03:45:30.489161",
     "status": "completed"
    },
    "tags": []
   },
   "outputs": [
    {
     "name": "stdout",
     "output_type": "stream",
     "text": [
      "\u001b[1m129/129\u001b[0m \u001b[32m━━━━━━━━━━━━━━━━━━━━\u001b[0m\u001b[37m\u001b[0m \u001b[1m0s\u001b[0m 1ms/step\n",
      "Test RMSE: 0.75\n",
      "Test R2 Score: 0.60\n"
     ]
    }
   ],
   "source": [
    "# Model Evaluation on test set\n",
    "y_pred = best_model.predict(X_test_scaled)\n",
    "mse = mean_squared_error(y_test, y_pred)\n",
    "rmse = np.sqrt(mse)\n",
    "r2 = r2_score(y_test, y_pred)\n",
    "\n",
    "test_accs['Neural Network'] = {'RMSE': rmse, 'R2_Score': r2}\n",
    "\n",
    "print(f\"Test RMSE: {rmse:.2f}\")\n",
    "print(f\"Test R2 Score: {r2:.2f}\")"
   ]
  },
  {
   "cell_type": "code",
   "execution_count": 52,
   "id": "1ff7f3ef",
   "metadata": {
    "execution": {
     "iopub.execute_input": "2025-04-21T03:45:30.795736Z",
     "iopub.status.busy": "2025-04-21T03:45:30.795462Z",
     "iopub.status.idle": "2025-04-21T03:45:39.886891Z",
     "shell.execute_reply": "2025-04-21T03:45:39.886014Z"
    },
    "papermill": {
     "duration": 9.114516,
     "end_time": "2025-04-21T03:45:39.888351",
     "exception": false,
     "start_time": "2025-04-21T03:45:30.773835",
     "status": "completed"
    },
    "tags": []
   },
   "outputs": [
    {
     "name": "stderr",
     "output_type": "stream",
     "text": [
      "\u001b[31m2025/04/21 03:45:39 WARNING mlflow.models.model: Model logged without a signature and input example. Please set `input_example` parameter when logging the model to auto infer the model signature.\u001b[0m\n"
     ]
    }
   ],
   "source": [
    "# Tracking model\n",
    "with mlflow.start_run(run_name=\"Neural Network\"):\n",
    "    \n",
    "\n",
    "    mlflow.log_params(best_params)\n",
    "    mlflow.log_metric(\"rmse\", best_rmse)\n",
    "    mlflow.log_metric(\"r2\", r2)\n",
    "\n",
    "    mlflow.sklearn.log_model(best_model, \"Neural Network_model\")"
   ]
  },
  {
   "cell_type": "code",
   "execution_count": 53,
   "id": "086d82fc",
   "metadata": {
    "execution": {
     "iopub.execute_input": "2025-04-21T03:45:39.932973Z",
     "iopub.status.busy": "2025-04-21T03:45:39.932687Z",
     "iopub.status.idle": "2025-04-21T03:45:39.952795Z",
     "shell.execute_reply": "2025-04-21T03:45:39.952045Z"
    },
    "papermill": {
     "duration": 0.043424,
     "end_time": "2025-04-21T03:45:39.953965",
     "exception": false,
     "start_time": "2025-04-21T03:45:39.910541",
     "status": "completed"
    },
    "tags": []
   },
   "outputs": [
    {
     "name": "stdout",
     "output_type": "stream",
     "text": [
      "✅ Model saved successfully with dill.\n"
     ]
    }
   ],
   "source": [
    "# ✅ Saving the Best Model\n",
    "with open('/kaggle/working/neural_network_best_model.pkl', 'wb') as f:\n",
    "    dill.dump(best_model, f)\n",
    "print(\"✅ Model saved successfully with dill.\")"
   ]
  },
  {
   "cell_type": "markdown",
   "id": "471195f3",
   "metadata": {
    "papermill": {
     "duration": 0.02115,
     "end_time": "2025-04-21T03:45:39.997004",
     "exception": false,
     "start_time": "2025-04-21T03:45:39.975854",
     "status": "completed"
    },
    "tags": []
   },
   "source": [
    "# Stacking"
   ]
  },
  {
   "cell_type": "code",
   "execution_count": 54,
   "id": "6b20db46",
   "metadata": {
    "execution": {
     "iopub.execute_input": "2025-04-21T03:45:40.040744Z",
     "iopub.status.busy": "2025-04-21T03:45:40.040406Z",
     "iopub.status.idle": "2025-04-21T03:49:48.853442Z",
     "shell.execute_reply": "2025-04-21T03:49:48.852336Z"
    },
    "papermill": {
     "duration": 248.836731,
     "end_time": "2025-04-21T03:49:48.855229",
     "exception": false,
     "start_time": "2025-04-21T03:45:40.018498",
     "status": "completed"
    },
    "tags": []
   },
   "outputs": [
    {
     "name": "stdout",
     "output_type": "stream",
     "text": [
      "GPU Available: True\n"
     ]
    },
    {
     "name": "stderr",
     "output_type": "stream",
     "text": [
      "/usr/local/lib/python3.10/dist-packages/cuml/internals/api_decorators.py:344: UserWarning: For reproducible results in Random Forest Classifier or for almost reproducible results in Random Forest Regressor, n_streams=1 is recommended. If n_streams is > 1, results may vary due to stream/thread timing differences, even when random_state is set\n",
      "  return func(**kwargs)\n",
      "/usr/local/lib/python3.10/dist-packages/cuml/internals/api_decorators.py:344: UserWarning: For reproducible results in Random Forest Classifier or for almost reproducible results in Random Forest Regressor, n_streams=1 is recommended. If n_streams is > 1, results may vary due to stream/thread timing differences, even when random_state is set\n",
      "  return func(**kwargs)\n",
      "/usr/local/lib/python3.10/dist-packages/cuml/internals/api_decorators.py:188: UserWarning: To use pickling first train using float32 data to fit the estimator\n",
      "  ret = func(*args, **kwargs)\n",
      "/usr/local/lib/python3.10/dist-packages/xgboost/core.py:160: UserWarning: [03:45:44] WARNING: /workspace/src/common/error_msg.cc:27: The tree method `gpu_hist` is deprecated since 2.0.0. To use GPU training, set the `device` parameter to CUDA instead.\n",
      "\n",
      "    E.g. tree_method = \"hist\", device = \"cuda\"\n",
      "\n",
      "  warnings.warn(smsg, UserWarning)\n"
     ]
    },
    {
     "name": "stdout",
     "output_type": "stream",
     "text": [
      "[LightGBM] [Info] This is the GPU trainer!!\n",
      "[LightGBM] [Info] Total Bins 608\n",
      "[LightGBM] [Info] Number of data points in the train set: 16472, number of used features: 157\n",
      "[LightGBM] [Info] Using GPU Device: Tesla T4, Vendor: NVIDIA Corporation\n",
      "[LightGBM] [Info] Compiling OpenCL Kernel with 256 bins...\n",
      "[LightGBM] [Info] GPU programs have been built\n",
      "[LightGBM] [Info] Size of histogram bin entry: 8\n",
      "[LightGBM] [Info] 11 dense feature groups (0.19 MB) transferred to GPU in 0.000951 secs. 0 sparse feature groups\n",
      "[LightGBM] [Info] Start training from score 14.539200\n"
     ]
    },
    {
     "name": "stderr",
     "output_type": "stream",
     "text": [
      "/usr/local/lib/python3.10/dist-packages/cuml/internals/api_decorators.py:344: UserWarning: For reproducible results in Random Forest Classifier or for almost reproducible results in Random Forest Regressor, n_streams=1 is recommended. If n_streams is > 1, results may vary due to stream/thread timing differences, even when random_state is set\n",
      "  return func(**kwargs)\n",
      "/usr/local/lib/python3.10/dist-packages/cuml/internals/api_decorators.py:188: UserWarning: To use pickling first train using float32 data to fit the estimator\n",
      "  ret = func(*args, **kwargs)\n",
      "/usr/local/lib/python3.10/dist-packages/xgboost/core.py:160: UserWarning: [03:46:35] WARNING: /workspace/src/common/error_msg.cc:27: The tree method `gpu_hist` is deprecated since 2.0.0. To use GPU training, set the `device` parameter to CUDA instead.\n",
      "\n",
      "    E.g. tree_method = \"hist\", device = \"cuda\"\n",
      "\n",
      "  warnings.warn(smsg, UserWarning)\n",
      "/usr/local/lib/python3.10/dist-packages/xgboost/core.py:160: UserWarning: [03:46:38] WARNING: /workspace/src/common/error_msg.cc:27: The tree method `gpu_hist` is deprecated since 2.0.0. To use GPU training, set the `device` parameter to CUDA instead.\n",
      "\n",
      "    E.g. tree_method = \"hist\", device = \"cuda\"\n",
      "\n",
      "  warnings.warn(smsg, UserWarning)\n",
      "/usr/local/lib/python3.10/dist-packages/xgboost/core.py:160: UserWarning: [03:46:39] WARNING: /workspace/src/common/error_msg.cc:27: The tree method `gpu_hist` is deprecated since 2.0.0. To use GPU training, set the `device` parameter to CUDA instead.\n",
      "\n",
      "    E.g. tree_method = \"hist\", device = \"cuda\"\n",
      "\n",
      "  warnings.warn(smsg, UserWarning)\n",
      "/usr/local/lib/python3.10/dist-packages/xgboost/core.py:160: UserWarning: [03:46:42] WARNING: /workspace/src/common/error_msg.cc:27: The tree method `gpu_hist` is deprecated since 2.0.0. To use GPU training, set the `device` parameter to CUDA instead.\n",
      "\n",
      "    E.g. tree_method = \"hist\", device = \"cuda\"\n",
      "\n",
      "  warnings.warn(smsg, UserWarning)\n",
      "/usr/local/lib/python3.10/dist-packages/xgboost/core.py:160: UserWarning: [03:46:46] WARNING: /workspace/src/common/error_msg.cc:27: The tree method `gpu_hist` is deprecated since 2.0.0. To use GPU training, set the `device` parameter to CUDA instead.\n",
      "\n",
      "    E.g. tree_method = \"hist\", device = \"cuda\"\n",
      "\n",
      "  warnings.warn(smsg, UserWarning)\n",
      "/usr/local/lib/python3.10/dist-packages/xgboost/core.py:160: UserWarning: [03:46:49] WARNING: /workspace/src/common/error_msg.cc:27: The tree method `gpu_hist` is deprecated since 2.0.0. To use GPU training, set the `device` parameter to CUDA instead.\n",
      "\n",
      "    E.g. tree_method = \"hist\", device = \"cuda\"\n",
      "\n",
      "  warnings.warn(smsg, UserWarning)\n",
      "/usr/local/lib/python3.10/dist-packages/xgboost/core.py:160: UserWarning: [03:46:50] WARNING: /workspace/src/common/error_msg.cc:27: The tree method `gpu_hist` is deprecated since 2.0.0. To use GPU training, set the `device` parameter to CUDA instead.\n",
      "\n",
      "    E.g. tree_method = \"hist\", device = \"cuda\"\n",
      "\n",
      "  warnings.warn(smsg, UserWarning)\n",
      "/usr/local/lib/python3.10/dist-packages/xgboost/core.py:160: UserWarning: [03:46:53] WARNING: /workspace/src/common/error_msg.cc:27: The tree method `gpu_hist` is deprecated since 2.0.0. To use GPU training, set the `device` parameter to CUDA instead.\n",
      "\n",
      "    E.g. tree_method = \"hist\", device = \"cuda\"\n",
      "\n",
      "  warnings.warn(smsg, UserWarning)\n"
     ]
    },
    {
     "name": "stdout",
     "output_type": "stream",
     "text": [
      "[LightGBM] [Info] This is the GPU trainer!!\n",
      "[LightGBM] [Info] Total Bins 586\n",
      "[LightGBM] [Info] Number of data points in the train set: 13177, number of used features: 146\n",
      "[LightGBM] [Info] Using GPU Device: Tesla T4, Vendor: NVIDIA Corporation\n",
      "[LightGBM] [Info] Compiling OpenCL Kernel with 256 bins...\n",
      "[LightGBM] [Info] GPU programs have been built\n",
      "[LightGBM] [Info] Size of histogram bin entry: 8\n",
      "[LightGBM] [Info] 11 dense feature groups (0.15 MB) transferred to GPU in 0.000825 secs. 0 sparse feature groups\n",
      "[LightGBM] [Info] Start training from score 14.545519\n",
      "[LightGBM] [Info] This is the GPU trainer!!\n",
      "[LightGBM] [Info] Total Bins 573\n",
      "[LightGBM] [Info] Number of data points in the train set: 13177, number of used features: 140\n",
      "[LightGBM] [Info] Using GPU Device: Tesla T4, Vendor: NVIDIA Corporation\n",
      "[LightGBM] [Info] Compiling OpenCL Kernel with 256 bins...\n",
      "[LightGBM] [Info] GPU programs have been built\n",
      "[LightGBM] [Info] Size of histogram bin entry: 8\n",
      "[LightGBM] [Info] 11 dense feature groups (0.15 MB) transferred to GPU in 0.000783 secs. 0 sparse feature groups\n",
      "[LightGBM] [Info] Start training from score 14.536429\n",
      "[LightGBM] [Info] This is the GPU trainer!!\n",
      "[LightGBM] [Info] Total Bins 585\n",
      "[LightGBM] [Info] Number of data points in the train set: 13178, number of used features: 146\n",
      "[LightGBM] [Info] Using GPU Device: Tesla T4, Vendor: NVIDIA Corporation\n",
      "[LightGBM] [Info] Compiling OpenCL Kernel with 256 bins...\n",
      "[LightGBM] [Info] GPU programs have been built\n",
      "[LightGBM] [Info] Size of histogram bin entry: 8\n",
      "[LightGBM] [Info] 11 dense feature groups (0.15 MB) transferred to GPU in 0.000940 secs. 0 sparse feature groups\n",
      "[LightGBM] [Info] Start training from score 14.534569\n",
      "[LightGBM] [Info] This is the GPU trainer!!\n",
      "[LightGBM] [Info] Total Bins 580\n",
      "[LightGBM] [Info] Number of data points in the train set: 13178, number of used features: 143\n",
      "[LightGBM] [Info] Using GPU Device: Tesla T4, Vendor: NVIDIA Corporation\n",
      "[LightGBM] [Info] Compiling OpenCL Kernel with 256 bins...\n",
      "[LightGBM] [Info] GPU programs have been built\n",
      "[LightGBM] [Info] Size of histogram bin entry: 8\n",
      "[LightGBM] [Info] 11 dense feature groups (0.15 MB) transferred to GPU in 0.000864 secs. 0 sparse feature groups\n",
      "[LightGBM] [Info] Start training from score 14.541068\n",
      "[LightGBM] [Info] This is the GPU trainer!!\n",
      "[LightGBM] [Info] Total Bins 574\n",
      "[LightGBM] [Info] Number of data points in the train set: 13178, number of used features: 140\n",
      "[LightGBM] [Info] Using GPU Device: Tesla T4, Vendor: NVIDIA Corporation\n",
      "[LightGBM] [Info] Compiling OpenCL Kernel with 256 bins...\n",
      "[LightGBM] [Info] GPU programs have been built\n",
      "[LightGBM] [Info] Size of histogram bin entry: 8\n",
      "[LightGBM] [Info] 11 dense feature groups (0.15 MB) transferred to GPU in 0.000972 secs. 0 sparse feature groups\n",
      "[LightGBM] [Info] Start training from score 14.538414\n"
     ]
    }
   ],
   "source": [
    "import pandas as pd\n",
    "import numpy as np\n",
    "from sklearn.pipeline import Pipeline\n",
    "from sklearn.compose import ColumnTransformer\n",
    "from sklearn.model_selection import train_test_split\n",
    "from sklearn.ensemble import StackingRegressor\n",
    "from sklearn.svm import SVR\n",
    "from xgboost import XGBRegressor\n",
    "from lightgbm import LGBMRegressor\n",
    "from catboost import CatBoostRegressor\n",
    "from sklearn.preprocessing import StandardScaler, OneHotEncoder\n",
    "from sklearn.impute import SimpleImputer\n",
    "from sklearn.metrics import mean_squared_error, r2_score\n",
    "import joblib\n",
    "import torch\n",
    "\n",
    "# Check GPU Availability\n",
    "def is_gpu_available():\n",
    "    return torch.cuda.is_available()\n",
    "\n",
    "GPU_AVAILABLE = is_gpu_available()\n",
    "print(f\"GPU Available: {GPU_AVAILABLE}\")\n",
    "\n",
    "# Load Data\n",
    "df_ = df.copy()\n",
    "\n",
    "# Preprocessing Pipeline\n",
    "numeric_features = X_train.select_dtypes(include=['int64', 'float64']).columns\n",
    "categorical_features = X_train.select_dtypes(include=['object']).columns\n",
    "numerical_transformer = Pipeline(steps=[('imputer', SimpleImputer(strategy='mean')), ('scaler', StandardScaler())])\n",
    "categorical_transformer = Pipeline(steps=[('imputer', SimpleImputer(strategy='most_frequent')), ('onehot', OneHotEncoder(handle_unknown='ignore', sparse_output=False))])\n",
    "preprocessor = ColumnTransformer(transformers=[('num', numerical_transformer, numeric_features), ('cat', categorical_transformer, categorical_features)])\n",
    "\n",
    "# Base Models (GPU-Enabled)\n",
    "rf = RandomForestRegressor(n_estimators=300, max_depth=20, min_samples_split=5, min_samples_leaf=2, random_state=42)\n",
    "xgb = XGBRegressor(n_estimators=400, max_depth=10, learning_rate=0.05, tree_method='gpu_hist' if GPU_AVAILABLE else 'hist', random_state=42)\n",
    "lgb = LGBMRegressor(n_estimators=400, max_depth=-1, learning_rate=0.05, device='gpu' if GPU_AVAILABLE else 'cpu', random_state=42)\n",
    "cat = CatBoostRegressor(iterations=500, depth=10, learning_rate=0.05, task_type='GPU' if GPU_AVAILABLE else 'CPU', verbose=0, random_state=42)\n",
    "\n",
    "# Stacking Model\n",
    "stacking_model = StackingRegressor(\n",
    "    estimators=[('rf', rf), ('xgb', xgb), ('lgb', lgb), ('cat', cat)],\n",
    "    final_estimator=GradientBoostingRegressor(n_estimators=200, learning_rate=0.1, max_depth=5, random_state=42)\n",
    ")\n",
    "\n",
    "\n",
    "\n",
    "        \n",
    "# Pipeline\n",
    "pipeline = Pipeline(steps=[(\"preprocessor\", preprocessor), (\"model\", stacking_model)])\n",
    "\n",
    "# Train Model\n",
    "pipeline.fit(X_train, y_train)\n",
    "\n",
    "# Save Model\n",
    "\n",
    "df = df_.copy()\n"
   ]
  },
  {
   "cell_type": "code",
   "execution_count": 55,
   "id": "ccacb133",
   "metadata": {
    "execution": {
     "iopub.execute_input": "2025-04-21T03:49:48.903209Z",
     "iopub.status.busy": "2025-04-21T03:49:48.902927Z",
     "iopub.status.idle": "2025-04-21T03:49:52.711369Z",
     "shell.execute_reply": "2025-04-21T03:49:52.710561Z"
    },
    "papermill": {
     "duration": 3.832686,
     "end_time": "2025-04-21T03:49:52.712683",
     "exception": false,
     "start_time": "2025-04-21T03:49:48.879997",
     "status": "completed"
    },
    "tags": []
   },
   "outputs": [
    {
     "name": "stderr",
     "output_type": "stream",
     "text": [
      "/usr/local/lib/python3.10/dist-packages/xgboost/core.py:160: UserWarning: [03:49:49] WARNING: /workspace/src/common/error_msg.cc:27: The tree method `gpu_hist` is deprecated since 2.0.0. To use GPU training, set the `device` parameter to CUDA instead.\n",
      "\n",
      "    E.g. tree_method = \"hist\", device = \"cuda\"\n",
      "\n",
      "  warnings.warn(smsg, UserWarning)\n"
     ]
    },
    {
     "name": "stdout",
     "output_type": "stream",
     "text": [
      "Train RMSE: 0.60\n",
      "Train R2 Score: 0.74\n"
     ]
    }
   ],
   "source": [
    "# Model Evaluation on training set\n",
    "y_pred = pipeline.predict(X_train)\n",
    "mse = mean_squared_error(y_train, y_pred)\n",
    "rmse = np.sqrt(mse)\n",
    "r2 = r2_score(y_train, y_pred)\n",
    "\n",
    "train_accs['Stacking'] = {'RMSE': rmse, 'R2_Score': r2}\n",
    "\n",
    "print(f\"Train RMSE: {rmse:.2f}\")\n",
    "print(f\"Train R2 Score: {r2:.2f}\")"
   ]
  },
  {
   "cell_type": "code",
   "execution_count": 56,
   "id": "045f048b",
   "metadata": {
    "execution": {
     "iopub.execute_input": "2025-04-21T03:49:52.759239Z",
     "iopub.status.busy": "2025-04-21T03:49:52.758949Z",
     "iopub.status.idle": "2025-04-21T03:49:53.742550Z",
     "shell.execute_reply": "2025-04-21T03:49:53.741750Z"
    },
    "papermill": {
     "duration": 1.007937,
     "end_time": "2025-04-21T03:49:53.743969",
     "exception": false,
     "start_time": "2025-04-21T03:49:52.736032",
     "status": "completed"
    },
    "tags": []
   },
   "outputs": [
    {
     "name": "stdout",
     "output_type": "stream",
     "text": [
      "Test RMSE: 0.70\n",
      "Test R2 Score: 0.65\n"
     ]
    }
   ],
   "source": [
    "# Model Evaluation on test set\n",
    "y_pred = pipeline.predict(X_test)\n",
    "mse = mean_squared_error(y_test, y_pred)\n",
    "rmse = np.sqrt(mse)\n",
    "r2 = r2_score(y_test, y_pred)\n",
    "\n",
    "test_accs['Stacking'] = {'RMSE': rmse, 'R2_Score': r2}\n",
    "\n",
    "print(f\"Test RMSE: {rmse:.2f}\")\n",
    "print(f\"Test R2 Score: {r2:.2f}\")"
   ]
  },
  {
   "cell_type": "code",
   "execution_count": 57,
   "id": "2835938e",
   "metadata": {
    "execution": {
     "iopub.execute_input": "2025-04-21T03:49:53.791114Z",
     "iopub.status.busy": "2025-04-21T03:49:53.790834Z",
     "iopub.status.idle": "2025-04-21T03:50:01.417786Z",
     "shell.execute_reply": "2025-04-21T03:50:01.417078Z"
    },
    "papermill": {
     "duration": 7.651894,
     "end_time": "2025-04-21T03:50:01.419193",
     "exception": false,
     "start_time": "2025-04-21T03:49:53.767299",
     "status": "completed"
    },
    "tags": []
   },
   "outputs": [
    {
     "name": "stderr",
     "output_type": "stream",
     "text": [
      "\u001b[31m2025/04/21 03:50:01 WARNING mlflow.models.model: Model logged without a signature and input example. Please set `input_example` parameter when logging the model to auto infer the model signature.\u001b[0m\n"
     ]
    }
   ],
   "source": [
    "# Tracking model\n",
    "with mlflow.start_run(run_name=\"stacking\"):\n",
    "    \n",
    "\n",
    "    mlflow.log_params(grid_search.best_params_)\n",
    "    mlflow.log_metric(\"rmse\", rmse)\n",
    "    mlflow.log_metric(\"r2\", r2)\n",
    "\n",
    "    mlflow.sklearn.log_model(best_model, \"stacking_model\")"
   ]
  },
  {
   "cell_type": "code",
   "execution_count": 58,
   "id": "11284011",
   "metadata": {
    "execution": {
     "iopub.execute_input": "2025-04-21T03:50:01.465449Z",
     "iopub.status.busy": "2025-04-21T03:50:01.465192Z",
     "iopub.status.idle": "2025-04-21T03:50:01.473458Z",
     "shell.execute_reply": "2025-04-21T03:50:01.472532Z"
    },
    "papermill": {
     "duration": 0.032435,
     "end_time": "2025-04-21T03:50:01.474820",
     "exception": false,
     "start_time": "2025-04-21T03:50:01.442385",
     "status": "completed"
    },
    "tags": []
   },
   "outputs": [
    {
     "name": "stdout",
     "output_type": "stream",
     "text": [
      "                Model  Train RMSE  Test RMSE  Train R2_Score  Test R2_Score\n",
      "0       Random Forest    0.531282   0.695523        0.796620       0.651308\n",
      "1  Random Forest(PCA)    0.417449   0.809764        0.874436       0.527354\n",
      "2                 SVR    0.837547   0.833075        0.494553       0.499749\n",
      "3             XGBoost    0.536989   0.700816        0.792227       0.645980\n",
      "4            LightGBM    0.572864   0.701483        0.763538       0.645307\n",
      "5      Neural Network    0.702107   0.745891        0.644807       0.598976\n",
      "6            Stacking    0.598100   0.698591        0.742247       0.648225\n"
     ]
    }
   ],
   "source": [
    "rows = []\n",
    "for model in train_accs:\n",
    "    train_rmse = train_accs[model]['RMSE']\n",
    "    test_rmse = test_accs[model]['RMSE']\n",
    "    train_r2 = train_accs[model]['R2_Score']\n",
    "    test_r2 = test_accs[model]['R2_Score']\n",
    "    \n",
    "    rows.append({\n",
    "        'Model': model,\n",
    "        'Train RMSE': train_rmse,\n",
    "        'Test RMSE': test_rmse,\n",
    "        'Train R2_Score': train_r2,\n",
    "        'Test R2_Score': test_r2,\n",
    "    })\n",
    "\n",
    "# Create the DataFrame\n",
    "models_df = pd.DataFrame(rows)\n",
    "print(models_df)"
   ]
  }
 ],
 "metadata": {
  "kaggle": {
   "accelerator": "nvidiaTeslaT4",
   "dataSources": [
    {
     "datasetId": 2499213,
     "sourceId": 4240577,
     "sourceType": "datasetVersion"
    },
    {
     "datasetId": 6748024,
     "sourceId": 10862492,
     "sourceType": "datasetVersion"
    },
    {
     "datasetId": 6852163,
     "sourceId": 11006651,
     "sourceType": "datasetVersion"
    },
    {
     "datasetId": 6859774,
     "sourceId": 11017190,
     "sourceType": "datasetVersion"
    },
    {
     "datasetId": 7033847,
     "sourceId": 11255171,
     "sourceType": "datasetVersion"
    }
   ],
   "dockerImageVersionId": 30840,
   "isGpuEnabled": true,
   "isInternetEnabled": true,
   "language": "python",
   "sourceType": "notebook"
  },
  "kernelspec": {
   "display_name": "Python 3",
   "language": "python",
   "name": "python3"
  },
  "language_info": {
   "codemirror_mode": {
    "name": "ipython",
    "version": 3
   },
   "file_extension": ".py",
   "mimetype": "text/x-python",
   "name": "python",
   "nbconvert_exporter": "python",
   "pygments_lexer": "ipython3",
   "version": "3.10.12"
  },
  "papermill": {
   "default_parameters": {},
   "duration": 9736.773455,
   "end_time": "2025-04-21T03:50:05.344106",
   "environment_variables": {},
   "exception": null,
   "input_path": "__notebook__.ipynb",
   "output_path": "__notebook__.ipynb",
   "parameters": {},
   "start_time": "2025-04-21T01:07:48.570651",
   "version": "2.6.0"
  }
 },
 "nbformat": 4,
 "nbformat_minor": 5
}
